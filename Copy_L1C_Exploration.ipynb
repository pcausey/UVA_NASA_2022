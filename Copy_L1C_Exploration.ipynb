{
 "cells": [
  {
   "cell_type": "markdown",
   "id": "76fa37d8-0e39-4db6-b34d-5606fd3f5f6d",
   "metadata": {},
   "source": [
    "# L1C Formatting Eploration\n",
    "Stephen Whetzel"
   ]
  },
  {
   "cell_type": "code",
   "execution_count": 1,
   "id": "08eeba1e-a972-439a-a393-c0c2220e19d7",
   "metadata": {},
   "outputs": [],
   "source": [
    "import pandas as pd\n",
    "import h5py\n",
    "from pyhdf.SD import SD, SDC\n",
    "import matplotlib.pyplot as plt\n",
    "import os\n",
    "import seaborn as sns\n",
    "import numpy as np\n",
    "import plotly.graph_objects as go\n",
    "# os.chdir('C:\\\\Users\\\\whetz\\\\Documents\\\\UVA MSDS\\\\NASA\\\\hdf_files')\n",
    "os.chdir('/Users/jackpeele/Documents/Data Science/NASA/HDF')\n",
    "import icare"
   ]
  },
  {
   "cell_type": "code",
   "execution_count": 2,
   "id": "fc4562ab-53b0-4dad-8baa-e856811e1f0f",
   "metadata": {},
   "outputs": [
    {
     "name": "stdin",
     "output_type": "stream",
     "text": [
      "ICARE Username: jpeele\n",
      "ICARE Password: ···············\n"
     ]
    }
   ],
   "source": [
    "# os.chdir('C:\\\\Users\\\\whetz\\\\Documents\\\\UVA MSDS\\\\NASA\\\\hdf_files')\n",
    "session = icare.ICARESession('/Users/jackpeele/Documents/Data Science/NASA/HDF')"
   ]
  },
  {
   "cell_type": "code",
   "execution_count": 3,
   "id": "7b718c37-f7d9-48f1-beab-3370d6efe5bb",
   "metadata": {},
   "outputs": [
    {
     "data": {
      "text/plain": [
       "'/Users/jackpeele/Documents/Data Science/NASA/HDF/PARASOL/L1_B-HDF.v1.00/2008/2008_06_01/POLDER3_L1B-BG1-080146M_2008-06-01T00-08-19_V1-00.h5'"
      ]
     },
     "execution_count": 3,
     "metadata": {},
     "output_type": "execute_result"
    }
   ],
   "source": [
    "path='PARASOL/L1_B-HDF.v1.00/2008/2008_06_01'\n",
    "file_list = list(session.listdir(path))\n",
    "file_path = path + '/' + file_list[0]\n",
    "session.get_file(file_path)"
   ]
  },
  {
   "cell_type": "code",
   "execution_count": 4,
   "id": "36c20583-d532-413f-82a7-f94ef60e3363",
   "metadata": {},
   "outputs": [],
   "source": [
    "f = h5py.File('PARASOL/L1_B-HDF.v1.00/2008/2008_06_01/POLDER3_L1B-BG1-080146M_2008-06-01T00-08-19_V1-00.h5', 'r')"
   ]
  },
  {
   "cell_type": "code",
   "execution_count": 5,
   "id": "02e2aeda-2ad2-4d7c-947b-e14a4302184c",
   "metadata": {},
   "outputs": [
    {
     "data": {
      "text/plain": [
       "'PARASOL/L1_B-HDF.v1.00/2008/2008_06_01/POLDER3_L1B-BG1-080146M_2008-06-01T00-08-19_V1-00.h5'"
      ]
     },
     "execution_count": 5,
     "metadata": {},
     "output_type": "execute_result"
    }
   ],
   "source": [
    "file_path"
   ]
  },
  {
   "cell_type": "code",
   "execution_count": 6,
   "id": "2b1bee22-700f-4ca2-a81e-28eda095c417",
   "metadata": {},
   "outputs": [
    {
     "data": {
      "text/plain": [
       "<HDF5 file \"POLDER3_L1B-BG1-080146M_2008-06-01T00-08-19_V1-00.h5\" (mode r)>"
      ]
     },
     "execution_count": 6,
     "metadata": {},
     "output_type": "execute_result"
    }
   ],
   "source": [
    "f"
   ]
  },
  {
   "cell_type": "code",
   "execution_count": 7,
   "id": "a661b03a-8d0e-4745-8835-0643ca003937",
   "metadata": {},
   "outputs": [
    {
     "data": {
      "text/plain": [
       "array([  0,  50, 100], dtype=uint8)"
      ]
     },
     "execution_count": 7,
     "metadata": {},
     "output_type": "execute_result"
    }
   ],
   "source": [
    "cloud_arr = np.array(f['Data_Fields']['cloud_indicator'])\n",
    "np.unique(cloud_arr[np.where(cloud_arr != 255)])"
   ]
  },
  {
   "cell_type": "code",
   "execution_count": 8,
   "id": "3767c7b9-97e4-4bfd-b5e2-f08204abef00",
   "metadata": {},
   "outputs": [
    {
     "data": {
      "text/plain": [
       "['CCD_column',\n",
       " 'CCD_row',\n",
       " 'I1020NP',\n",
       " 'I443NP',\n",
       " 'I490P',\n",
       " 'I565NP',\n",
       " 'I670P',\n",
       " 'I763NP',\n",
       " 'I765NP',\n",
       " 'I865P',\n",
       " 'I910NP',\n",
       " 'Q490P',\n",
       " 'Q670P',\n",
       " 'Q865P',\n",
       " 'U490P',\n",
       " 'U670P',\n",
       " 'U865P',\n",
       " 'delta_thetav.cosphi',\n",
       " 'delta_thetav.sinphi',\n",
       " 'phi',\n",
       " 'sequence_number',\n",
       " 'thetas',\n",
       " 'thetav']"
      ]
     },
     "execution_count": 8,
     "metadata": {},
     "output_type": "execute_result"
    }
   ],
   "source": [
    "list(f['Data_Directional_Fields'].keys())"
   ]
  },
  {
   "cell_type": "code",
   "execution_count": 9,
   "id": "e984c451-eb36-4c99-aafc-21194353777f",
   "metadata": {},
   "outputs": [
    {
     "data": {
      "text/plain": [
       "['Latitude',\n",
       " 'Longitude',\n",
       " 'column_number',\n",
       " 'land_sea_flag',\n",
       " 'row_number',\n",
       " 'surface_altitude']"
      ]
     },
     "execution_count": 9,
     "metadata": {},
     "output_type": "execute_result"
    }
   ],
   "source": [
    "list(f['Geolocation_Fields'])"
   ]
  },
  {
   "cell_type": "code",
   "execution_count": 10,
   "id": "9c6e9542-8de9-4f10-b494-0ca931bd5fdf",
   "metadata": {},
   "outputs": [
    {
     "data": {
      "text/plain": [
       "['Nviews', 'cloud_indicator', 'phis']"
      ]
     },
     "execution_count": 10,
     "metadata": {},
     "output_type": "execute_result"
    }
   ],
   "source": [
    "list(f['Data_Fields'])"
   ]
  },
  {
   "cell_type": "code",
   "execution_count": 11,
   "id": "6260d799-dc63-45b8-8c93-bc8a1e111922",
   "metadata": {},
   "outputs": [
    {
     "data": {
      "text/plain": [
       "['Quality_Flags_01',\n",
       " 'Quality_Flags_02',\n",
       " 'Quality_Flags_03',\n",
       " 'Quality_Flags_04',\n",
       " 'Quality_Flags_05',\n",
       " 'Quality_Flags_06',\n",
       " 'Quality_Flags_07',\n",
       " 'Quality_Flags_08',\n",
       " 'Quality_Flags_09',\n",
       " 'Quality_Flags_10',\n",
       " 'Quality_Flags_11',\n",
       " 'Quality_Flags_12',\n",
       " 'Quality_Flags_13',\n",
       " 'Quality_Flags_14']"
      ]
     },
     "execution_count": 11,
     "metadata": {},
     "output_type": "execute_result"
    }
   ],
   "source": [
    "list(f['Quality_Flags_Directional_Fields'])"
   ]
  },
  {
   "cell_type": "code",
   "execution_count": 12,
   "id": "dc562c11-1bc5-47bd-97ca-bb5a0236978e",
   "metadata": {},
   "outputs": [
    {
     "data": {
      "text/plain": [
       "(3240, 6480, 16)"
      ]
     },
     "execution_count": 12,
     "metadata": {},
     "output_type": "execute_result"
    }
   ],
   "source": [
    "temp = f['Quality_Flags_Directional_Fields']\n",
    "np.array(temp['Quality_Flags_01']).shape"
   ]
  },
  {
   "cell_type": "code",
   "execution_count": 13,
   "id": "bdd6919d-bfc2-4702-9c48-7d49b5d97801",
   "metadata": {},
   "outputs": [
    {
     "ename": "ValueError",
     "evalue": "cannot convert float NaN to integer",
     "output_type": "error",
     "traceback": [
      "\u001b[0;31m---------------------------------------------------------------------------\u001b[0m",
      "\u001b[0;31mValueError\u001b[0m                                Traceback (most recent call last)",
      "\u001b[0;32m<ipython-input-13-0d7ae85c0513>\u001b[0m in \u001b[0;36m<module>\u001b[0;34m\u001b[0m\n\u001b[1;32m      2\u001b[0m \u001b[0mthetas_ds\u001b[0m \u001b[0;34m=\u001b[0m \u001b[0mf\u001b[0m\u001b[0;34m[\u001b[0m\u001b[0;34m'Data_Directional_Fields'\u001b[0m\u001b[0;34m]\u001b[0m\u001b[0;34m[\u001b[0m\u001b[0;34m'thetas'\u001b[0m\u001b[0;34m]\u001b[0m\u001b[0;34m\u001b[0m\u001b[0;34m\u001b[0m\u001b[0m\n\u001b[1;32m      3\u001b[0m \u001b[0mthetas\u001b[0m \u001b[0;34m=\u001b[0m \u001b[0mnp\u001b[0m\u001b[0;34m.\u001b[0m\u001b[0marray\u001b[0m\u001b[0;34m(\u001b[0m\u001b[0mthetas_ds\u001b[0m\u001b[0;34m)\u001b[0m\u001b[0;34m\u001b[0m\u001b[0;34m\u001b[0m\u001b[0m\n\u001b[0;32m----> 4\u001b[0;31m \u001b[0mthetas\u001b[0m\u001b[0;34m[\u001b[0m\u001b[0mnp\u001b[0m\u001b[0;34m.\u001b[0m\u001b[0mwhere\u001b[0m\u001b[0;34m(\u001b[0m\u001b[0mthetas\u001b[0m \u001b[0;34m==\u001b[0m \u001b[0;36m65535\u001b[0m\u001b[0;34m)\u001b[0m\u001b[0;34m]\u001b[0m \u001b[0;34m=\u001b[0m \u001b[0mnp\u001b[0m\u001b[0;34m.\u001b[0m\u001b[0mnan\u001b[0m\u001b[0;34m\u001b[0m\u001b[0;34m\u001b[0m\u001b[0m\n\u001b[0m\u001b[1;32m      5\u001b[0m \u001b[0mthetas\u001b[0m \u001b[0;34m=\u001b[0m \u001b[0mthetas\u001b[0m\u001b[0;34m*\u001b[0m\u001b[0mtheta_scale\u001b[0m\u001b[0;34m\u001b[0m\u001b[0;34m\u001b[0m\u001b[0m\n\u001b[1;32m      6\u001b[0m \u001b[0mthetas\u001b[0m\u001b[0;34m\u001b[0m\u001b[0;34m\u001b[0m\u001b[0m\n",
      "\u001b[0;31mValueError\u001b[0m: cannot convert float NaN to integer"
     ]
    }
   ],
   "source": [
    "theta_scale = .0015\n",
    "thetas_ds = f['Data_Directional_Fields']['thetas']\n",
    "thetas = np.array(thetas_ds)\n",
    "thetas[np.where(thetas == 65535)] = np.nan\n",
    "thetas = thetas*theta_scale\n",
    "thetas"
   ]
  },
  {
   "cell_type": "code",
   "execution_count": 14,
   "id": "e9bbd0dd-3d2b-44e5-9224-5ba129efed05",
   "metadata": {},
   "outputs": [
    {
     "data": {
      "text/plain": [
       "array([    0,  7495,  7503, ..., 60494, 60515, 65535], dtype=uint16)"
      ]
     },
     "execution_count": 14,
     "metadata": {},
     "output_type": "execute_result"
    }
   ],
   "source": [
    "angles = np.unique(np.round(thetas))\n",
    "angles"
   ]
  },
  {
   "cell_type": "code",
   "execution_count": 15,
   "id": "22795dd5-a30a-479b-a4c5-bb0d744c5672",
   "metadata": {},
   "outputs": [
    {
     "data": {
      "text/plain": [
       "array([[[65535, 65535, 65535, ..., 65535, 65535, 65535],\n",
       "        [65535, 65535, 65535, ..., 65535, 65535, 65535],\n",
       "        [65535, 65535, 65535, ..., 65535, 65535, 65535],\n",
       "        ...,\n",
       "        [65535, 65535, 65535, ..., 65535, 65535, 65535],\n",
       "        [65535, 65535, 65535, ..., 65535, 65535, 65535],\n",
       "        [65535, 65535, 65535, ..., 65535, 65535, 65535]],\n",
       "\n",
       "       [[65535, 65535, 65535, ..., 65535, 65535, 65535],\n",
       "        [65535, 65535, 65535, ..., 65535, 65535, 65535],\n",
       "        [65535, 65535, 65535, ..., 65535, 65535, 65535],\n",
       "        ...,\n",
       "        [65535, 65535, 65535, ..., 65535, 65535, 65535],\n",
       "        [65535, 65535, 65535, ..., 65535, 65535, 65535],\n",
       "        [65535, 65535, 65535, ..., 65535, 65535, 65535]],\n",
       "\n",
       "       [[65535, 65535, 65535, ..., 65535, 65535, 65535],\n",
       "        [65535, 65535, 65535, ..., 65535, 65535, 65535],\n",
       "        [65535, 65535, 65535, ..., 65535, 65535, 65535],\n",
       "        ...,\n",
       "        [65535, 65535, 65535, ..., 65535, 65535, 65535],\n",
       "        [65535, 65535, 65535, ..., 65535, 65535, 65535],\n",
       "        [65535, 65535, 65535, ..., 65535, 65535, 65535]],\n",
       "\n",
       "       ...,\n",
       "\n",
       "       [[65535, 65535, 65535, ..., 65535, 65535, 65535],\n",
       "        [65535, 65535, 65535, ..., 65535, 65535, 65535],\n",
       "        [65535, 65535, 65535, ..., 65535, 65535, 65535],\n",
       "        ...,\n",
       "        [65535, 65535, 65535, ..., 65535, 65535, 65535],\n",
       "        [65535, 65535, 65535, ..., 65535, 65535, 65535],\n",
       "        [65535, 65535, 65535, ..., 65535, 65535, 65535]],\n",
       "\n",
       "       [[65535, 65535, 65535, ..., 65535, 65535, 65535],\n",
       "        [65535, 65535, 65535, ..., 65535, 65535, 65535],\n",
       "        [65535, 65535, 65535, ..., 65535, 65535, 65535],\n",
       "        ...,\n",
       "        [65535, 65535, 65535, ..., 65535, 65535, 65535],\n",
       "        [65535, 65535, 65535, ..., 65535, 65535, 65535],\n",
       "        [65535, 65535, 65535, ..., 65535, 65535, 65535]],\n",
       "\n",
       "       [[65535, 65535, 65535, ..., 65535, 65535, 65535],\n",
       "        [65535, 65535, 65535, ..., 65535, 65535, 65535],\n",
       "        [65535, 65535, 65535, ..., 65535, 65535, 65535],\n",
       "        ...,\n",
       "        [65535, 65535, 65535, ..., 65535, 65535, 65535],\n",
       "        [65535, 65535, 65535, ..., 65535, 65535, 65535],\n",
       "        [65535, 65535, 65535, ..., 65535, 65535, 65535]]], dtype=uint16)"
      ]
     },
     "execution_count": 15,
     "metadata": {},
     "output_type": "execute_result"
    }
   ],
   "source": [
    "# phi_scale = .006\n",
    "ds = f['Data_Directional_Fields']['I490P']\n",
    "arr = np.array(ds)\n",
    "# inds = np.where(arr != 0)\n",
    "thetas"
   ]
  },
  {
   "cell_type": "code",
   "execution_count": 16,
   "id": "db665ce2-a50e-438e-8f8e-7a1e5bf3bf05",
   "metadata": {},
   "outputs": [
    {
     "data": {
      "text/plain": [
       "(3240, 6480, 16)"
      ]
     },
     "execution_count": 16,
     "metadata": {},
     "output_type": "execute_result"
    }
   ],
   "source": [
    "thetas.shape"
   ]
  },
  {
   "cell_type": "code",
   "execution_count": 17,
   "id": "c2b22c12-b35b-4daa-82e8-bde77faba327",
   "metadata": {},
   "outputs": [
    {
     "name": "stdout",
     "output_type": "stream",
     "text": [
      "7495\n",
      "65535\n"
     ]
    }
   ],
   "source": [
    "temp = thetas[np.where(thetas != 0)]\n",
    "print(np.min(temp))\n",
    "print(np.max(temp))"
   ]
  },
  {
   "cell_type": "code",
   "execution_count": 18,
   "id": "cba1696a-1267-4e49-bd50-8ee8ede99dea",
   "metadata": {},
   "outputs": [
    {
     "data": {
      "text/plain": [
       "['DIMENSION_LABELS',\n",
       " 'HDF_Calibration_Equation',\n",
       " 'Num_Fill',\n",
       " 'Num_Valid',\n",
       " 'Num_missing_value',\n",
       " '_FillValue',\n",
       " 'actual_range',\n",
       " 'add_offset',\n",
       " 'add_offset_err',\n",
       " 'long_name',\n",
       " 'missing_value',\n",
       " 'scale_factor',\n",
       " 'scale_factor_err',\n",
       " 'units']"
      ]
     },
     "execution_count": 18,
     "metadata": {},
     "output_type": "execute_result"
    }
   ],
   "source": [
    "ds = f['Data_Directional_Fields']['phi']\n",
    "ds.attrs['scale_factor']\n",
    "list(ds.attrs)"
   ]
  },
  {
   "cell_type": "markdown",
   "id": "9a071ee9-7597-41c6-ba7a-d99a1e73ee4e",
   "metadata": {},
   "source": [
    "# NETCDF4"
   ]
  },
  {
   "cell_type": "code",
   "execution_count": 16,
   "id": "176c6470-ac1e-4f4c-b9c1-c989bc8399f5",
   "metadata": {},
   "outputs": [
    {
     "data": {
      "text/plain": [
       "dict_keys(['bin_attributes', 'geolocation_data', 'observation_data', 'sensor_views_bands'])"
      ]
     },
     "execution_count": 16,
     "metadata": {},
     "output_type": "execute_result"
    }
   ],
   "source": [
    "os.chdir('C:\\\\Users\\\\whetz\\\\Documents\\\\UVA MSDS\\\\NASA\\\\hdf_files\\\\NCDF_Files')\n",
    "from netCDF4 import Dataset\n",
    "import netCDF4\n",
    "nc = Dataset(\"PACE_SPEXONE_SIM.20170115T015622.L1C.5km.nc\", \"r\", format=\"NETCDF4\")\n",
    "nc.groups.keys()"
   ]
  },
  {
   "cell_type": "code",
   "execution_count": 17,
   "id": "f3a06e04-c215-4712-ac2e-11200a5f7d32",
   "metadata": {},
   "outputs": [
    {
     "data": {
      "text/plain": [
       "dict_keys(['intensity_bandpasses', 'intensity_F0', 'intensity_wavelengths', 'polarization_bandpasses', 'polarization_F0', 'polarization_wavelengths', 'view_angles'])"
      ]
     },
     "execution_count": 17,
     "metadata": {},
     "output_type": "execute_result"
    }
   ],
   "source": [
    "nc.groups['sensor_views_bands'].variables.keys()"
   ]
  },
  {
   "cell_type": "code",
   "execution_count": 18,
   "id": "aefcb1b9-649a-4426-b8a8-7e95d345c3a3",
   "metadata": {},
   "outputs": [
    {
     "name": "stdout",
     "output_type": "stream",
     "text": [
      "(5,)\n",
      "[58.06579  22.652498  4.424599 22.652498 58.06579 ]\n"
     ]
    },
    {
     "data": {
      "text/plain": [
       "<class 'netCDF4._netCDF4.Variable'>\n",
       "float32 view_angles(number_of_views)\n",
       "    long_name: Along-track view angles for sensor\n",
       "    units: degrees\n",
       "    _FillValue: -999.0\n",
       "    valid_min: -89.0\n",
       "    valid_max: 89.0\n",
       "path = /sensor_views_bands\n",
       "unlimited dimensions: \n",
       "current shape = (5,)\n",
       "filling on"
      ]
     },
     "execution_count": 18,
     "metadata": {},
     "output_type": "execute_result"
    }
   ],
   "source": [
    "view_angles = np.array(nc.groups['sensor_views_bands']['view_angles'])\n",
    "print(view_angles.shape)\n",
    "print(view_angles)\n",
    "nc.groups['sensor_views_bands']['view_angles']"
   ]
  },
  {
   "cell_type": "code",
   "execution_count": 19,
   "id": "392f96e4-f6a7-4caf-bcb0-717383c42f91",
   "metadata": {},
   "outputs": [],
   "source": [
    "solar_zenith = nc.groups['geolocation_data']['solar_zenith']"
   ]
  },
  {
   "cell_type": "code",
   "execution_count": 20,
   "id": "73ef885c-ce51-496b-8b3b-b5a018821ce3",
   "metadata": {},
   "outputs": [
    {
     "name": "stdout",
     "output_type": "stream",
     "text": [
      "(5, 400)\n"
     ]
    },
    {
     "data": {
      "text/plain": [
       "array([[380.    , 381.0125, 382.025 , ..., 781.9625, 782.975 , 783.9875],\n",
       "       [380.    , 381.0125, 382.025 , ..., 781.9625, 782.975 , 783.9875],\n",
       "       [380.    , 381.0125, 382.025 , ..., 781.9625, 782.975 , 783.9875],\n",
       "       [380.    , 381.0125, 382.025 , ..., 781.9625, 782.975 , 783.9875],\n",
       "       [380.    , 381.0125, 382.025 , ..., 781.9625, 782.975 , 783.9875]],\n",
       "      dtype=float32)"
      ]
     },
     "execution_count": 20,
     "metadata": {},
     "output_type": "execute_result"
    }
   ],
   "source": [
    "wavelengths = np.array(nc.groups['sensor_views_bands']['intensity_wavelengths'])\n",
    "print(wavelengths.shape)\n",
    "wavelengths"
   ]
  },
  {
   "cell_type": "code",
   "execution_count": 27,
   "id": "307acb1b-81d6-4c84-8a19-47dc5095bae3",
   "metadata": {},
   "outputs": [],
   "source": [
    "obs_data = nc.groups['observation_data']"
   ]
  },
  {
   "cell_type": "code",
   "execution_count": 22,
   "id": "52d1396f-7776-46f7-8793-688f084a82af",
   "metadata": {},
   "outputs": [
    {
     "name": "stdout",
     "output_type": "stream",
     "text": [
      "(3568, 20, 5, 50)\n"
     ]
    },
    {
     "data": {
      "text/plain": [
       "<class 'netCDF4._netCDF4.Variable'>\n",
       "float32 DOLP_noise(bins_along_track, bins_across_track, number_of_views, polarization_bands_per_view)\n",
       "    long_name: Random noise of DOLP in bin\n",
       "    _FillValue: -999.0\n",
       "    valid_min: 0.0\n",
       "    valid_max: 1.0\n",
       "path = /observation_data\n",
       "unlimited dimensions: \n",
       "current shape = (3568, 20, 5, 50)\n",
       "filling on"
      ]
     },
     "execution_count": 22,
     "metadata": {},
     "output_type": "execute_result"
    }
   ],
   "source": [
    "varname = 'DOLP_noise'\n",
    "variable = obs_data[varname]\n",
    "I_nf = np.array(variable)\n",
    "print(I_nf.shape)\n",
    "variable"
   ]
  },
  {
   "cell_type": "code",
   "execution_count": 23,
   "id": "0eb10c3a-8b77-487f-88ab-1a23299c3a39",
   "metadata": {},
   "outputs": [
    {
     "data": {
      "text/plain": [
       "array([0.003, 0.003, 0.003, 0.003, 0.003, 0.003, 0.003, 0.003, 0.003,\n",
       "       0.003, 0.003, 0.003, 0.003, 0.003, 0.003, 0.003, 0.003, 0.003,\n",
       "       0.003, 0.003, 0.003, 0.003, 0.003, 0.003, 0.003, 0.003, 0.003,\n",
       "       0.003, 0.003, 0.003, 0.003, 0.003, 0.003, 0.003, 0.003, 0.003,\n",
       "       0.003, 0.003, 0.003, 0.003, 0.003, 0.003, 0.003, 0.003, 0.003,\n",
       "       0.003, 0.003, 0.003, 0.003, 0.003], dtype=float32)"
      ]
     },
     "execution_count": 23,
     "metadata": {},
     "output_type": "execute_result"
    }
   ],
   "source": [
    "I_nf[0][0][0]"
   ]
  },
  {
   "cell_type": "code",
   "execution_count": 24,
   "id": "bd5e4cae-4d68-4770-900c-d618cbc273a3",
   "metadata": {},
   "outputs": [
    {
     "data": {
      "text/plain": [
       "array([[-171.90573, -171.78265, -171.65993, ..., -169.85051, -169.73131,\n",
       "        -169.6122 ],\n",
       "       [-171.95668, -171.8338 , -171.71126, ..., -169.9044 , -169.78535,\n",
       "        -169.6664 ],\n",
       "       [-172.00748, -171.88477, -171.7624 , ..., -169.9581 , -169.83922,\n",
       "        -169.72043],\n",
       "       ...,\n",
       "       [ 131.7372 ,  131.85594,  131.97478, ...,  133.77827,  133.90059,\n",
       "         134.02324],\n",
       "       [ 131.68323,  131.80214,  131.92113, ...,  133.72719,  133.84967,\n",
       "         133.9725 ],\n",
       "       [ 131.62909,  131.74815,  131.86731, ...,  133.67592,  133.79858,\n",
       "         133.9216 ]], dtype=float32)"
      ]
     },
     "execution_count": 24,
     "metadata": {},
     "output_type": "execute_result"
    }
   ],
   "source": [
    "lon = nc.groups['geolocation_data'].variables['longitude']\n",
    "np.array(lon)"
   ]
  },
  {
   "cell_type": "markdown",
   "id": "98b6f21f-4998-446f-9621-31e5b68938a7",
   "metadata": {},
   "source": [
    "# Create Example File (nc)"
   ]
  },
  {
   "cell_type": "code",
   "execution_count": 252,
   "id": "24d649a6-cbaa-4595-a66e-e0b5f43d4d0c",
   "metadata": {},
   "outputs": [],
   "source": [
    "# Get variables from existing .nc file\n",
    "lons = nc.groups['geolocation_data']['longitude']\n",
    "lats = nc.groups['geolocation_data']['latitude']\n",
    "rel_azimuth = nc.groups['geolocation_data']['solar_azimuth']"
   ]
  },
  {
   "cell_type": "code",
   "execution_count": 287,
   "id": "c526f237-8696-4a03-840e-8d091077dae7",
   "metadata": {},
   "outputs": [
    {
     "data": {
      "text/plain": [
       "{'geolocation_data': {'longitude': {'scale': 1,\n",
       "   'long_name': 'Longitudes of bin locations',\n",
       "   'units': 'degrees_east',\n",
       "   'fill_value': -999.0,\n",
       "   'shape': (3568, 20),\n",
       "   'array': array([[-171.90573, -171.78265, -171.65993, ..., -169.85051, -169.73131,\n",
       "           -169.6122 ],\n",
       "          [-171.95668, -171.8338 , -171.71126, ..., -169.9044 , -169.78535,\n",
       "           -169.6664 ],\n",
       "          [-172.00748, -171.88477, -171.7624 , ..., -169.9581 , -169.83922,\n",
       "           -169.72043],\n",
       "          ...,\n",
       "          [ 131.7372 ,  131.85594,  131.97478, ...,  133.77827,  133.90059,\n",
       "            134.02324],\n",
       "          [ 131.68323,  131.80214,  131.92113, ...,  133.72719,  133.84967,\n",
       "            133.9725 ],\n",
       "          [ 131.62909,  131.74815,  131.86731, ...,  133.67592,  133.79858,\n",
       "            133.9216 ]], dtype=float32)},\n",
       "  'latitude': {'scale': 1,\n",
       "   'long_name': 'Latitudes of bin locations',\n",
       "   'units': 'degrees_north',\n",
       "   'fill_value': -999.0,\n",
       "   'shape': (3568, 20),\n",
       "   'array': array([[-70.505066, -70.48712 , -70.46911 , ..., -70.189995, -70.17069 ,\n",
       "           -70.15129 ],\n",
       "          [-70.46805 , -70.450134, -70.43216 , ..., -70.15354 , -70.13428 ,\n",
       "           -70.11491 ],\n",
       "          [-70.43102 , -70.41315 , -70.395195, ..., -70.11708 , -70.09785 ,\n",
       "           -70.078514],\n",
       "          ...,\n",
       "          [ 70.067184,  70.08651 ,  70.10573 , ...,  70.3837  ,  70.40163 ,\n",
       "            70.4195  ],\n",
       "          [ 70.103584,  70.12294 ,  70.1422  , ...,  70.42066 ,  70.43863 ,\n",
       "            70.45653 ],\n",
       "          [ 70.13997 ,  70.15936 ,  70.17865 , ...,  70.45761 ,  70.47562 ,\n",
       "            70.493546]], dtype=float32)},\n",
       "  'solar_azimuth': {'scale': 0.01,\n",
       "   'long_name': 'Solar azimuth angle at bin locations, clockwise from north',\n",
       "   'units': 'degrees from north',\n",
       "   'fill_value': -32768,\n",
       "   'shape': (3568, 20, 5),\n",
       "   'array': array([[[-52.829998, -43.76    , -41.54    , -39.71    , -36.48    ],\n",
       "           [-53.14    , -43.93    , -41.69    , -39.86    , -36.69    ],\n",
       "           [-53.449997, -44.09    , -41.84    , -40.01    , -36.899998],\n",
       "           ...,\n",
       "           [-57.92    , -46.559998, -44.01    , -42.219997, -40.04    ],\n",
       "           [-58.199997, -46.719997, -44.149998, -42.37    , -40.25    ],\n",
       "           [-58.489998, -46.879997, -44.29    , -42.51    , -40.45    ]],\n",
       "   \n",
       "          [[-52.73    , -43.71    , -41.5     , -39.69    , -36.469997],\n",
       "           [-53.039997, -43.879997, -41.649998, -39.84    , -36.68    ],\n",
       "           [-53.35    , -44.04    , -41.8     , -39.989998, -36.89    ],\n",
       "           ...,\n",
       "           [-57.809998, -46.51    , -43.969997, -42.19    , -40.03    ],\n",
       "           [-58.1     , -46.67    , -44.11    , -42.34    , -40.239998],\n",
       "           [-58.379997, -46.829998, -44.26    , -42.489998, -40.44    ]],\n",
       "   \n",
       "          [[-52.629997, -43.66    , -41.469997, -39.66    , -36.46    ],\n",
       "           [-52.94    , -43.829998, -41.62    , -39.809998, -36.67    ],\n",
       "           [-53.25    , -44.      , -41.76    , -39.96    , -36.88    ],\n",
       "           ...,\n",
       "           [-57.71    , -46.46    , -43.93    , -42.17    , -40.02    ],\n",
       "           [-57.989998, -46.62    , -44.07    , -42.309998, -40.219997],\n",
       "           [-58.28    , -46.78    , -44.219997, -42.46    , -40.43    ]],\n",
       "   \n",
       "          ...,\n",
       "   \n",
       "          [[175.42    , 171.4     , 169.08    , 166.06999 , 153.87999 ],\n",
       "           [175.56999 , 171.51    , 169.19    , 166.2     , 154.11    ],\n",
       "           [175.72    , 171.62    , 169.3     , 166.31999 , 154.34999 ],\n",
       "           ...,\n",
       "           [177.94    , 173.29    , 170.98    , 168.26999 , 158.01999 ],\n",
       "           [178.09    , 173.41    , 171.09    , 168.4     , 158.28    ],\n",
       "           [178.23999 , 173.51999 , 171.20999 , 168.54    , 158.54    ]],\n",
       "   \n",
       "          [[175.4     , 171.36    , 169.03    , 166.01    , 153.76999 ],\n",
       "           [175.54    , 171.47    , 169.14    , 166.14    , 154.      ],\n",
       "           [175.69    , 171.58    , 169.25    , 166.26999 , 154.23999 ],\n",
       "           ...,\n",
       "           [177.92    , 173.25    , 170.93    , 168.20999 , 157.92    ],\n",
       "           [178.06999 , 173.37    , 171.05    , 168.34999 , 158.17    ],\n",
       "           [178.22    , 173.48    , 171.16    , 168.48    , 158.43    ]],\n",
       "   \n",
       "          [[175.37    , 171.31999 , 168.98    , 165.95    , 153.66    ],\n",
       "           [175.51999 , 171.43    , 169.09    , 166.08    , 153.89    ],\n",
       "           [175.66    , 171.54    , 169.2     , 166.20999 , 154.12999 ],\n",
       "           ...,\n",
       "           [177.89    , 173.22    , 170.89    , 168.16    , 157.81    ],\n",
       "           [178.04    , 173.33    , 171.      , 168.29    , 158.06999 ],\n",
       "           [178.2     , 173.44    , 171.12    , 168.42    , 158.33    ]]],\n",
       "         dtype=float32)}}}"
      ]
     },
     "execution_count": 287,
     "metadata": {},
     "output_type": "execute_result"
    }
   ],
   "source": [
    "# Dictionary with all of our categories and variables\n",
    "array_dict = {\n",
    "    'geolocation_data':[lons, lats, rel_azimuth]\n",
    "}\n",
    "\n",
    "# dictionary to be populated with all of our variable data/metadata\n",
    "variable_dict = {}\n",
    "\n",
    "# Loop through categories\n",
    "for cat in array_dict.keys():\n",
    "    \n",
    "    # Create category level in variable dict\n",
    "    variable_dict[cat] = {}\n",
    "    \n",
    "    # Loop through variables and populate the dictionary\n",
    "    for var in array_dict[cat]:\n",
    "        name = var.name\n",
    "        \n",
    "        # Create variable dictionary \n",
    "        variable_dict[cat][name] = {}\n",
    "        \n",
    "        # Get scaling factor\n",
    "        try:\n",
    "            scale = var.scale_factor\n",
    "        except:\n",
    "            scale = 1\n",
    "        \n",
    "        # Populate variable dictionary with data & metadata\n",
    "        variable_dict[cat][name]['scale'] = scale\n",
    "        variable_dict[cat][name]['long_name'] = var.long_name\n",
    "        variable_dict[cat][name]['units'] = var.units\n",
    "        variable_dict[cat][name]['fill_value'] = var._FillValue\n",
    "        variable_dict[cat][name]['shape'] = var.shape\n",
    "        variable_dict[cat][name]['array'] = np.array(var)\n",
    "        \n",
    "variable_dict"
   ]
  },
  {
   "cell_type": "code",
   "execution_count": 296,
   "id": "ee35dac9-396e-49b9-83a8-d9fb844f1195",
   "metadata": {},
   "outputs": [
    {
     "name": "stdout",
     "output_type": "stream",
     "text": [
      "longitude\n",
      "latitude\n",
      "solar_azimuth\n"
     ]
    }
   ],
   "source": [
    "example.close()\n",
    "example = Dataset('example.nc', mode='w')\n",
    "\n",
    "for cat in variable_dict.keys():\n",
    "\n",
    "    # Create the category group to store the variables\n",
    "    example.createGroup(cat)\n",
    "    \n",
    "    for var in variable_dict[cat].keys():\n",
    "        print(var)\n",
    "    \n",
    "        # Fill the dimension with variables\n",
    "        dimensions = []\n",
    "        for i in range(len(variable_dict[cat][var]['array'].shape)):\n",
    "            dim_name = f'{var}_{i}'\n",
    "            example.createDimension(dim_name, size=None)\n",
    "            dimensions.append(dim_name)\n",
    "        \n",
    "        # Create the variable instance\n",
    "        example[cat].createVariable(var, datatype='f4', dimensions=dimensions, fill_value=variable_dict[cat][var]['fill_value'])\n",
    "\n",
    "        # Create variable metadata \n",
    "        example[cat][var].long_name = variable_dict[cat][var]['long_name']\n",
    "        example[cat][var].units = variable_dict[cat][var]['units']\n",
    "        example[cat][var].scale_factor = variable_dict[cat][var]['scale']\n",
    "        \n",
    "        # Create variable array \n",
    "        example[cat][var][:] = variable_dict[cat][var]['array']"
   ]
  },
  {
   "cell_type": "code",
   "execution_count": 301,
   "id": "58fdbea5-ca64-42b7-a10c-2a202790b875",
   "metadata": {},
   "outputs": [
    {
     "data": {
      "text/plain": [
       "array([[-171.90573, -171.78265, -171.65993, ..., -169.85051, -169.73131,\n",
       "        -169.6122 ],\n",
       "       [-171.95668, -171.8338 , -171.71126, ..., -169.9044 , -169.78535,\n",
       "        -169.6664 ],\n",
       "       [-172.00748, -171.88477, -171.7624 , ..., -169.9581 , -169.83922,\n",
       "        -169.72043],\n",
       "       ...,\n",
       "       [ 131.7372 ,  131.85594,  131.97478, ...,  133.77827,  133.90059,\n",
       "         134.02324],\n",
       "       [ 131.68323,  131.80214,  131.92113, ...,  133.72719,  133.84967,\n",
       "         133.9725 ],\n",
       "       [ 131.62909,  131.74815,  131.86731, ...,  133.67592,  133.79858,\n",
       "         133.9216 ]], dtype=float32)"
      ]
     },
     "execution_count": 301,
     "metadata": {},
     "output_type": "execute_result"
    }
   ],
   "source": [
    "np.array(example['geolocation_data']['longitude'])"
   ]
  },
  {
   "cell_type": "code",
   "execution_count": 293,
   "id": "cd2d9232-9327-48de-a8e6-ac69b75c124e",
   "metadata": {},
   "outputs": [
    {
     "data": {
      "text/plain": [
       "{'longitude_0': <class 'netCDF4._netCDF4.Dimension'> (unlimited): name = 'longitude_0', size = 0,\n",
       " 'longitude_1': <class 'netCDF4._netCDF4.Dimension'> (unlimited): name = 'longitude_1', size = 0,\n",
       " 'latitude_0': <class 'netCDF4._netCDF4.Dimension'> (unlimited): name = 'latitude_0', size = 0,\n",
       " 'latitude_1': <class 'netCDF4._netCDF4.Dimension'> (unlimited): name = 'latitude_1', size = 0,\n",
       " 'solar_azimuth_0': <class 'netCDF4._netCDF4.Dimension'> (unlimited): name = 'solar_azimuth_0', size = 0,\n",
       " 'solar_azimuth_1': <class 'netCDF4._netCDF4.Dimension'> (unlimited): name = 'solar_azimuth_1', size = 0,\n",
       " 'solar_azimuth_2': <class 'netCDF4._netCDF4.Dimension'> (unlimited): name = 'solar_azimuth_2', size = 0}"
      ]
     },
     "execution_count": 293,
     "metadata": {},
     "output_type": "execute_result"
    }
   ],
   "source": [
    "example.dimensions"
   ]
  },
  {
   "cell_type": "markdown",
   "id": "c74987f1-0134-4f75-ad65-da6bfe07d5ed",
   "metadata": {},
   "source": [
    "# Create example file from h5"
   ]
  },
  {
   "cell_type": "code",
   "execution_count": 19,
   "id": "536f972e-e51b-485f-8ed4-31759b20121f",
   "metadata": {},
   "outputs": [
    {
     "data": {
      "text/plain": [
       "<KeysViewHDF5 ['Data_Directional_Fields', 'Data_Fields', 'Geolocation_Fields', 'Quality_Flags_Directional_Fields']>"
      ]
     },
     "execution_count": 19,
     "metadata": {},
     "output_type": "execute_result"
    }
   ],
   "source": [
    "f.keys()"
   ]
  },
  {
   "cell_type": "code",
   "execution_count": 21,
   "id": "6f8cda4f-d47c-4d48-99c8-2edcec01c8ee",
   "metadata": {},
   "outputs": [
    {
     "data": {
      "text/plain": [
       "<KeysViewHDF5 ['CCD_column', 'CCD_row', 'I1020NP', 'I443NP', 'I490P', 'I565NP', 'I670P', 'I763NP', 'I765NP', 'I865P', 'I910NP', 'Q490P', 'Q670P', 'Q865P', 'U490P', 'U670P', 'U865P', 'delta_thetav.cosphi', 'delta_thetav.sinphi', 'phi', 'sequence_number', 'thetas', 'thetav']>"
      ]
     },
     "execution_count": 21,
     "metadata": {},
     "output_type": "execute_result"
    }
   ],
   "source": [
    "f['Data_Directional_Fields'].keys()"
   ]
  },
  {
   "cell_type": "code",
   "execution_count": 22,
   "id": "fab756b5-8eee-468c-a5c6-0c279c22938c",
   "metadata": {},
   "outputs": [
    {
     "data": {
      "text/plain": [
       "<KeysViewHDF5 ['Latitude', 'Longitude', 'column_number', 'land_sea_flag', 'row_number', 'surface_altitude']>"
      ]
     },
     "execution_count": 22,
     "metadata": {},
     "output_type": "execute_result"
    }
   ],
   "source": [
    "f['Geolocation_Fields'].keys()"
   ]
  },
  {
   "cell_type": "code",
   "execution_count": 33,
   "id": "0456bdc2-984e-42dd-80ac-ee676171fe7f",
   "metadata": {},
   "outputs": [
    {
     "data": {
      "text/plain": [
       "<KeysViewHDF5 ['Nviews', 'cloud_indicator', 'phis']>"
      ]
     },
     "execution_count": 33,
     "metadata": {},
     "output_type": "execute_result"
    }
   ],
   "source": [
    "f['Data_Fields'].keys()"
   ]
  },
  {
   "cell_type": "code",
   "execution_count": 23,
   "id": "1c1d390d-984b-4a94-b5be-c27354525a66",
   "metadata": {},
   "outputs": [
    {
     "data": {
      "text/plain": [
       "(3240, 6480)"
      ]
     },
     "execution_count": 23,
     "metadata": {},
     "output_type": "execute_result"
    }
   ],
   "source": [
    "f['Geolocation_Fields']['Latitude'].shape"
   ]
  },
  {
   "cell_type": "code",
   "execution_count": 32,
   "id": "6469d764-f051-4b28-8ce3-a56793fa10a3",
   "metadata": {},
   "outputs": [
    {
     "name": "stdout",
     "output_type": "stream",
     "text": [
      "(3240, 6480)\n",
      "(3240, 6480)\n"
     ]
    }
   ],
   "source": [
    "print(f['Geolocation_Fields']['Longitude'].shape)\n",
    "print(f['Geolocation_Fields']['Longitude'].shape)"
   ]
  },
  {
   "cell_type": "code",
   "execution_count": 35,
   "id": "20113099-c2be-4d3a-b32d-751a7e5a6827",
   "metadata": {},
   "outputs": [
    {
     "name": "stdout",
     "output_type": "stream",
     "text": [
      "(3240, 6480, 16)\n",
      "(3240, 6480, 16)\n"
     ]
    }
   ],
   "source": [
    "print(f['Data_Directional_Fields']['I1020NP'].shape)\n",
    "print(f['Data_Directional_Fields']['I443NP'].shape)"
   ]
  },
  {
   "cell_type": "code",
   "execution_count": 36,
   "id": "f567b35f-8889-4a21-b65b-74896ca6d276",
   "metadata": {},
   "outputs": [
    {
     "name": "stdout",
     "output_type": "stream",
     "text": [
      "(3240, 6480, 16)\n"
     ]
    }
   ],
   "source": [
    "print(f['Data_Directional_Fields']['thetav'].shape)"
   ]
  },
  {
   "cell_type": "code",
   "execution_count": 38,
   "id": "94e656f9-44c3-4f8d-9f37-23e2c2180cf6",
   "metadata": {},
   "outputs": [
    {
     "name": "stdout",
     "output_type": "stream",
     "text": [
      "(3240, 6480, 16)\n"
     ]
    }
   ],
   "source": [
    "print(f['Data_Directional_Fields']['I490P'].shape)"
   ]
  },
  {
   "cell_type": "code",
   "execution_count": 39,
   "id": "f952cce4-0ad5-41f4-9b4d-817b0dc943f2",
   "metadata": {},
   "outputs": [
    {
     "name": "stdout",
     "output_type": "stream",
     "text": [
      "(3240, 6480, 16)\n"
     ]
    }
   ],
   "source": [
    "print(f['Data_Directional_Fields']['Q490P'].shape)"
   ]
  },
  {
   "cell_type": "code",
   "execution_count": 40,
   "id": "09b8ea60-f75f-4268-96a1-e97fee2aecb0",
   "metadata": {},
   "outputs": [
    {
     "data": {
      "text/plain": [
       "<HDF5 dataset \"I490P\": shape (3240, 6480, 16), type \"<i2\">"
      ]
     },
     "execution_count": 40,
     "metadata": {},
     "output_type": "execute_result"
    }
   ],
   "source": [
    "f['Data_Directional_Fields']['I490P']"
   ]
  },
  {
   "cell_type": "code",
   "execution_count": 42,
   "id": "75cab3d5-6e5e-4d8a-993f-ca600257bbc5",
   "metadata": {},
   "outputs": [
    {
     "data": {
      "text/plain": [
       "['I1020NP',\n",
       " 'I443NP',\n",
       " 'I490P',\n",
       " 'I565NP',\n",
       " 'I670P',\n",
       " 'I763NP',\n",
       " 'I765NP',\n",
       " 'I865P',\n",
       " 'I910NP']"
      ]
     },
     "execution_count": 42,
     "metadata": {},
     "output_type": "execute_result"
    }
   ],
   "source": [
    "i_fields = [field for field in list(f['Data_Directional_Fields'].keys()) if 'I' in field]\n",
    "i_fields"
   ]
  },
  {
   "cell_type": "code",
   "execution_count": 43,
   "id": "0c2c3f5e-98bb-4fe1-b7f4-3450ee841efe",
   "metadata": {},
   "outputs": [],
   "source": [
    "data_dir = f['Data_Directional_Fields']"
   ]
  },
  {
   "cell_type": "code",
   "execution_count": 46,
   "id": "08095477-ed14-4cd1-88d7-4044d9496a10",
   "metadata": {},
   "outputs": [],
   "source": [
    "temp = np.array(data_dir[i_fields[0]])\n",
    "temp1 = np.array(data_dir[i_fields[1]])\n",
    "temp2 = np.array()"
   ]
  },
  {
   "cell_type": "code",
   "execution_count": 62,
   "id": "5f3abdab-e31f-4f12-a10c-cf26e3290992",
   "metadata": {},
   "outputs": [
    {
     "data": {
      "text/plain": [
       "(3240, 6480, 16, 2)"
      ]
     },
     "execution_count": 62,
     "metadata": {},
     "output_type": "execute_result"
    }
   ],
   "source": [
    "np.stack((temp, temp1), axis=3).shape"
   ]
  },
  {
   "cell_type": "code",
   "execution_count": 64,
   "id": "d42cb77d-bcb2-4782-ba2d-39a9d3a5961d",
   "metadata": {},
   "outputs": [
    {
     "data": {
      "text/plain": [
       "['Q490P', 'Q670P', 'Q865P']"
      ]
     },
     "execution_count": 64,
     "metadata": {},
     "output_type": "execute_result"
    }
   ],
   "source": [
    "q_fields = [field for field in list(f['Data_Directional_Fields'].keys()) if 'Q' in field]\n",
    "q_fields"
   ]
  },
  {
   "cell_type": "code",
   "execution_count": 65,
   "id": "a2e2c84f-1a48-48c5-b5c4-0c5ede2931c6",
   "metadata": {},
   "outputs": [
    {
     "data": {
      "text/plain": [
       "<KeysViewHDF5 ['CCD_column', 'CCD_row', 'I1020NP', 'I443NP', 'I490P', 'I565NP', 'I670P', 'I763NP', 'I765NP', 'I865P', 'I910NP', 'Q490P', 'Q670P', 'Q865P', 'U490P', 'U670P', 'U865P', 'delta_thetav.cosphi', 'delta_thetav.sinphi', 'phi', 'sequence_number', 'thetas', 'thetav']>"
      ]
     },
     "execution_count": 65,
     "metadata": {},
     "output_type": "execute_result"
    }
   ],
   "source": [
    "f['Data_Directional_Fields'].keys()"
   ]
  },
  {
   "cell_type": "code",
   "execution_count": 68,
   "id": "dd2f13f6-b031-497b-8f38-fd093fd16463",
   "metadata": {},
   "outputs": [],
   "source": [
    "thetas = np.array(data_dir['thetav'])"
   ]
  },
  {
   "cell_type": "code",
   "execution_count": 69,
   "id": "e3795bed-0cd7-4884-80f6-34a3f919e4c4",
   "metadata": {},
   "outputs": [
    {
     "data": {
      "text/plain": [
       "(3240, 6480, 16)"
      ]
     },
     "execution_count": 69,
     "metadata": {},
     "output_type": "execute_result"
    }
   ],
   "source": [
    "thetas.shape"
   ]
  },
  {
   "cell_type": "code",
   "execution_count": 107,
   "id": "2f58c868-c7e8-4807-8c70-83ea47752136",
   "metadata": {},
   "outputs": [
    {
     "data": {
      "text/plain": [
       "(array([  25,   25,   25, ..., 2743, 2743, 2743]),\n",
       " array([3288, 3288, 3288, ..., 1930, 1930, 1930]),\n",
       " array([ 0,  1,  2, ..., 13, 14, 15]))"
      ]
     },
     "execution_count": 107,
     "metadata": {},
     "output_type": "execute_result"
    }
   ],
   "source": [
    "np.where(thetas != 65535)\n"
   ]
  },
  {
   "cell_type": "code",
   "execution_count": 95,
   "id": "be31fa7c-9867-4a8d-8e2b-a4c870b91206",
   "metadata": {},
   "outputs": [
    {
     "data": {
      "text/html": [
       "<div>\n",
       "<style scoped>\n",
       "    .dataframe tbody tr th:only-of-type {\n",
       "        vertical-align: middle;\n",
       "    }\n",
       "\n",
       "    .dataframe tbody tr th {\n",
       "        vertical-align: top;\n",
       "    }\n",
       "\n",
       "    .dataframe thead th {\n",
       "        text-align: right;\n",
       "    }\n",
       "</style>\n",
       "<table border=\"1\" class=\"dataframe\">\n",
       "  <thead>\n",
       "    <tr style=\"text-align: right;\">\n",
       "      <th></th>\n",
       "      <th>0</th>\n",
       "    </tr>\n",
       "  </thead>\n",
       "  <tbody>\n",
       "    <tr>\n",
       "      <th>0</th>\n",
       "      <td>3288</td>\n",
       "    </tr>\n",
       "    <tr>\n",
       "      <th>1</th>\n",
       "      <td>3288</td>\n",
       "    </tr>\n",
       "    <tr>\n",
       "      <th>2</th>\n",
       "      <td>3288</td>\n",
       "    </tr>\n",
       "    <tr>\n",
       "      <th>3</th>\n",
       "      <td>3288</td>\n",
       "    </tr>\n",
       "    <tr>\n",
       "      <th>4</th>\n",
       "      <td>3288</td>\n",
       "    </tr>\n",
       "    <tr>\n",
       "      <th>...</th>\n",
       "      <td>...</td>\n",
       "    </tr>\n",
       "    <tr>\n",
       "      <th>65</th>\n",
       "      <td>3285</td>\n",
       "    </tr>\n",
       "    <tr>\n",
       "      <th>66</th>\n",
       "      <td>3285</td>\n",
       "    </tr>\n",
       "    <tr>\n",
       "      <th>67</th>\n",
       "      <td>3285</td>\n",
       "    </tr>\n",
       "    <tr>\n",
       "      <th>68</th>\n",
       "      <td>3285</td>\n",
       "    </tr>\n",
       "    <tr>\n",
       "      <th>69</th>\n",
       "      <td>3285</td>\n",
       "    </tr>\n",
       "  </tbody>\n",
       "</table>\n",
       "<p>70 rows × 1 columns</p>\n",
       "</div>"
      ],
      "text/plain": [
       "       0\n",
       "0   3288\n",
       "1   3288\n",
       "2   3288\n",
       "3   3288\n",
       "4   3288\n",
       "..   ...\n",
       "65  3285\n",
       "66  3285\n",
       "67  3285\n",
       "68  3285\n",
       "69  3285\n",
       "\n",
       "[70 rows x 1 columns]"
      ]
     },
     "execution_count": 95,
     "metadata": {},
     "output_type": "execute_result"
    }
   ],
   "source": [
    "pd.DataFrame(np.where(thetas != 65535)[1]).head(70)"
   ]
  },
  {
   "cell_type": "code",
   "execution_count": 98,
   "id": "341eeebc-748b-491a-b508-f88a003f6a63",
   "metadata": {},
   "outputs": [
    {
     "data": {
      "text/plain": [
       "45556"
      ]
     },
     "execution_count": 98,
     "metadata": {},
     "output_type": "execute_result"
    }
   ],
   "source": [
    "thetas[25][3288][0]"
   ]
  },
  {
   "cell_type": "code",
   "execution_count": 96,
   "id": "45e23b65-eeda-4faa-8e01-e2790a17a023",
   "metadata": {},
   "outputs": [
    {
     "data": {
      "text/plain": [
       "array([45127,     0,     0,     0,     0,     0,     0,     0,     0,\n",
       "           0,     0,     0,     0,     0,     0,     0], dtype=uint16)"
      ]
     },
     "execution_count": 96,
     "metadata": {},
     "output_type": "execute_result"
    }
   ],
   "source": [
    "thetas[26][3285]"
   ]
  },
  {
   "cell_type": "code",
   "execution_count": null,
   "id": "a591b27d-30a0-4293-a623-f3c5091c566e",
   "metadata": {},
   "outputs": [],
   "source": []
  }
 ],
 "metadata": {
  "kernelspec": {
   "display_name": "Python 3",
   "language": "python",
   "name": "python3"
  },
  "language_info": {
   "codemirror_mode": {
    "name": "ipython",
    "version": 3
   },
   "file_extension": ".py",
   "mimetype": "text/x-python",
   "name": "python",
   "nbconvert_exporter": "python",
   "pygments_lexer": "ipython3",
   "version": "3.8.8"
  }
 },
 "nbformat": 4,
 "nbformat_minor": 5
}
