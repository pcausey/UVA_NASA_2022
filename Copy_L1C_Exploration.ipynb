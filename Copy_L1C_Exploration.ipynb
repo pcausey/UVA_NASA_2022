{
 "cells": [
  {
   "cell_type": "markdown",
   "id": "76fa37d8-0e39-4db6-b34d-5606fd3f5f6d",
   "metadata": {},
   "source": [
    "# L1C Formatting Eploration"
   ]
  },
  {
   "cell_type": "code",
   "execution_count": 1,
   "id": "08eeba1e-a972-439a-a393-c0c2220e19d7",
   "metadata": {
    "tags": []
   },
   "outputs": [
    {
     "data": {
      "text/plain": [
       "'C:\\\\Users\\\\whetz\\\\Documents\\\\UVA MSDS\\\\NASA\\\\hdf_files'"
      ]
     },
     "execution_count": 1,
     "metadata": {},
     "output_type": "execute_result"
    }
   ],
   "source": [
    "import pandas as pd\n",
    "import h5py\n",
    "from pyhdf.SD import SD, SDC\n",
    "import matplotlib.pyplot as plt\n",
    "import os\n",
    "import seaborn as sns\n",
    "import numpy as np\n",
    "import plotly.graph_objects as go\n",
    "os.chdir('C:\\\\Users\\\\whetz\\\\Documents\\\\UVA MSDS\\\\NASA\\\\hdf_files')\n",
    "# import icare\n",
    "import pickle\n",
    "import copy\n",
    "os.getcwd()"
   ]
  },
  {
   "cell_type": "code",
   "execution_count": null,
   "id": "fc4562ab-53b0-4dad-8baa-e856811e1f0f",
   "metadata": {},
   "outputs": [
    {
     "name": "stdin",
     "output_type": "stream",
     "text": [
      "ICARE Username: sjw5ke@virginia.edu\n"
     ]
    }
   ],
   "source": [
    "os.chdir('C:\\\\Users\\\\whetz\\\\Documents\\\\UVA MSDS\\\\NASA\\\\hdf_files')\n",
    "session = icare.ICARESession('GRASP Files/PARASOL')"
   ]
  },
  {
   "cell_type": "code",
   "execution_count": 3,
   "id": "7b718c37-f7d9-48f1-beab-3370d6efe5bb",
   "metadata": {},
   "outputs": [
    {
     "data": {
      "text/plain": [
       "'GRASP Files/PARASOL\\\\PARASOL/L1_B-HDF.v1.00/2008/2008_06_01/POLDER3_L1B-BG1-080146M_2008-06-01T00-08-19_V1-00.h5'"
      ]
     },
     "execution_count": 3,
     "metadata": {},
     "output_type": "execute_result"
    }
   ],
   "source": [
    "path='PARASOL/L1_B-HDF.v1.00/2008/2008_06_01'\n",
    "file_list = list(session.listdir(path))\n",
    "file_path = path + '/' + file_list[0]\n",
    "session.get_file(file_path)"
   ]
  },
  {
   "cell_type": "code",
   "execution_count": 2,
   "id": "36c20583-d532-413f-82a7-f94ef60e3363",
   "metadata": {},
   "outputs": [],
   "source": [
    "f = h5py.File(\"GRASP Files\\\\PARASOL\\\\PARASOL\\\\L1_B-HDF.v1.00\\\\2008\\\\2008_06_01\\\\POLDER3_L1B-BG1-080146M_2008-06-01T00-08-19_V1-00.h5\")"
   ]
  },
  {
   "cell_type": "code",
   "execution_count": 10,
   "id": "b4024d6c-528e-403c-9f85-f5f03a01291d",
   "metadata": {},
   "outputs": [
    {
     "data": {
      "text/plain": [
       "['DIMENSION_LABELS',\n",
       " 'HDF_Calibration_Equation',\n",
       " 'Num_Fill',\n",
       " 'Num_Valid',\n",
       " 'Num_missing_value',\n",
       " '_FillValue',\n",
       " 'actual_range',\n",
       " 'add_offset',\n",
       " 'add_offset_err',\n",
       " 'long_name',\n",
       " 'missing_value',\n",
       " 'scale_factor',\n",
       " 'scale_factor_err',\n",
       " 'units']"
      ]
     },
     "execution_count": 10,
     "metadata": {},
     "output_type": "execute_result"
    }
   ],
   "source": [
    "list(f['Data_Directional_Fields']['thetas'].attrs)"
   ]
  },
  {
   "cell_type": "code",
   "execution_count": 36,
   "id": "c3ba9cfa-ea0c-4da4-b899-4267a7ead692",
   "metadata": {},
   "outputs": [
    {
     "name": "stdout",
     "output_type": "stream",
     "text": [
      "Solar Zenith: solar zenith angle of the pixel center \n",
      "Sensor Zenith: view zenith angle of the pixel center  for filter 670P2\n",
      "Relative Azimuth: relative azimuth angle of the pixel center  for filter 670P2\n"
     ]
    }
   ],
   "source": [
    "print(\"Solar Zenith:\", f['Data_Directional_Fields']['thetas'].attrs['long_name'])\n",
    "print(\"Sensor Zenith:\", f['Data_Directional_Fields']['thetav'].attrs['long_name'])\n",
    "print(\"Relative Azimuth:\", f['Data_Directional_Fields']['phi'].attrs['long_name'])"
   ]
  },
  {
   "cell_type": "markdown",
   "id": "5d0a9301-6a87-431d-8cc1-7313ed2aaf83",
   "metadata": {},
   "source": [
    "if solar zenith is at 90 degrees - horizon\n",
    "\n",
    "not interested in angles that are > 60 \n",
    "\n",
    "only want < 60 degrees\n",
    "\n",
    "Maybe just take a subset of pixels (just the middle 100 longitudes, all the latitudes)"
   ]
  },
  {
   "cell_type": "code",
   "execution_count": 35,
   "id": "309102ca-66a0-4dc6-8723-b2419ebd8222",
   "metadata": {},
   "outputs": [
    {
     "data": {
      "text/plain": [
       "array([-9.99990000e+04,  3.44166667e+01])"
      ]
     },
     "execution_count": 35,
     "metadata": {},
     "output_type": "execute_result"
    }
   ],
   "source": [
    "np.unique(np.array(f['Geolocation_Fields']['Latitude'])[1000])"
   ]
  },
  {
   "cell_type": "code",
   "execution_count": 27,
   "id": "b18acb41-76d8-4cca-a826-9264ca08ffdd",
   "metadata": {},
   "outputs": [
    {
     "data": {
      "text/plain": [
       "(3240, 6480, 16)"
      ]
     },
     "execution_count": 27,
     "metadata": {},
     "output_type": "execute_result"
    }
   ],
   "source": [
    "np.array(f['Data_Directional_Fields']['phi']).shape"
   ]
  },
  {
   "cell_type": "code",
   "execution_count": 11,
   "id": "d47e0169-e3da-4b6d-adcc-24db13fd1aca",
   "metadata": {},
   "outputs": [
    {
     "name": "stdout",
     "output_type": "stream",
     "text": [
      "(3240, 6480, 16)\n"
     ]
    }
   ],
   "source": [
    "thetas = np.array(f['Data_Directional_Fields']['thetas'])\n",
    "print(thetas.shape)"
   ]
  },
  {
   "cell_type": "code",
   "execution_count": 12,
   "id": "ddf4d447-c197-4690-9fa1-a9326c2676d5",
   "metadata": {},
   "outputs": [
    {
     "data": {
      "text/plain": [
       "array([65535, 65535, 65535, 65535, 65535, 65535, 65535, 65535, 65535,\n",
       "       65535, 65535, 65535, 65535, 65535, 65535, 65535], dtype=uint16)"
      ]
     },
     "execution_count": 12,
     "metadata": {},
     "output_type": "execute_result"
    }
   ],
   "source": [
    "thetas[0][0]"
   ]
  },
  {
   "cell_type": "code",
   "execution_count": 13,
   "id": "4dfe6e0f-7d55-4fb3-8769-bfb6832835e3",
   "metadata": {},
   "outputs": [
    {
     "name": "stdout",
     "output_type": "stream",
     "text": [
      "(3240, 6480, 16)\n"
     ]
    }
   ],
   "source": [
    "thetav = np.array(f['Data_Directional_Fields']['thetav'])\n",
    "print(thetav.shape)"
   ]
  },
  {
   "cell_type": "code",
   "execution_count": 14,
   "id": "3ecfd9e8-0e45-4581-b2d7-32b3305b37f2",
   "metadata": {},
   "outputs": [
    {
     "data": {
      "text/plain": [
       "array([65535, 65535, 65535, 65535, 65535, 65535, 65535, 65535, 65535,\n",
       "       65535, 65535, 65535, 65535, 65535, 65535, 65535], dtype=uint16)"
      ]
     },
     "execution_count": 14,
     "metadata": {},
     "output_type": "execute_result"
    }
   ],
   "source": [
    "thetav[0][0]"
   ]
  },
  {
   "cell_type": "markdown",
   "id": "c74987f1-0134-4f75-ad65-da6bfe07d5ed",
   "metadata": {},
   "source": [
    "# Create example file from h5"
   ]
  },
  {
   "cell_type": "code",
   "execution_count": 5,
   "id": "a591b27d-30a0-4293-a623-f3c5091c566e",
   "metadata": {},
   "outputs": [
    {
     "name": "stdout",
     "output_type": "stream",
     "text": [
      "I_np\n",
      "tag: I\n",
      "['I1020NP', 'I443NP', 'I490P', 'I565NP', 'I670P', 'I763NP', 'I765NP', 'I865P', 'I910NP']\n",
      "I1020NP, I443NP, I490P, I565NP, I670P, I763NP, I765NP, I865P, I910NP, I_p\n",
      "tag: I\n",
      "['I490P', 'I670P', 'I865P']\n",
      "I490P, I670P, I865P, Q\n",
      "tag: Q\n",
      "['Q490P', 'Q670P', 'Q865P']\n",
      "Q490P, Q670P, Q865P, U\n",
      "tag: U\n",
      "['U490P', 'U670P', 'U865P']\n",
      "U490P, U670P, U865P, "
     ]
    }
   ],
   "source": [
    "measurement_dict = {}\n",
    "for cat in ['I_np','I_p','Q','U']:\n",
    "    print(cat)\n",
    "    \n",
    "    if cat == 'I_np':\n",
    "        tag = cat.replace('_np','')\n",
    "        fields = ([field for field in list(f['Data_Directional_Fields'].keys()) if (tag in field)])\n",
    "    else:\n",
    "        tag = cat.replace('_p','')\n",
    "        fields = ([field for field in list(f['Data_Directional_Fields'].keys()) if (tag in field) and ('NP' not in field)])\n",
    "\n",
    "    print(\"tag:\", tag)\n",
    "    fields.sort()\n",
    "    print(fields)\n",
    "    arrays = []\n",
    "    scales = []\n",
    "    long_names = []\n",
    "    fills = []\n",
    "    units = []\n",
    "    for field in fields:\n",
    "            \n",
    "        print(field, end=\", \")\n",
    "        \n",
    "        scales.append(f['Data_Directional_Fields'][field].attrs['scale_factor'])\n",
    "        long_names.append(f['Data_Directional_Fields'][field].attrs['long_name'])\n",
    "        fills.append(f['Data_Directional_Fields'][field].attrs['_FillValue'])\n",
    "        units.append(f['Data_Directional_Fields'][field].attrs['units'])\n",
    "\n",
    "        arrays.append(np.array(f['Data_Directional_Fields'][field]))\n",
    "        \n",
    "    if len(np.unique(scales)) == 1:\n",
    "        scales = scales[0]\n",
    "    if len(np.unique(fills)) == 1:\n",
    "        fills = fills[0]\n",
    "    if len(np.unique(units)) == 1:\n",
    "        units = units[0]\n",
    "    \n",
    "    measurement_dict[cat] = {}\n",
    "    measurement_dict[cat]['fields'] = fields\n",
    "    measurement_dict[cat]['scale'] = scales\n",
    "    measurement_dict[cat]['long_name'] = long_names\n",
    "    measurement_dict[cat]['fill'] = fills\n",
    "    measurement_dict[cat]['units'] = units\n",
    "    measurement_dict[cat]['data'] = np.stack(arrays,axis=3)"
   ]
  },
  {
   "cell_type": "markdown",
   "id": "f5dc1a09-b212-475a-8d99-9f3405a984a8",
   "metadata": {},
   "source": [
    "# Create Final Dictionary and Populate"
   ]
  },
  {
   "cell_type": "code",
   "execution_count": 6,
   "id": "698177d3-b9cf-4a47-9147-82632eafd195",
   "metadata": {},
   "outputs": [],
   "source": [
    "final_dict = {}\n",
    "final_dict['observation_data'] = {}\n",
    "final_dict['observation_data']['I_PARASOL'] = copy.deepcopy(measurement_dict['I_np'])"
   ]
  },
  {
   "cell_type": "markdown",
   "id": "ad16e512-eca6-4b2a-b969-80af4e5ba114",
   "metadata": {},
   "source": [
    "## Wavelengths"
   ]
  },
  {
   "cell_type": "code",
   "execution_count": 7,
   "id": "f16515d6-cd09-4f31-9f5f-d61774698c51",
   "metadata": {},
   "outputs": [
    {
     "name": "stdout",
     "output_type": "stream",
     "text": [
      "polarized\n",
      "(3240, 6480, 16, 3)\n",
      "non-polarized\n",
      "(3240, 6480, 16, 9)\n"
     ]
    }
   ],
   "source": [
    "def add_wavelengths(polarized=True):\n",
    "    if polarized:\n",
    "        print(\"polarized\")\n",
    "        tag = 'I_p'\n",
    "        field_name = 'polarization_wavelengths'\n",
    "        lambdas = [int(field.replace('I','').replace('P','')) for field in measurement_dict[tag]['fields']]\n",
    "\n",
    "    else:\n",
    "        print(\"non-polarized\")\n",
    "        tag = 'I_np'\n",
    "        field_name = 'intensity_wavelengths'\n",
    "        lambdas = [int(field.replace('I','').replace('NP','').replace('P','')) for field in measurement_dict[tag]['fields']]\n",
    "\n",
    "    shape = measurement_dict[tag]['data'].shape\n",
    "    new_shape = []\n",
    "\n",
    "    lambda_arrs = []\n",
    "\n",
    "    for lam in lambdas:    \n",
    "        new_shape = []\n",
    "        for dim in shape[:-1]:\n",
    "            new_shape.append(dim)\n",
    "        # new_shape.append(1)\n",
    "\n",
    "        lambda_arrs.append(np.full(new_shape, fill_value = np.full(16,lam)))\n",
    "        # break\n",
    "\n",
    "    full_lambdas_arr = np.stack(lambda_arrs,axis=3)\n",
    "    print(full_lambdas_arr.shape)\n",
    "    \n",
    "    final_dict['sensor_views_bands'] = {}\n",
    "    final_dict['sensor_views_bands'][field_name] = {}\n",
    "    final_dict['sensor_views_bands'][field_name]['scale'] = 1\n",
    "    final_dict['sensor_views_bands'][field_name]['long_name'] = 'field_name'\n",
    "    final_dict['sensor_views_bands'][field_name]['fill'] = 32767\n",
    "    final_dict['sensor_views_bands'][field_name]['units'] = 'tbd'\n",
    "    final_dict['sensor_views_bands'][field_name]['data'] = full_lambdas_arr\n",
    "    \n",
    "for i in [True,False]:\n",
    "    add_wavelengths(i)"
   ]
  },
  {
   "cell_type": "code",
   "execution_count": 8,
   "id": "49617190-22a8-4253-a02a-46a430b15694",
   "metadata": {},
   "outputs": [
    {
     "data": {
      "text/plain": [
       "dict_keys(['I_np', 'I_p', 'Q', 'U'])"
      ]
     },
     "execution_count": 8,
     "metadata": {},
     "output_type": "execute_result"
    }
   ],
   "source": [
    "measurement_dict.keys()"
   ]
  },
  {
   "cell_type": "markdown",
   "id": "f4dc68a6-4052-4cff-b331-ff92f7a0b5da",
   "metadata": {},
   "source": [
    "## DOLP\n",
    "* Calculate DOLP matrix\n",
    "    * DOLP = sqrt(Q^2 + U^2)/I"
   ]
  },
  {
   "cell_type": "code",
   "execution_count": 9,
   "id": "b1e9be6e-ba83-4f99-b5c8-f865749ebd66",
   "metadata": {},
   "outputs": [
    {
     "data": {
      "text/plain": [
       "32767"
      ]
     },
     "execution_count": 9,
     "metadata": {},
     "output_type": "execute_result"
    }
   ],
   "source": [
    "scale = measurement_dict['Q']['scale']\n",
    "scale\n",
    "fill = measurement_dict['Q']['fill']\n",
    "fill"
   ]
  },
  {
   "cell_type": "code",
   "execution_count": 10,
   "id": "04bc256e-710f-4f14-8de9-1448f793ef56",
   "metadata": {},
   "outputs": [
    {
     "ename": "MemoryError",
     "evalue": "Unable to allocate 7.51 GiB for an array with shape (3240, 6480, 16, 3) and data type float64",
     "output_type": "error",
     "traceback": [
      "\u001b[1;31m---------------------------------------------------------------------------\u001b[0m",
      "\u001b[1;31mMemoryError\u001b[0m                               Traceback (most recent call last)",
      "\u001b[1;32m<ipython-input-10-d7efe28d346c>\u001b[0m in \u001b[0;36m<module>\u001b[1;34m\u001b[0m\n\u001b[0;32m      7\u001b[0m     \u001b[1;32mif\u001b[0m \u001b[0mkey\u001b[0m \u001b[1;33m==\u001b[0m \u001b[1;34m'Q'\u001b[0m\u001b[1;33m:\u001b[0m\u001b[1;33m\u001b[0m\u001b[1;33m\u001b[0m\u001b[0m\n\u001b[0;32m      8\u001b[0m         \u001b[0mQ_arr\u001b[0m \u001b[1;33m=\u001b[0m \u001b[0mcopy\u001b[0m\u001b[1;33m.\u001b[0m\u001b[0mdeepcopy\u001b[0m\u001b[1;33m(\u001b[0m\u001b[0mmeasurement_dict\u001b[0m\u001b[1;33m[\u001b[0m\u001b[0mkey\u001b[0m\u001b[1;33m]\u001b[0m\u001b[1;33m[\u001b[0m\u001b[1;34m'data'\u001b[0m\u001b[1;33m]\u001b[0m\u001b[1;33m)\u001b[0m \u001b[1;33m*\u001b[0m \u001b[0mscale\u001b[0m\u001b[1;33m\u001b[0m\u001b[1;33m\u001b[0m\u001b[0m\n\u001b[1;32m----> 9\u001b[1;33m         \u001b[0mQ_arr\u001b[0m\u001b[1;33m[\u001b[0m\u001b[0mnp\u001b[0m\u001b[1;33m.\u001b[0m\u001b[0mabs\u001b[0m\u001b[1;33m(\u001b[0m\u001b[0mQ_arr\u001b[0m\u001b[1;33m)\u001b[0m \u001b[1;33m==\u001b[0m \u001b[0mfill\u001b[0m\u001b[1;33m]\u001b[0m \u001b[1;33m=\u001b[0m \u001b[1;36m1\u001b[0m\u001b[1;33m\u001b[0m\u001b[1;33m\u001b[0m\u001b[0m\n\u001b[0m\u001b[0;32m     10\u001b[0m \u001b[1;33m\u001b[0m\u001b[0m\n\u001b[0;32m     11\u001b[0m     \u001b[1;32mif\u001b[0m \u001b[0mkey\u001b[0m \u001b[1;33m==\u001b[0m \u001b[1;34m'U'\u001b[0m\u001b[1;33m:\u001b[0m\u001b[1;33m\u001b[0m\u001b[1;33m\u001b[0m\u001b[0m\n",
      "\u001b[1;31mMemoryError\u001b[0m: Unable to allocate 7.51 GiB for an array with shape (3240, 6480, 16, 3) and data type float64"
     ]
    }
   ],
   "source": [
    "# scale, abs\n",
    "for key in measurement_dict.keys():\n",
    "    if key == 'I_p':\n",
    "        I_arr = copy.deepcopy(measurement_dict[key]['data']) * scale\n",
    "        I_arr[np.abs(I_arr) == fill] = 1\n",
    "    \n",
    "    elif key == 'Q':\n",
    "        Q_arr = copy.deepcopy(measurement_dict[key]['data']) * scale\n",
    "        Q_arr[np.abs(Q_arr) == fill] = 1\n",
    "        \n",
    "    elif key == 'U':\n",
    "        U_arr = copy.deepcopy(measurement_dict[key]['data']) * scale\n",
    "        U_arr[np.abs(U_arr) == fill] = 1\n",
    "        \n",
    "    else:\n",
    "        continue"
   ]
  },
  {
   "cell_type": "code",
   "execution_count": null,
   "id": "92a71132-9bfa-46e5-a34a-22e59e6f6aaf",
   "metadata": {},
   "outputs": [],
   "source": [
    "DOLP_arr_unfltrd = np.divide(np.sqrt(np.add(np.square(Q_arr), np.square(U_arr))), I_arr)"
   ]
  },
  {
   "cell_type": "code",
   "execution_count": null,
   "id": "2fcd6cc8-c410-4dab-ba91-d3fcba18044d",
   "metadata": {},
   "outputs": [],
   "source": [
    "# rename - DOLP\n",
    "DOLP_arr_unfltrd[np.where((measurement_dict['I_p']['data'] == fill) | \n",
    "                          (measurement_dict['Q']['data'] == fill) | \n",
    "                          (measurement_dict['U']['data'] == fill))] = fill"
   ]
  },
  {
   "cell_type": "code",
   "execution_count": null,
   "id": "92394632-3391-45aa-bc28-31ab233bb821",
   "metadata": {},
   "outputs": [],
   "source": [
    "indx = np.where((np.abs(I_arr) != (fill * scale)) & (np.abs(Q_arr) != (fill * scale)) & (np.abs(U_arr) != (fill * scale)))"
   ]
  },
  {
   "cell_type": "code",
   "execution_count": null,
   "id": "44f9d812-acc6-48cd-ba31-f70376d72507",
   "metadata": {},
   "outputs": [],
   "source": [
    "# add to dictionary\n",
    "\n",
    "final_dict['observation_data']['DOLP_PARASOL'] = {}\n",
    "# measurement_dict[cat]['fields'] = fields\n",
    "final_dict['observation_data']['DOLP_PARASOL']['scale'] = 1\n",
    "final_dict['observation_data']['DOLP_PARASOL']['long_name'] = 'INSERT LONG NAME'\n",
    "final_dict['observation_data']['DOLP_PARASOL']['fill'] = fill\n",
    "final_dict['observation_data']['DOLP_PARASOL']['units'] = 'INSERT UNITS'\n",
    "final_dict['observation_data']['DOLP_PARASOL']['data'] = DOLP_arr_unfltrd"
   ]
  },
  {
   "cell_type": "markdown",
   "id": "b9f1af68-c79b-4885-9c9f-ae91c1cfbc29",
   "metadata": {},
   "source": [
    "## Q over I, U over I"
   ]
  },
  {
   "cell_type": "code",
   "execution_count": null,
   "id": "eb0a56f4-3fa5-4f5d-a173-ff4245111502",
   "metadata": {
    "tags": []
   },
   "outputs": [],
   "source": [
    "Q_over_I = np.divide(Q_arr, I_arr)\n",
    "U_over_I = np.divide(U_arr, I_arr)\n",
    "\n",
    "Q_over_I[np.where((measurement_dict['I_p']['data'] == fill) | \n",
    "                          (measurement_dict['Q']['data'] == fill) | \n",
    "                          (measurement_dict['U']['data'] == fill))] = fill\n",
    "\n",
    "U_over_I[np.where((measurement_dict['I_p']['data'] == fill) | \n",
    "                          (measurement_dict['Q']['data'] == fill) | \n",
    "                          (measurement_dict['U']['data'] == fill))] = fill\n",
    "\n",
    "final_dict['observation_data']['Q_over_I_PARASOL'] = {}\n",
    "# measurement_dict[cat]['fields'] = fields\n",
    "final_dict['observation_data']['Q_over_I_PARASOL']['scale'] = 1\n",
    "final_dict['observation_data']['Q_over_I_PARASOL']['long_name'] = 'INSERT LONG NAME'\n",
    "final_dict['observation_data']['Q_over_I_PARASOL']['fill'] = fill\n",
    "final_dict['observation_data']['Q_over_I_PARASOL']['units'] = 'INSERT UNITS'\n",
    "final_dict['observation_data']['Q_over_I_PARASOL']['data'] = Q_over_I\n",
    "\n",
    "final_dict['observation_data']['U_over_I_PARASOL'] = {}\n",
    "# measurement_dict[cat]['fields'] = fields\n",
    "final_dict['observation_data']['U_over_I_PARASOL']['scale'] = 1\n",
    "final_dict['observation_data']['U_over_I_PARASOL']['long_name'] = 'INSERT LONG NAME'\n",
    "final_dict['observation_data']['U_over_I_PARASOL']['fill'] = fill\n",
    "final_dict['observation_data']['U_over_I_PARASOL']['units'] = 'INSERT UNITS'\n",
    "final_dict['observation_data']['U_over_I_PARASOL']['data'] = U_over_I"
   ]
  },
  {
   "cell_type": "markdown",
   "id": "d21ff03f-1e46-4f70-954f-2fadd8e5d10c",
   "metadata": {},
   "source": [
    "# Angles, Altitude, & Location"
   ]
  },
  {
   "cell_type": "code",
   "execution_count": 42,
   "id": "6196cfe2-02d7-4d81-8f51-89ebfd8c5def",
   "metadata": {},
   "outputs": [
    {
     "data": {
      "text/plain": [
       "<KeysViewHDF5 ['Latitude', 'Longitude', 'column_number', 'land_sea_flag', 'row_number', 'surface_altitude']>"
      ]
     },
     "execution_count": 42,
     "metadata": {},
     "output_type": "execute_result"
    }
   ],
   "source": [
    "f['Geolocation_Fields'].keys()"
   ]
  },
  {
   "cell_type": "code",
   "execution_count": null,
   "id": "219a9abb-350e-4cdd-8ed1-a470ce8ab01b",
   "metadata": {},
   "outputs": [],
   "source": [
    "for field in ['thetas','thetav','phi']:\n",
    "    if field == 'thetas':\n",
    "        tag = 'solar_zenith'\n",
    "    elif field == 'thetav':\n",
    "        tag = 'sensor_zenith'\n",
    "    elif field == 'phi':\n",
    "        tag = 'relative_azimuth'\n",
    "        \n",
    "    final_dict['geolocation_data'][tag] = {}\n",
    "    final_dict['geolocation_data'][tag]['scale'] = f['Data_Directional_Fields'][field].attrs['scale_factor']\n",
    "    final_dict['geolocation_data'][tag]['long_name'] = f['Data_Directional_Fields'][field].attrs['long_name']\n",
    "    final_dict['geolocation_data'][tag]['fill'] = f['Data_Directional_Fields'][field].attrs['_FillValue']\n",
    "    final_dict['geolocation_data'][tag]['units'] = f['Data_Directional_Fields'][field].attrs['units']\n",
    "    final_dict['geolocation_data'][tag]['data'] = np.array(f['Data_Directional_Fields'][field])"
   ]
  },
  {
   "cell_type": "code",
   "execution_count": null,
   "id": "fe066713-6747-4b1b-aaac-4921817dbbf9",
   "metadata": {},
   "outputs": [],
   "source": [
    "for field in ['Latitude','Longitude','surface_altitude']:\n",
    "    if field == 'surface_altitude':\n",
    "        tag = 'altitude'\n",
    "    else:\n",
    "        tag = field\n",
    "        \n",
    "    final_dict['geolocation_data'][tag] = {}\n",
    "    final_dict['geolocation_data'][tag]['scale'] = f['Geolocation_Fields'][field].attrs['scale_factor']\n",
    "    final_dict['geolocation_data'][tag]['long_name'] = f['Geolocation_Fields'][field].attrs['long_name']\n",
    "    final_dict['geolocation_data'][tag]['fill'] = f['Geolocation_Fields'][field].attrs['_FillValue']\n",
    "    final_dict['geolocation_data'][tag]['units'] = f['Geolocation_Fields'][field].attrs['units']\n",
    "    final_dict['geolocation_data'][tag]['data'] = np.array(f['Geolocation_Fields'][field])"
   ]
  },
  {
   "cell_type": "code",
   "execution_count": null,
   "id": "e80d280c-26a6-48d5-86d3-52a01bf7a0fe",
   "metadata": {},
   "outputs": [],
   "source": [
    "with open('final_dict.pickle', 'w') as f:\n",
    "    pickle.dump(final_dict, f)"
   ]
  }
 ],
 "metadata": {
  "kernelspec": {
   "display_name": "Python 3",
   "language": "python",
   "name": "python3"
  },
  "language_info": {
   "codemirror_mode": {
    "name": "ipython",
    "version": 3
   },
   "file_extension": ".py",
   "mimetype": "text/x-python",
   "name": "python",
   "nbconvert_exporter": "python",
   "pygments_lexer": "ipython3",
   "version": "3.8.8"
  }
 },
 "nbformat": 4,
 "nbformat_minor": 5
}
