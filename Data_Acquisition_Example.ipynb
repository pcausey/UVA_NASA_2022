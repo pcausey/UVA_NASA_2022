{
 "cells": [
  {
   "cell_type": "markdown",
   "id": "9f973be8-1160-4e16-868c-9f3df3e0770c",
   "metadata": {},
   "source": [
    "# Simple Data Acquisition and Display"
   ]
  },
  {
   "cell_type": "code",
   "execution_count": 6,
   "id": "ec154da5-24b9-4b4c-9edf-1ed747f84d89",
   "metadata": {},
   "outputs": [],
   "source": [
    "import h5py\n",
    "import os\n",
    "import icare\n",
    "import nasa_plotting_scripts as nasa"
   ]
  },
  {
   "cell_type": "code",
   "execution_count": 10,
   "id": "09774923-2fc4-4392-9963-0945c27af87c",
   "metadata": {},
   "outputs": [
    {
     "name": "stdin",
     "output_type": "stream",
     "text": [
      "ICARE Username: sjw5ke@virginia.edu\n",
      "ICARE Password: ···········\n"
     ]
    }
   ],
   "source": [
    "# Set the directory you want to save your files to\n",
    "os.chdir('C:\\\\Users\\\\whetz\\\\Documents\\\\UVA MSDS\\\\NASA\\\\hdf_files')\n",
    "\n",
    "# Crate an icare session and enter your name and password\n",
    "# Pass the name of the folder you want to save the files to \n",
    "session = icare.ICARESession('GRASP Files')"
   ]
  },
  {
   "cell_type": "code",
   "execution_count": 11,
   "id": "d15ea322-9859-44b0-8316-05d1c6a4012d",
   "metadata": {},
   "outputs": [
    {
     "data": {
      "text/plain": [
       "['PARASOL_GRASP-D3_2010-03-07_cyl-proj-6480x3240_V2-00.h5',\n",
       " 'PARASOL_GRASP-D3_2010-03-07_sin-proj-6480x3240_V2-00.h5']"
      ]
     },
     "execution_count": 11,
     "metadata": {},
     "output_type": "execute_result"
    }
   ],
   "source": [
    "# File that you wish to download\n",
    "path = 'PARASOL/GRASP-D3.v2.00/2010/2010_03_07/'\n",
    "\n",
    "# creates a list of files that exist in this directory\n",
    "files = list(session.listdir(path))\n",
    "files"
   ]
  },
  {
   "cell_type": "code",
   "execution_count": 9,
   "id": "4b25a4fe-ff16-45df-b0c8-086bb80e1ef9",
   "metadata": {},
   "outputs": [
    {
     "data": {
      "text/plain": [
       "'GRASP Files\\\\PARASOL/GRASP-D3.v2.00/2010/2010_03_07//PARASOL_GRASP-D3_2010-03-07_cyl-proj-6480x3240_V2-00.h5'"
      ]
     },
     "execution_count": 9,
     "metadata": {},
     "output_type": "execute_result"
    }
   ],
   "source": [
    "# Grab the first file and download the file to your machine\n",
    "file_name = (path+'/'+files[0])\n",
    "session.get_file(file_name)"
   ]
  },
  {
   "cell_type": "code",
   "execution_count": 7,
   "id": "27c187b7-7d0c-4784-9d77-6862db59ea63",
   "metadata": {},
   "outputs": [
    {
     "data": {
      "text/html": [
       "<div>\n",
       "<style scoped>\n",
       "    .dataframe tbody tr th:only-of-type {\n",
       "        vertical-align: middle;\n",
       "    }\n",
       "\n",
       "    .dataframe tbody tr th {\n",
       "        vertical-align: top;\n",
       "    }\n",
       "\n",
       "    .dataframe thead th {\n",
       "        text-align: right;\n",
       "    }\n",
       "</style>\n",
       "<table border=\"1\" class=\"dataframe\">\n",
       "  <thead>\n",
       "    <tr style=\"text-align: right;\">\n",
       "      <th></th>\n",
       "      <th>lat</th>\n",
       "      <th>lon</th>\n",
       "      <th>AOD1020</th>\n",
       "      <th>AOD443</th>\n",
       "      <th>AOD490</th>\n",
       "      <th>AOD565</th>\n",
       "      <th>AOD670</th>\n",
       "      <th>AOD865</th>\n",
       "      <th>coord</th>\n",
       "    </tr>\n",
       "  </thead>\n",
       "  <tbody>\n",
       "    <tr>\n",
       "      <th>0</th>\n",
       "      <td>38.972221</td>\n",
       "      <td>-74.972221</td>\n",
       "      <td>0.047777</td>\n",
       "      <td>0.156015</td>\n",
       "      <td>0.132469</td>\n",
       "      <td>0.107544</td>\n",
       "      <td>0.083879</td>\n",
       "      <td>0.059316</td>\n",
       "      <td>38.972, -74.972</td>\n",
       "    </tr>\n",
       "    <tr>\n",
       "      <th>1</th>\n",
       "      <td>38.972221</td>\n",
       "      <td>-74.916664</td>\n",
       "      <td>-32768.000000</td>\n",
       "      <td>-32768.000000</td>\n",
       "      <td>-32768.000000</td>\n",
       "      <td>-32768.000000</td>\n",
       "      <td>-32768.000000</td>\n",
       "      <td>-32768.000000</td>\n",
       "      <td>38.972, -74.917</td>\n",
       "    </tr>\n",
       "    <tr>\n",
       "      <th>2</th>\n",
       "      <td>38.972221</td>\n",
       "      <td>-74.861115</td>\n",
       "      <td>0.097023</td>\n",
       "      <td>0.209769</td>\n",
       "      <td>0.192187</td>\n",
       "      <td>0.168227</td>\n",
       "      <td>0.141989</td>\n",
       "      <td>0.111568</td>\n",
       "      <td>38.972, -74.861</td>\n",
       "    </tr>\n",
       "    <tr>\n",
       "      <th>3</th>\n",
       "      <td>38.972221</td>\n",
       "      <td>-74.805557</td>\n",
       "      <td>0.081508</td>\n",
       "      <td>0.171358</td>\n",
       "      <td>0.156454</td>\n",
       "      <td>0.137193</td>\n",
       "      <td>0.116269</td>\n",
       "      <td>0.092945</td>\n",
       "      <td>38.972, -74.806</td>\n",
       "    </tr>\n",
       "    <tr>\n",
       "      <th>4</th>\n",
       "      <td>38.972221</td>\n",
       "      <td>-74.750000</td>\n",
       "      <td>0.081508</td>\n",
       "      <td>0.171358</td>\n",
       "      <td>0.156454</td>\n",
       "      <td>0.137193</td>\n",
       "      <td>0.116269</td>\n",
       "      <td>0.092945</td>\n",
       "      <td>38.972, -74.75</td>\n",
       "    </tr>\n",
       "    <tr>\n",
       "      <th>...</th>\n",
       "      <td>...</td>\n",
       "      <td>...</td>\n",
       "      <td>...</td>\n",
       "      <td>...</td>\n",
       "      <td>...</td>\n",
       "      <td>...</td>\n",
       "      <td>...</td>\n",
       "      <td>...</td>\n",
       "      <td>...</td>\n",
       "    </tr>\n",
       "    <tr>\n",
       "      <th>11335</th>\n",
       "      <td>32.027779</td>\n",
       "      <td>-70.250000</td>\n",
       "      <td>-32768.000000</td>\n",
       "      <td>-32768.000000</td>\n",
       "      <td>-32768.000000</td>\n",
       "      <td>-32768.000000</td>\n",
       "      <td>-32768.000000</td>\n",
       "      <td>-32768.000000</td>\n",
       "      <td>32.028, -70.25</td>\n",
       "    </tr>\n",
       "    <tr>\n",
       "      <th>11336</th>\n",
       "      <td>32.027779</td>\n",
       "      <td>-70.194443</td>\n",
       "      <td>-32768.000000</td>\n",
       "      <td>-32768.000000</td>\n",
       "      <td>-32768.000000</td>\n",
       "      <td>-32768.000000</td>\n",
       "      <td>-32768.000000</td>\n",
       "      <td>-32768.000000</td>\n",
       "      <td>32.028, -70.194</td>\n",
       "    </tr>\n",
       "    <tr>\n",
       "      <th>11337</th>\n",
       "      <td>32.027779</td>\n",
       "      <td>-70.138885</td>\n",
       "      <td>-32768.000000</td>\n",
       "      <td>-32768.000000</td>\n",
       "      <td>-32768.000000</td>\n",
       "      <td>-32768.000000</td>\n",
       "      <td>-32768.000000</td>\n",
       "      <td>-32768.000000</td>\n",
       "      <td>32.028, -70.139</td>\n",
       "    </tr>\n",
       "    <tr>\n",
       "      <th>11338</th>\n",
       "      <td>32.027779</td>\n",
       "      <td>-70.083336</td>\n",
       "      <td>-32768.000000</td>\n",
       "      <td>-32768.000000</td>\n",
       "      <td>-32768.000000</td>\n",
       "      <td>-32768.000000</td>\n",
       "      <td>-32768.000000</td>\n",
       "      <td>-32768.000000</td>\n",
       "      <td>32.028, -70.083</td>\n",
       "    </tr>\n",
       "    <tr>\n",
       "      <th>11339</th>\n",
       "      <td>32.027779</td>\n",
       "      <td>-70.027779</td>\n",
       "      <td>-32768.000000</td>\n",
       "      <td>-32768.000000</td>\n",
       "      <td>-32768.000000</td>\n",
       "      <td>-32768.000000</td>\n",
       "      <td>-32768.000000</td>\n",
       "      <td>-32768.000000</td>\n",
       "      <td>32.028, -70.028</td>\n",
       "    </tr>\n",
       "  </tbody>\n",
       "</table>\n",
       "<p>11340 rows × 9 columns</p>\n",
       "</div>"
      ],
      "text/plain": [
       "             lat        lon       AOD1020        AOD443        AOD490  \\\n",
       "0      38.972221 -74.972221      0.047777      0.156015      0.132469   \n",
       "1      38.972221 -74.916664 -32768.000000 -32768.000000 -32768.000000   \n",
       "2      38.972221 -74.861115      0.097023      0.209769      0.192187   \n",
       "3      38.972221 -74.805557      0.081508      0.171358      0.156454   \n",
       "4      38.972221 -74.750000      0.081508      0.171358      0.156454   \n",
       "...          ...        ...           ...           ...           ...   \n",
       "11335  32.027779 -70.250000 -32768.000000 -32768.000000 -32768.000000   \n",
       "11336  32.027779 -70.194443 -32768.000000 -32768.000000 -32768.000000   \n",
       "11337  32.027779 -70.138885 -32768.000000 -32768.000000 -32768.000000   \n",
       "11338  32.027779 -70.083336 -32768.000000 -32768.000000 -32768.000000   \n",
       "11339  32.027779 -70.027779 -32768.000000 -32768.000000 -32768.000000   \n",
       "\n",
       "             AOD565        AOD670        AOD865            coord  \n",
       "0          0.107544      0.083879      0.059316  38.972, -74.972  \n",
       "1     -32768.000000 -32768.000000 -32768.000000  38.972, -74.917  \n",
       "2          0.168227      0.141989      0.111568  38.972, -74.861  \n",
       "3          0.137193      0.116269      0.092945  38.972, -74.806  \n",
       "4          0.137193      0.116269      0.092945   38.972, -74.75  \n",
       "...             ...           ...           ...              ...  \n",
       "11335 -32768.000000 -32768.000000 -32768.000000   32.028, -70.25  \n",
       "11336 -32768.000000 -32768.000000 -32768.000000  32.028, -70.194  \n",
       "11337 -32768.000000 -32768.000000 -32768.000000  32.028, -70.139  \n",
       "11338 -32768.000000 -32768.000000 -32768.000000  32.028, -70.083  \n",
       "11339 -32768.000000 -32768.000000 -32768.000000  32.028, -70.028  \n",
       "\n",
       "[11340 rows x 9 columns]"
      ]
     },
     "execution_count": 7,
     "metadata": {},
     "output_type": "execute_result"
    }
   ],
   "source": [
    "# Create a file instance\n",
    "f = h5py.File(('GRASP files/' + file_name).replace('/','\\\\'), 'r')\n",
    "\n",
    "# This script retrieves all tensor indices that exist in the ACTIVATE region\n",
    "activate = nasa.get_activate_GRASP_aods(f=f)\n",
    "activate"
   ]
  },
  {
   "cell_type": "code",
   "execution_count": null,
   "id": "e9522a99-eedc-44ea-8c2c-54289a20c8cc",
   "metadata": {},
   "outputs": [],
   "source": []
  }
 ],
 "metadata": {
  "kernelspec": {
   "display_name": "Python 3",
   "language": "python",
   "name": "python3"
  },
  "language_info": {
   "codemirror_mode": {
    "name": "ipython",
    "version": 3
   },
   "file_extension": ".py",
   "mimetype": "text/x-python",
   "name": "python",
   "nbconvert_exporter": "python",
   "pygments_lexer": "ipython3",
   "version": "3.8.8"
  }
 },
 "nbformat": 4,
 "nbformat_minor": 5
}
