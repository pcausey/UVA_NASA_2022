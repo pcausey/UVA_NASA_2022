{
 "cells": [
  {
   "cell_type": "code",
   "execution_count": 6,
   "id": "d36f5d07",
   "metadata": {},
   "outputs": [],
   "source": [
    "from caltrack_dict import list_caltrack\n",
    "import h5py\n",
    "from pyhdf.SD import SD, SDC\n",
    "import os\n",
    "import numpy as np\n",
    "import copy\n",
    "from netCDF4 import Dataset\n",
    "\n",
    "from conversion_stub import HDF4, HDF5, parse_file_type, return_file, parse_field, check_pixels"
   ]
  },
  {
   "cell_type": "code",
   "execution_count": 4,
   "id": "ee9031f7",
   "metadata": {},
   "outputs": [],
   "source": [
    "pixels = 3\n",
    "file_path = '/Users/pcause/Downloads/CALTRACK-333m_PAR-L1B_V1-00_2009-07-04T15-09-32ZD.hdf'\n"
   ]
  },
  {
   "cell_type": "code",
   "execution_count": 10,
   "id": "330aa7c3",
   "metadata": {},
   "outputs": [],
   "source": [
    "pixels = check_pixels(pixels)\n",
    "\n",
    "# This initializes the dictionary where we'll store all of our information before we cast it to an HDF file.\n",
    "# A dictionary is a natural analog for an HDF file since it also utilizes hierarchical organization\n",
    "final_dict = {}\n",
    "final_dict['geolocation_data'] = {}\n",
    "\n",
    "file_type = parse_file_type(file_path)\n",
    "\n",
    "f = return_file(file_path, file_type)"
   ]
  },
  {
   "cell_type": "code",
   "execution_count": 12,
   "id": "e02e06d5",
   "metadata": {},
   "outputs": [
    {
     "ename": "Exception",
     "evalue": "Unknown File Type",
     "output_type": "error",
     "traceback": [
      "\u001b[0;31m---------------------------------------------------------------------------\u001b[0m",
      "\u001b[0;31mException\u001b[0m                                 Traceback (most recent call last)",
      "Input \u001b[0;32mIn [12]\u001b[0m, in \u001b[0;36m<cell line: 1>\u001b[0;34m()\u001b[0m\n\u001b[0;32m----> 1\u001b[0m col \u001b[38;5;241m=\u001b[39m \u001b[43mparse_field\u001b[49m\u001b[43m(\u001b[49m\u001b[43mf\u001b[49m\u001b[43m,\u001b[49m\u001b[43m \u001b[49m\u001b[43mfile_type\u001b[49m\u001b[43m,\u001b[49m\u001b[43m \u001b[49m\u001b[38;5;124;43m'\u001b[39;49m\u001b[38;5;124;43mLatitude\u001b[39;49m\u001b[38;5;124;43m'\u001b[39;49m\u001b[43m)\u001b[49m\n",
      "File \u001b[0;32m~/Documents/GitHub/UVA_NASA_2022/conversion_stub.py:65\u001b[0m, in \u001b[0;36mparse_field\u001b[0;34m(file, field, file_type)\u001b[0m\n\u001b[1;32m     63\u001b[0m     output \u001b[38;5;241m=\u001b[39m \u001b[38;5;28mlist\u001b[39m(file\u001b[38;5;241m.\u001b[39mselect(field))\n\u001b[1;32m     64\u001b[0m \u001b[38;5;28;01melse\u001b[39;00m:\n\u001b[0;32m---> 65\u001b[0m     \u001b[38;5;28;01mraise\u001b[39;00m \u001b[38;5;167;01mException\u001b[39;00m(\u001b[38;5;124m\"\u001b[39m\u001b[38;5;124mUnknown File Type\u001b[39m\u001b[38;5;124m\"\u001b[39m)\n\u001b[1;32m     67\u001b[0m \u001b[38;5;28;01mreturn\u001b[39;00m output\n",
      "\u001b[0;31mException\u001b[0m: Unknown File Type"
     ]
    }
   ],
   "source": [
    "col = parse_field(f, file_type, 'Latitude')"
   ]
  },
  {
   "cell_type": "code",
   "execution_count": 14,
   "id": "02553b3c",
   "metadata": {},
   "outputs": [],
   "source": [
    "output = f.select('Latitude')\n"
   ]
  },
  {
   "cell_type": "code",
   "execution_count": 18,
   "id": "06034786",
   "metadata": {},
   "outputs": [
    {
     "data": {
      "text/plain": [
       "{'scale_factor': 1.0,\n",
       " 'scale_factor_err': 0.0,\n",
       " 'add_offset': 0.0,\n",
       " 'add_offset_err': 0.0,\n",
       " 'calibrated_nt': 5,\n",
       " 'long_name': 'Latitude',\n",
       " 'units': 'degrees',\n",
       " 'format': 'float32',\n",
       " '_FillValue': -inf,\n",
       " \"Data's source\": 'CALIOP L1\\x00'}"
      ]
     },
     "execution_count": 18,
     "metadata": {},
     "output_type": "execute_result"
    }
   ],
   "source": [
    "output.attributes()"
   ]
  },
  {
   "cell_type": "code",
   "execution_count": 20,
   "id": "3def3e9f",
   "metadata": {},
   "outputs": [
    {
     "data": {
      "text/plain": [
       "'Latitude'"
      ]
     },
     "execution_count": 20,
     "metadata": {},
     "output_type": "execute_result"
    }
   ],
   "source": [
    "output.attributes()['long_name']"
   ]
  },
  {
   "cell_type": "code",
   "execution_count": null,
   "id": "021f1377",
   "metadata": {},
   "outputs": [],
   "source": []
  }
 ],
 "metadata": {
  "kernelspec": {
   "display_name": "nasa_capstone_2022",
   "language": "python",
   "name": "nasa_capstone_2022"
  },
  "language_info": {
   "codemirror_mode": {
    "name": "ipython",
    "version": 3
   },
   "file_extension": ".py",
   "mimetype": "text/x-python",
   "name": "python",
   "nbconvert_exporter": "python",
   "pygments_lexer": "ipython3",
   "version": "3.9.5"
  }
 },
 "nbformat": 4,
 "nbformat_minor": 5
}
