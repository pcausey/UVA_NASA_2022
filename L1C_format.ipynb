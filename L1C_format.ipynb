{
 "cells": [
  {
   "cell_type": "code",
   "execution_count": 1,
   "id": "7f3f48cc-fa5f-4283-913d-d7f83a5e59d9",
   "metadata": {},
   "outputs": [],
   "source": [
    "from pyhdf.SD import SD, SDC\n",
    "import h5py\n",
    "import os\n",
    "import pandas as pd\n",
    "import numpy as np\n",
    "import icare"
   ]
  },
  {
   "cell_type": "code",
   "execution_count": 2,
   "id": "8ae4ad70-4ec4-4806-b7f3-dbb2f0bff6e4",
   "metadata": {},
   "outputs": [
    {
     "name": "stdin",
     "output_type": "stream",
     "text": [
      "ICARE Username: jpeele\n",
      "ICARE Password: ···············\n"
     ]
    }
   ],
   "source": [
    "session = icare.ICARESession('/Users/jackpeele/Documents/Data Science/NASA/HDF')"
   ]
  },
  {
   "cell_type": "code",
   "execution_count": 3,
   "id": "a238978e-56d4-4377-8db5-d39fd12928d8",
   "metadata": {},
   "outputs": [],
   "source": [
    "root = 'PARASOL/L1_B-HDF.v1.00/2008/2008_06_01/'"
   ]
  },
  {
   "cell_type": "code",
   "execution_count": 4,
   "id": "7cc46d08-1483-44cd-a47b-50ca74344875",
   "metadata": {},
   "outputs": [],
   "source": [
    "folder = session.listdir(root)"
   ]
  },
  {
   "cell_type": "code",
   "execution_count": 5,
   "id": "5c1337e7-7a68-4f23-a489-25d44c923c37",
   "metadata": {},
   "outputs": [
    {
     "data": {
      "text/plain": [
       "['POLDER3_L1B-BG1-080146M_2008-06-01T00-08-19_V1-00.h5',\n",
       " 'POLDER3_L1B-BG1-080147M_2008-06-01T01-47-10_V1-00.h5',\n",
       " 'POLDER3_L1B-BG1-080148M_2008-06-01T03-26-06_V1-00.h5',\n",
       " 'POLDER3_L1B-BG1-080149M_2008-06-01T05-04-56_V1-00.h5',\n",
       " 'POLDER3_L1B-BG1-080150M_2008-06-01T06-43-53_V1-00.h5',\n",
       " 'POLDER3_L1B-BG1-080151M_2008-06-01T08-22-43_V1-00.h5',\n",
       " 'POLDER3_L1B-BG1-080152M_2008-06-01T10-01-34_V1-00.h5',\n",
       " 'POLDER3_L1B-BG1-080153M_2008-06-01T11-40-31_V1-00.h5',\n",
       " 'POLDER3_L1B-BG1-080154M_2008-06-01T13-19-22_V1-00.h5',\n",
       " 'POLDER3_L1B-BG1-080155M_2008-06-01T14-58-18_V1-00.h5',\n",
       " 'POLDER3_L1B-BG1-080156M_2008-06-01T16-37-09_V1-00.h5',\n",
       " 'POLDER3_L1B-BG1-080157M_2008-06-01T18-16-05_V1-00.h5',\n",
       " 'POLDER3_L1B-BG1-080158M_2008-06-01T19-54-56_V1-00.h5',\n",
       " 'POLDER3_L1B-BG1-080159M_2008-06-01T21-33-52_V1-00.h5',\n",
       " 'POLDER3_L1B-BG1-080160M_2008-06-01T23-12-43_V1-00.h5']"
      ]
     },
     "execution_count": 5,
     "metadata": {},
     "output_type": "execute_result"
    }
   ],
   "source": [
    "folder"
   ]
  },
  {
   "cell_type": "code",
   "execution_count": 9,
   "id": "ef02e310-dc0d-4f63-80d7-4bcae22c9e8a",
   "metadata": {},
   "outputs": [],
   "source": [
    "new_path = session.get_file('PARASOL/L1_B-HDF.v1.00/2008/2008_06_01/POLDER3_L1B-BG1-080146M_2008-06-01T00-08-19_V1-00.h5')"
   ]
  },
  {
   "cell_type": "code",
   "execution_count": 10,
   "id": "50244026-6501-4991-8560-fa2ba7c46763",
   "metadata": {},
   "outputs": [
    {
     "data": {
      "text/plain": [
       "'/Users/jackpeele/Documents/Data Science/NASA/HDF/PARASOL/L1_B-HDF.v1.00/2008/2008_06_01/POLDER3_L1B-BG1-080146M_2008-06-01T00-08-19_V1-00.h5'"
      ]
     },
     "execution_count": 10,
     "metadata": {},
     "output_type": "execute_result"
    }
   ],
   "source": [
    "new_path"
   ]
  },
  {
   "cell_type": "code",
   "execution_count": 11,
   "id": "bda46932-5d9e-45c6-982d-dc35eaeba645",
   "metadata": {},
   "outputs": [
    {
     "ename": "OSError",
     "evalue": "Unable to open file (truncated file: eof = 2706840, sblock->base_addr = 0, stored_eof = 420986667)",
     "output_type": "error",
     "traceback": [
      "\u001b[0;31m---------------------------------------------------------------------------\u001b[0m",
      "\u001b[0;31mOSError\u001b[0m                                   Traceback (most recent call last)",
      "\u001b[0;32m<ipython-input-11-b300909e4a73>\u001b[0m in \u001b[0;36m<module>\u001b[0;34m\u001b[0m\n\u001b[0;32m----> 1\u001b[0;31m \u001b[0mnew_file\u001b[0m \u001b[0;34m=\u001b[0m \u001b[0mh5py\u001b[0m\u001b[0;34m.\u001b[0m\u001b[0mFile\u001b[0m\u001b[0;34m(\u001b[0m\u001b[0mnew_path\u001b[0m\u001b[0;34m,\u001b[0m \u001b[0;34m'r'\u001b[0m\u001b[0;34m)\u001b[0m\u001b[0;34m\u001b[0m\u001b[0;34m\u001b[0m\u001b[0m\n\u001b[0m",
      "\u001b[0;32m~/opt/anaconda3/lib/python3.8/site-packages/h5py/_hl/files.py\u001b[0m in \u001b[0;36m__init__\u001b[0;34m(self, name, mode, driver, libver, userblock_size, swmr, rdcc_nslots, rdcc_nbytes, rdcc_w0, track_order, **kwds)\u001b[0m\n\u001b[1;32m    404\u001b[0m             \u001b[0;32mwith\u001b[0m \u001b[0mphil\u001b[0m\u001b[0;34m:\u001b[0m\u001b[0;34m\u001b[0m\u001b[0;34m\u001b[0m\u001b[0m\n\u001b[1;32m    405\u001b[0m                 \u001b[0mfapl\u001b[0m \u001b[0;34m=\u001b[0m \u001b[0mmake_fapl\u001b[0m\u001b[0;34m(\u001b[0m\u001b[0mdriver\u001b[0m\u001b[0;34m,\u001b[0m \u001b[0mlibver\u001b[0m\u001b[0;34m,\u001b[0m \u001b[0mrdcc_nslots\u001b[0m\u001b[0;34m,\u001b[0m \u001b[0mrdcc_nbytes\u001b[0m\u001b[0;34m,\u001b[0m \u001b[0mrdcc_w0\u001b[0m\u001b[0;34m,\u001b[0m \u001b[0;34m**\u001b[0m\u001b[0mkwds\u001b[0m\u001b[0;34m)\u001b[0m\u001b[0;34m\u001b[0m\u001b[0;34m\u001b[0m\u001b[0m\n\u001b[0;32m--> 406\u001b[0;31m                 fid = make_fid(name, mode, userblock_size,\n\u001b[0m\u001b[1;32m    407\u001b[0m                                \u001b[0mfapl\u001b[0m\u001b[0;34m,\u001b[0m \u001b[0mfcpl\u001b[0m\u001b[0;34m=\u001b[0m\u001b[0mmake_fcpl\u001b[0m\u001b[0;34m(\u001b[0m\u001b[0mtrack_order\u001b[0m\u001b[0;34m=\u001b[0m\u001b[0mtrack_order\u001b[0m\u001b[0;34m)\u001b[0m\u001b[0;34m,\u001b[0m\u001b[0;34m\u001b[0m\u001b[0;34m\u001b[0m\u001b[0m\n\u001b[1;32m    408\u001b[0m                                swmr=swmr)\n",
      "\u001b[0;32m~/opt/anaconda3/lib/python3.8/site-packages/h5py/_hl/files.py\u001b[0m in \u001b[0;36mmake_fid\u001b[0;34m(name, mode, userblock_size, fapl, fcpl, swmr)\u001b[0m\n\u001b[1;32m    171\u001b[0m         \u001b[0;32mif\u001b[0m \u001b[0mswmr\u001b[0m \u001b[0;32mand\u001b[0m \u001b[0mswmr_support\u001b[0m\u001b[0;34m:\u001b[0m\u001b[0;34m\u001b[0m\u001b[0;34m\u001b[0m\u001b[0m\n\u001b[1;32m    172\u001b[0m             \u001b[0mflags\u001b[0m \u001b[0;34m|=\u001b[0m \u001b[0mh5f\u001b[0m\u001b[0;34m.\u001b[0m\u001b[0mACC_SWMR_READ\u001b[0m\u001b[0;34m\u001b[0m\u001b[0;34m\u001b[0m\u001b[0m\n\u001b[0;32m--> 173\u001b[0;31m         \u001b[0mfid\u001b[0m \u001b[0;34m=\u001b[0m \u001b[0mh5f\u001b[0m\u001b[0;34m.\u001b[0m\u001b[0mopen\u001b[0m\u001b[0;34m(\u001b[0m\u001b[0mname\u001b[0m\u001b[0;34m,\u001b[0m \u001b[0mflags\u001b[0m\u001b[0;34m,\u001b[0m \u001b[0mfapl\u001b[0m\u001b[0;34m=\u001b[0m\u001b[0mfapl\u001b[0m\u001b[0;34m)\u001b[0m\u001b[0;34m\u001b[0m\u001b[0;34m\u001b[0m\u001b[0m\n\u001b[0m\u001b[1;32m    174\u001b[0m     \u001b[0;32melif\u001b[0m \u001b[0mmode\u001b[0m \u001b[0;34m==\u001b[0m \u001b[0;34m'r+'\u001b[0m\u001b[0;34m:\u001b[0m\u001b[0;34m\u001b[0m\u001b[0;34m\u001b[0m\u001b[0m\n\u001b[1;32m    175\u001b[0m         \u001b[0mfid\u001b[0m \u001b[0;34m=\u001b[0m \u001b[0mh5f\u001b[0m\u001b[0;34m.\u001b[0m\u001b[0mopen\u001b[0m\u001b[0;34m(\u001b[0m\u001b[0mname\u001b[0m\u001b[0;34m,\u001b[0m \u001b[0mh5f\u001b[0m\u001b[0;34m.\u001b[0m\u001b[0mACC_RDWR\u001b[0m\u001b[0;34m,\u001b[0m \u001b[0mfapl\u001b[0m\u001b[0;34m=\u001b[0m\u001b[0mfapl\u001b[0m\u001b[0;34m)\u001b[0m\u001b[0;34m\u001b[0m\u001b[0;34m\u001b[0m\u001b[0m\n",
      "\u001b[0;32mh5py/_objects.pyx\u001b[0m in \u001b[0;36mh5py._objects.with_phil.wrapper\u001b[0;34m()\u001b[0m\n",
      "\u001b[0;32mh5py/_objects.pyx\u001b[0m in \u001b[0;36mh5py._objects.with_phil.wrapper\u001b[0;34m()\u001b[0m\n",
      "\u001b[0;32mh5py/h5f.pyx\u001b[0m in \u001b[0;36mh5py.h5f.open\u001b[0;34m()\u001b[0m\n",
      "\u001b[0;31mOSError\u001b[0m: Unable to open file (truncated file: eof = 2706840, sblock->base_addr = 0, stored_eof = 420986667)"
     ]
    }
   ],
   "source": [
    "new_file = h5py.File(new_path, 'r')"
   ]
  },
  {
   "cell_type": "code",
   "execution_count": null,
   "id": "5f8b378b-f7dd-4da3-8bc9-46754732b8be",
   "metadata": {},
   "outputs": [],
   "source": []
  }
 ],
 "metadata": {
  "kernelspec": {
   "display_name": "Python 3",
   "language": "python",
   "name": "python3"
  },
  "language_info": {
   "codemirror_mode": {
    "name": "ipython",
    "version": 3
   },
   "file_extension": ".py",
   "mimetype": "text/x-python",
   "name": "python",
   "nbconvert_exporter": "python",
   "pygments_lexer": "ipython3",
   "version": "3.8.8"
  }
 },
 "nbformat": 4,
 "nbformat_minor": 5
}
