{
 "cells": [
  {
   "cell_type": "code",
   "execution_count": 1,
   "id": "d91005c4-2178-4f27-8ca3-6daf50228d5a",
   "metadata": {},
   "outputs": [],
   "source": [
    "from pyhdf.SD import SD, SDC\n",
    "import h5py\n",
    "import os\n",
    "import pandas as pd\n",
    "import numpy as np\n",
    "from datetime import datetime, timedelta\n",
    "import icare\n",
    "import sunrise\n",
    "import nasa_plotting_scripts as nasa\n",
    "import plotly.graph_objects as go"
   ]
  },
  {
   "cell_type": "code",
   "execution_count": 2,
   "id": "1846efba-1e4d-4dc2-a476-82d2bd2eaafe",
   "metadata": {
    "tags": []
   },
   "outputs": [
    {
     "name": "stdin",
     "output_type": "stream",
     "text": [
      "ICARE Username: jpeele\n",
      "ICARE Password: ···············\n"
     ]
    }
   ],
   "source": [
    "session = icare.ICARESession('/Users/jackpeele/Documents/Data Science/NASA/HDF')\n",
    "# folder = session.listdir('CALIOP/SODA-333m.v2.00/2010/2010_03_02/')"
   ]
  },
  {
   "cell_type": "code",
   "execution_count": 3,
   "id": "4a70588e-5ffb-4dd3-bec0-10f253107782",
   "metadata": {
    "tags": []
   },
   "outputs": [],
   "source": [
    "root = 'CALIOP/SODA-333m.v2.00/2010/2010_03_04/'\n",
    "\n",
    "def find_ACTIVATE(root):\n",
    "    folder = session.listdir(root)\n",
    "    PATH = []\n",
    "\n",
    "    for data in folder:\n",
    "\n",
    "        path = session.get_file(root + data)\n",
    "        file = SD(path, SDC.READ)\n",
    "\n",
    "        lat = np.array(file.select('Latitude').get())\n",
    "        lon = np.array(file.select('Longitude').get())\n",
    "        \n",
    "        indices = np.where((lat > 32) & (lat < 39) & (lon > 70) & (lon < 75))\n",
    "        \n",
    "#         print(len(indices))\n",
    "#         print(indices)\n",
    "        \n",
    "        if len(indices[0]) > 0:\n",
    "            print(path)\n",
    "            PATH.append(path)\n",
    "    \n",
    "    return PATH\n",
    "\n",
    "# find_ACTIVATE(root)"
   ]
  },
  {
   "cell_type": "code",
   "execution_count": 4,
   "id": "9e658fca-eb84-4b01-bfd2-266463754a1d",
   "metadata": {},
   "outputs": [],
   "source": [
    "def find_ACTIVATE_in_range(root, rng):\n",
    "    '''\n",
    "    parse through folders, determine which days contain ACTIVATE region\n",
    "    '''\n",
    "    \n",
    "    MATCH = []\n",
    "    \n",
    "    for i in range(rng):\n",
    "        print(i)\n",
    "\n",
    "        i += 1\n",
    "        # root = 'CALIOP/SODA-333m.v2.00/2010/2010_03_'\n",
    "\n",
    "        if i < 10:\n",
    "            i = '0' + str(i) + '/'\n",
    "        else:\n",
    "            i = str(i) + '/'\n",
    "\n",
    "        new_root = root + i\n",
    "\n",
    "        MATCH.append(find_ACTIVATE(new_root))\n",
    "    \n",
    "    return MATCH\n",
    "        \n",
    "\n",
    "# test = find_ACTIVATE_in_range('CALIOP/SODA-333m.v2.00/2010/2010_03_', 10)"
   ]
  },
  {
   "cell_type": "code",
   "execution_count": 5,
   "id": "8ffb4ad6-8d02-46b4-9997-47fd91c9de9a",
   "metadata": {},
   "outputs": [],
   "source": [
    "# Match\n",
    "\n",
    "# /Users/jackpeele/Documents/Data Science/NASA/HDF/CALIOP/SODA-333m.v2.00/2010/2010_03_04/SODA-333m_2010-03-04T21-18-45ZN_V2-00.hdf\n",
    "# /Users/jackpeele/Documents/Data Science/NASA/HDF/CALIOP/SODA-333m.v2.00/2010/2010_03_05/SODA-333m_2010-03-05T07-58-31ZD_V2-00.hdf\n",
    "# /Users/jackpeele/Documents/Data Science/NASA/HDF/CALIOP/SODA-333m.v2.00/2010/2010_03_06/SODA-333m_2010-03-06T21-06-36ZN_V2-00.hdf\n",
    "# /Users/jackpeele/Documents/Data Science/NASA/HDF/CALIOP/SODA-333m.v2.00/2010/2010_03_07/SODA-333m_2010-03-07T07-46-22ZD_V2-00.hdf\n",
    "# /Users/jackpeele/Documents/Data Science/NASA/HDF/CALIOP/SODA-333m.v2.00/2010/2010_03_08/SODA-333m_2010-03-08T20-54-27ZN_V2-00.hdf\n",
    "# /Users/jackpeele/Documents/Data Science/NASA/HDF/CALIOP/SODA-333m.v2.00/2010/2010_03_12/SODA-333m_2010-03-12T08-05-28ZD_V2-00.hdf\n",
    "# /Users/jackpeele/Documents/Data Science/NASA/HDF/CALIOP/SODA-333m.v2.00/2010/2010_03_13/SODA-333m_2010-03-13T21-13-33ZN_V2-00.hdf\n",
    "# /Users/jackpeele/Documents/Data Science/NASA/HDF/CALIOP/SODA-333m.v2.00/2010/2010_03_14/SODA-333m_2010-03-14T07-53-20ZD_V2-00.hdf\n",
    "# /Users/jackpeele/Documents/Data Science/NASA/HDF/CALIOP/SODA-333m.v2.00/2010/2010_03_15/SODA-333m_2010-03-15T21-01-25ZN_V2-00.hdf\n",
    "# /Users/jackpeele/Documents/Data Science/NASA/HDF/CALIOP/SODA-333m.v2.00/2010/2010_03_20/SODA-333m_2010-03-20T21-20-34ZN_V2-00.hdf\n",
    "# /Users/jackpeele/Documents/Data Science/NASA/HDF/CALIOP/SODA-333m.v2.00/2010/2010_03_21/SODA-333m_2010-03-21T08-00-20ZD_V2-00.hdf\n",
    "# /Users/jackpeele/Documents/Data Science/NASA/HDF/CALIOP/SODA-333m.v2.00/2010/2010_03_22/SODA-333m_2010-03-22T21-08-25ZN_V2-00.hdf\n",
    "# /Users/jackpeele/Documents/Data Science/NASA/HDF/CALIOP/SODA-333m.v2.00/2010/2010_03_23/SODA-333m_2010-03-23T07-48-11ZD_V2-00.hdf\n",
    "# /Users/jackpeele/Documents/Data Science/NASA/HDF/CALIOP/SODA-333m.v2.00/2010/2010_03_24/SODA-333m_2010-03-24T20-56-16ZN_V2-00.hdf\n",
    "# /Users/jackpeele/Documents/Data Science/NASA/HDF/CALIOP/SODA-333m.v2.00/2010/2010_03_28/SODA-333m_2010-03-28T08-07-18ZD_V2-00.hdf\n",
    "# /Users/jackpeele/Documents/Data Science/NASA/HDF/CALIOP/SODA-333m.v2.00/2010/2010_03_29/SODA-333m_2010-03-29T21-15-22ZN_V2-00.hdf\n",
    "# /Users/jackpeele/Documents/Data Science/NASA/HDF/CALIOP/SODA-333m.v2.00/2010/2010_03_31/SODA-333m_2010-03-31T21-03-14ZN_V2-00.hdf"
   ]
  },
  {
   "cell_type": "code",
   "execution_count": 114,
   "id": "de0f9565-68c9-44e9-93aa-705a1a17df7f",
   "metadata": {},
   "outputs": [],
   "source": [
    "path = session.get_file('CALIOP/SODA-333m.v2.00/2010/2010_03_12/SODA-333m_2010-03-12T08-05-28ZD_V2-00.hdf')\n",
    "file = SD(path, SDC.READ)"
   ]
  },
  {
   "cell_type": "code",
   "execution_count": 115,
   "id": "408de18b-928f-40bf-b5cd-8e289fafef7b",
   "metadata": {
    "tags": []
   },
   "outputs": [
    {
     "name": "stdout",
     "output_type": "stream",
     "text": [
      "0 Latitude\n",
      "1 Longitude\n",
      "2 TAI_Time\n",
      "3 GMAO_Altitudes\n",
      "4 VFM_Altitudes\n",
      "5 Total_Attenuated_Surface_Cross_Section_532\n",
      "6 Total_Attenuated_Surface_Cross_Section_1064\n",
      "7 Perpendicular_Attenuated_Surface_Cross_Section_532\n",
      "8 CPR_Attenuated_Cross_Section\n",
      "9 Depolarization_Aerosol_Upper_Layer\n",
      "10 AMSR_E_Surface_Wind_Speed\n",
      "11 AMSR_E_Atmospheric_Water_Vapor\n",
      "12 AMSR_E_cloud_liquid_water_path\n",
      "13 AMSR_E_Sea_Surface_Temperature\n",
      "14 GMAO_Ozone\n",
      "15 GMAO_Pressure\n",
      "16 GMAO_Temperature\n",
      "17 GMAO_relative_humidity\n",
      "18 Optical_Depth_CPR_CAL532\n",
      "19 Optical_Depth_CPR_CAL1064\n",
      "20 Optical_Depth_AMSR_CAL532\n",
      "21 Optical_Depth_AMSR_CAL1064\n",
      "22 Optical_Depth_MODIS_550\n",
      "23 Optical_Depth_MODIS_1064\n",
      "24 Optical_Depth_532_Over_Liquid_Water_Cloud\n",
      "25 Optical_Depth_1064_Over_Liquid_Water_Cloud\n",
      "26 Angstrom_Exponent\n",
      "27 Lidar_Ratio_532\n",
      "28 Lidar_Ratio_1064\n",
      "29 Particle_Depolarization\n",
      "30 Particle_Total_Integrated_Backscatter_532\n",
      "31 Total_Perpendicular_Integrated_Backscatter_532\n",
      "32 Total_Integrated_Backscatter_1064\n",
      "33 Angstrom_Exponent_Over_Liquid_Water_Cloud\n",
      "34 Lidar_Ratio_532_Over_Liquid_Water_Cloud\n",
      "35 Lidar_Ratio_1064_Over_Liquid_Water_Cloud\n",
      "36 Particle_Depolarization_Over_Liquid_Water_Cloud\n",
      "37 Particle_Integrated_Backscatter_532_Over_Liquid_Water_Cloud\n",
      "38 Total_Integrated_Backscatter_532_Over_Liquid_Water_Cloud\n",
      "39 Minimum_Integrated_Backscatter_532_Over_Liquid_Water_Cloud\n",
      "40 Integrated_Perpendicular_Backscatter_532_Over_Liquid_Water_Cloud\n",
      "41 Total_Integrated_Backscatter_1064_Over_Liquid_Water_Cloud\n",
      "42 Integrated_Backscatter_532_Liquid_Water_Cloud\n",
      "43 Integrated_Backscatter_1064_Liquid_Water_Cloud\n",
      "44 Multiple_Scattering_Factor_Liquid_Water_Cloud\n",
      "45 Depolarization_Liquid_Water_Cloud\n",
      "46 Nb_Aerosol_Layer\n",
      "47 Aerosol_Base_Altitude\n",
      "48 Aerosol_Top_Altitude\n",
      "49 Nb_Liquid_Cloud_Layer\n",
      "50 Liquid_Cloud_Base_Altitude\n",
      "51 Liquid_Cloud_Top_Altitude\n",
      "52 Nb_Ice_Cloud_Layer\n",
      "53 Ice_Cloud_Base_Altitude\n",
      "54 Ice_Cloud_Top_Altitude\n",
      "55 VFM_Feature_Classification_Flags\n",
      "56 Scene_Flags\n",
      "57 QA_Flags\n",
      "58 Optical_Depth_Error_CPR\n",
      "59 Optical_Depth_Error_Total\n"
     ]
    }
   ],
   "source": [
    "datasets_dic = file.datasets()\n",
    "\n",
    "for idx,sds in enumerate(datasets_dic.keys()):\n",
    "    print(idx,sds)"
   ]
  },
  {
   "cell_type": "code",
   "execution_count": 116,
   "id": "554b7fd7-5424-4176-9be7-ac52dc8cd88b",
   "metadata": {},
   "outputs": [],
   "source": [
    "lat = file.select('Latitude').get()\n",
    "lon = file.select('Longitude').get()\n",
    "temp = pd.DataFrame({'lat': lat, 'long': lon})"
   ]
  },
  {
   "cell_type": "code",
   "execution_count": 117,
   "id": "cb6e73a5-6f5f-4ec2-9c72-17b9bf9a6c94",
   "metadata": {},
   "outputs": [],
   "source": [
    "index = np.array(temp.query('lat > 32 & lat < 39 & long > 70 & long < 75').index)"
   ]
  },
  {
   "cell_type": "code",
   "execution_count": 118,
   "id": "3e8823a4-e506-4ca9-beb9-44a58c941c6a",
   "metadata": {},
   "outputs": [],
   "source": [
    "time = file.select('TAI_Time').get()\n",
    "temp['tai_time'] = time"
   ]
  },
  {
   "cell_type": "code",
   "execution_count": 119,
   "id": "87771043-81c9-4c0d-9a26-0ee06ffcd94f",
   "metadata": {},
   "outputs": [],
   "source": [
    "ACTIVATE = temp.loc[index]"
   ]
  },
  {
   "cell_type": "code",
   "execution_count": 120,
   "id": "deaf5691-9617-413f-b223-09089a6127de",
   "metadata": {},
   "outputs": [],
   "source": [
    "def ACTIVATE_time_to_utc(time):\n",
    "    \n",
    "    # https://hpiers.obspm.fr/eop-pc/index.php?index=TAI-UTC_tab&lang=en\n",
    "    # leap seconds for a given date\n",
    "    \n",
    "    UTC = []\n",
    "    \n",
    "    for t in time:\n",
    "        utc = datetime(1993, 1, 1) + timedelta(seconds = t - (34 - 27))\n",
    "        UTC.append(utc)\n",
    "    \n",
    "    return UTC"
   ]
  },
  {
   "cell_type": "code",
   "execution_count": 121,
   "id": "7c32a5de-593e-4be3-b18e-0bbbf8797912",
   "metadata": {},
   "outputs": [],
   "source": [
    "ACTIVATE['utc'] = ACTIVATE_time_to_utc(ACTIVATE['tai_time'])"
   ]
  },
  {
   "cell_type": "code",
   "execution_count": 122,
   "id": "a55645d3-2635-45b4-83a0-4aed1c5a4448",
   "metadata": {},
   "outputs": [],
   "source": [
    "def find_sunrise(ACTIVATE):\n",
    "    \n",
    "    # do I need to adjust time zones?\n",
    "    \n",
    "    SRISE = []\n",
    "    \n",
    "    for i in range(len(ACTIVATE)):\n",
    "        s = sunrise.sun(lat = list(ACTIVATE['lat'])[i], long = list(ACTIVATE['long'])[i])\n",
    "        srise = s.sunrise(when = list(ACTIVATE['utc'])[i])\n",
    "        SRISE.append(srise)\n",
    "    \n",
    "    return SRISE        "
   ]
  },
  {
   "cell_type": "code",
   "execution_count": 123,
   "id": "9c2f05de-e437-4d68-bb7b-c897c8d0b780",
   "metadata": {},
   "outputs": [],
   "source": [
    "ACTIVATE['sunrise'] = find_sunrise(ACTIVATE)"
   ]
  },
  {
   "cell_type": "code",
   "execution_count": 124,
   "id": "dbaccbbc-cfa8-4207-b7fb-fcd604912415",
   "metadata": {},
   "outputs": [],
   "source": [
    "def find_sunset(ACTIVATE):\n",
    "    \n",
    "    # do I need to adjust time zones?\n",
    "    \n",
    "    SSET = []\n",
    "    \n",
    "    for i in range(len(ACTIVATE)):\n",
    "        s = sunrise.sun(lat = list(ACTIVATE['lat'])[i], long = list(ACTIVATE['long'])[i])\n",
    "        sset = s.sunset(when = list(ACTIVATE['utc'])[i])\n",
    "        SSET.append(sset)\n",
    "    \n",
    "    return SSET    "
   ]
  },
  {
   "cell_type": "code",
   "execution_count": 125,
   "id": "b3778d06-df2c-4f3d-9b5b-6741a7de5345",
   "metadata": {},
   "outputs": [],
   "source": [
    "ACTIVATE['sunset'] = find_sunset(ACTIVATE)"
   ]
  },
  {
   "cell_type": "code",
   "execution_count": 126,
   "id": "7bb6f3e5-6902-437e-b582-4e247b065410",
   "metadata": {
    "tags": []
   },
   "outputs": [],
   "source": [
    "ACTIVATE['month'] = [x.month for x in ACTIVATE.utc]\n",
    "ACTIVATE['day'] = [x.day for x in ACTIVATE.utc]\n",
    "ACTIVATE['year'] = [x.year for x in ACTIVATE.utc]\n",
    "ACTIVATE['hour'] = [x.hour for x in ACTIVATE.sunrise]\n",
    "ACTIVATE['minute'] = [x.minute for x in ACTIVATE.sunrise]\n",
    "ACTIVATE['second'] = [x.second for x in ACTIVATE.sunrise]\n",
    "\n",
    "ACTIVATE['sunrise'] = pd.to_datetime(ACTIVATE[['year', 'month', 'day', 'hour', 'minute', 'second']]) "
   ]
  },
  {
   "cell_type": "code",
   "execution_count": 127,
   "id": "a44bcaf3-189a-4740-afe5-9b781f23613d",
   "metadata": {},
   "outputs": [],
   "source": [
    "ACTIVATE['hour'] = [x.hour for x in ACTIVATE.sunset]\n",
    "ACTIVATE['minute'] = [x.minute for x in ACTIVATE.sunset]\n",
    "ACTIVATE['second'] = [x.second for x in ACTIVATE.sunset]\n",
    "\n",
    "ACTIVATE['sunset'] = pd.to_datetime(ACTIVATE[['year', 'month', 'day', 'hour', 'minute', 'second']]) "
   ]
  },
  {
   "cell_type": "code",
   "execution_count": 128,
   "id": "cccf740d-b7b9-454a-8c9f-af545bf74ae5",
   "metadata": {},
   "outputs": [],
   "source": [
    "ACTIVATE.drop(['month', 'day', 'year', 'hour', 'minute', 'second'], axis = 1, inplace = True)"
   ]
  },
  {
   "cell_type": "code",
   "execution_count": 129,
   "id": "41ae50d4-7897-4c56-9980-ef9f7d86c15d",
   "metadata": {},
   "outputs": [
    {
     "data": {
      "text/html": [
       "<div>\n",
       "<style scoped>\n",
       "    .dataframe tbody tr th:only-of-type {\n",
       "        vertical-align: middle;\n",
       "    }\n",
       "\n",
       "    .dataframe tbody tr th {\n",
       "        vertical-align: top;\n",
       "    }\n",
       "\n",
       "    .dataframe thead th {\n",
       "        text-align: right;\n",
       "    }\n",
       "</style>\n",
       "<table border=\"1\" class=\"dataframe\">\n",
       "  <thead>\n",
       "    <tr style=\"text-align: right;\">\n",
       "      <th></th>\n",
       "      <th>lat</th>\n",
       "      <th>long</th>\n",
       "      <th>tai_time</th>\n",
       "      <th>utc</th>\n",
       "      <th>sunrise</th>\n",
       "      <th>sunset</th>\n",
       "    </tr>\n",
       "  </thead>\n",
       "  <tbody>\n",
       "    <tr>\n",
       "      <th>42432</th>\n",
       "      <td>32.002544</td>\n",
       "      <td>71.391220</td>\n",
       "      <td>5.425368e+08</td>\n",
       "      <td>2010-03-12 08:40:31.222200</td>\n",
       "      <td>2010-03-12 01:29:48</td>\n",
       "      <td>2010-03-12 13:19:10</td>\n",
       "    </tr>\n",
       "    <tr>\n",
       "      <th>42433</th>\n",
       "      <td>32.005508</td>\n",
       "      <td>71.390404</td>\n",
       "      <td>5.425368e+08</td>\n",
       "      <td>2010-03-12 08:40:31.271800</td>\n",
       "      <td>2010-03-12 01:29:49</td>\n",
       "      <td>2010-03-12 13:19:10</td>\n",
       "    </tr>\n",
       "    <tr>\n",
       "      <th>42434</th>\n",
       "      <td>32.008476</td>\n",
       "      <td>71.389587</td>\n",
       "      <td>5.425368e+08</td>\n",
       "      <td>2010-03-12 08:40:31.321400</td>\n",
       "      <td>2010-03-12 01:29:49</td>\n",
       "      <td>2010-03-12 13:19:10</td>\n",
       "    </tr>\n",
       "    <tr>\n",
       "      <th>42435</th>\n",
       "      <td>32.011444</td>\n",
       "      <td>71.388771</td>\n",
       "      <td>5.425368e+08</td>\n",
       "      <td>2010-03-12 08:40:31.371000</td>\n",
       "      <td>2010-03-12 01:29:49</td>\n",
       "      <td>2010-03-12 13:19:11</td>\n",
       "    </tr>\n",
       "    <tr>\n",
       "      <th>42436</th>\n",
       "      <td>32.014412</td>\n",
       "      <td>71.387962</td>\n",
       "      <td>5.425368e+08</td>\n",
       "      <td>2010-03-12 08:40:31.420600</td>\n",
       "      <td>2010-03-12 01:29:49</td>\n",
       "      <td>2010-03-12 13:19:11</td>\n",
       "    </tr>\n",
       "    <tr>\n",
       "      <th>...</th>\n",
       "      <td>...</td>\n",
       "      <td>...</td>\n",
       "      <td>...</td>\n",
       "      <td>...</td>\n",
       "      <td>...</td>\n",
       "      <td>...</td>\n",
       "    </tr>\n",
       "    <tr>\n",
       "      <th>44090</th>\n",
       "      <td>36.934288</td>\n",
       "      <td>70.003555</td>\n",
       "      <td>5.425369e+08</td>\n",
       "      <td>2010-03-12 08:41:53.455000</td>\n",
       "      <td>2010-03-12 01:37:00</td>\n",
       "      <td>2010-03-12 13:23:05</td>\n",
       "    </tr>\n",
       "    <tr>\n",
       "      <th>44091</th>\n",
       "      <td>36.937256</td>\n",
       "      <td>70.002678</td>\n",
       "      <td>5.425369e+08</td>\n",
       "      <td>2010-03-12 08:41:53.504600</td>\n",
       "      <td>2010-03-12 01:37:00</td>\n",
       "      <td>2010-03-12 13:23:05</td>\n",
       "    </tr>\n",
       "    <tr>\n",
       "      <th>44092</th>\n",
       "      <td>36.940220</td>\n",
       "      <td>70.001801</td>\n",
       "      <td>5.425369e+08</td>\n",
       "      <td>2010-03-12 08:41:53.554200</td>\n",
       "      <td>2010-03-12 01:37:00</td>\n",
       "      <td>2010-03-12 13:23:05</td>\n",
       "    </tr>\n",
       "    <tr>\n",
       "      <th>44093</th>\n",
       "      <td>36.943188</td>\n",
       "      <td>70.000916</td>\n",
       "      <td>5.425369e+08</td>\n",
       "      <td>2010-03-12 08:41:53.603800</td>\n",
       "      <td>2010-03-12 01:37:01</td>\n",
       "      <td>2010-03-12 13:23:05</td>\n",
       "    </tr>\n",
       "    <tr>\n",
       "      <th>44094</th>\n",
       "      <td>36.946152</td>\n",
       "      <td>70.000038</td>\n",
       "      <td>5.425369e+08</td>\n",
       "      <td>2010-03-12 08:41:53.653400</td>\n",
       "      <td>2010-03-12 01:37:01</td>\n",
       "      <td>2010-03-12 13:23:05</td>\n",
       "    </tr>\n",
       "  </tbody>\n",
       "</table>\n",
       "<p>1663 rows × 6 columns</p>\n",
       "</div>"
      ],
      "text/plain": [
       "             lat       long      tai_time                        utc  \\\n",
       "42432  32.002544  71.391220  5.425368e+08 2010-03-12 08:40:31.222200   \n",
       "42433  32.005508  71.390404  5.425368e+08 2010-03-12 08:40:31.271800   \n",
       "42434  32.008476  71.389587  5.425368e+08 2010-03-12 08:40:31.321400   \n",
       "42435  32.011444  71.388771  5.425368e+08 2010-03-12 08:40:31.371000   \n",
       "42436  32.014412  71.387962  5.425368e+08 2010-03-12 08:40:31.420600   \n",
       "...          ...        ...           ...                        ...   \n",
       "44090  36.934288  70.003555  5.425369e+08 2010-03-12 08:41:53.455000   \n",
       "44091  36.937256  70.002678  5.425369e+08 2010-03-12 08:41:53.504600   \n",
       "44092  36.940220  70.001801  5.425369e+08 2010-03-12 08:41:53.554200   \n",
       "44093  36.943188  70.000916  5.425369e+08 2010-03-12 08:41:53.603800   \n",
       "44094  36.946152  70.000038  5.425369e+08 2010-03-12 08:41:53.653400   \n",
       "\n",
       "                  sunrise              sunset  \n",
       "42432 2010-03-12 01:29:48 2010-03-12 13:19:10  \n",
       "42433 2010-03-12 01:29:49 2010-03-12 13:19:10  \n",
       "42434 2010-03-12 01:29:49 2010-03-12 13:19:10  \n",
       "42435 2010-03-12 01:29:49 2010-03-12 13:19:11  \n",
       "42436 2010-03-12 01:29:49 2010-03-12 13:19:11  \n",
       "...                   ...                 ...  \n",
       "44090 2010-03-12 01:37:00 2010-03-12 13:23:05  \n",
       "44091 2010-03-12 01:37:00 2010-03-12 13:23:05  \n",
       "44092 2010-03-12 01:37:00 2010-03-12 13:23:05  \n",
       "44093 2010-03-12 01:37:01 2010-03-12 13:23:05  \n",
       "44094 2010-03-12 01:37:01 2010-03-12 13:23:05  \n",
       "\n",
       "[1663 rows x 6 columns]"
      ]
     },
     "execution_count": 129,
     "metadata": {},
     "output_type": "execute_result"
    }
   ],
   "source": [
    "ACTIVATE"
   ]
  },
  {
   "cell_type": "code",
   "execution_count": 130,
   "id": "7d5de3a8-cf77-4186-9db2-b2e79c861a2c",
   "metadata": {},
   "outputs": [],
   "source": [
    "DN = []\n",
    "\n",
    "for i in range(len(ACTIVATE)):\n",
    "    if list(ACTIVATE.utc)[i] > list(ACTIVATE.sunrise)[i] and list(ACTIVATE.utc)[i] < list(ACTIVATE.sunset)[i]:\n",
    "        dn = 'day'\n",
    "        DN.append(dn)\n",
    "    else:\n",
    "        dn = 'night'\n",
    "        DN.append(dn)"
   ]
  },
  {
   "cell_type": "code",
   "execution_count": 131,
   "id": "8aae3287-4063-4f3f-a3ea-3ff6bc2c7f3b",
   "metadata": {},
   "outputs": [],
   "source": [
    "ACTIVATE['day_or_night'] = DN"
   ]
  },
  {
   "cell_type": "code",
   "execution_count": 132,
   "id": "1d436359-0407-4a8f-9021-90d1a20c2aaa",
   "metadata": {},
   "outputs": [
    {
     "data": {
      "text/html": [
       "<div>\n",
       "<style scoped>\n",
       "    .dataframe tbody tr th:only-of-type {\n",
       "        vertical-align: middle;\n",
       "    }\n",
       "\n",
       "    .dataframe tbody tr th {\n",
       "        vertical-align: top;\n",
       "    }\n",
       "\n",
       "    .dataframe thead th {\n",
       "        text-align: right;\n",
       "    }\n",
       "</style>\n",
       "<table border=\"1\" class=\"dataframe\">\n",
       "  <thead>\n",
       "    <tr style=\"text-align: right;\">\n",
       "      <th></th>\n",
       "      <th>lat</th>\n",
       "      <th>long</th>\n",
       "      <th>tai_time</th>\n",
       "      <th>utc</th>\n",
       "      <th>sunrise</th>\n",
       "      <th>sunset</th>\n",
       "      <th>day_or_night</th>\n",
       "    </tr>\n",
       "  </thead>\n",
       "  <tbody>\n",
       "    <tr>\n",
       "      <th>42432</th>\n",
       "      <td>32.002544</td>\n",
       "      <td>71.391220</td>\n",
       "      <td>5.425368e+08</td>\n",
       "      <td>2010-03-12 08:40:31.222200</td>\n",
       "      <td>2010-03-12 01:29:48</td>\n",
       "      <td>2010-03-12 13:19:10</td>\n",
       "      <td>day</td>\n",
       "    </tr>\n",
       "    <tr>\n",
       "      <th>42433</th>\n",
       "      <td>32.005508</td>\n",
       "      <td>71.390404</td>\n",
       "      <td>5.425368e+08</td>\n",
       "      <td>2010-03-12 08:40:31.271800</td>\n",
       "      <td>2010-03-12 01:29:49</td>\n",
       "      <td>2010-03-12 13:19:10</td>\n",
       "      <td>day</td>\n",
       "    </tr>\n",
       "    <tr>\n",
       "      <th>42434</th>\n",
       "      <td>32.008476</td>\n",
       "      <td>71.389587</td>\n",
       "      <td>5.425368e+08</td>\n",
       "      <td>2010-03-12 08:40:31.321400</td>\n",
       "      <td>2010-03-12 01:29:49</td>\n",
       "      <td>2010-03-12 13:19:10</td>\n",
       "      <td>day</td>\n",
       "    </tr>\n",
       "    <tr>\n",
       "      <th>42435</th>\n",
       "      <td>32.011444</td>\n",
       "      <td>71.388771</td>\n",
       "      <td>5.425368e+08</td>\n",
       "      <td>2010-03-12 08:40:31.371000</td>\n",
       "      <td>2010-03-12 01:29:49</td>\n",
       "      <td>2010-03-12 13:19:11</td>\n",
       "      <td>day</td>\n",
       "    </tr>\n",
       "    <tr>\n",
       "      <th>42436</th>\n",
       "      <td>32.014412</td>\n",
       "      <td>71.387962</td>\n",
       "      <td>5.425368e+08</td>\n",
       "      <td>2010-03-12 08:40:31.420600</td>\n",
       "      <td>2010-03-12 01:29:49</td>\n",
       "      <td>2010-03-12 13:19:11</td>\n",
       "      <td>day</td>\n",
       "    </tr>\n",
       "    <tr>\n",
       "      <th>...</th>\n",
       "      <td>...</td>\n",
       "      <td>...</td>\n",
       "      <td>...</td>\n",
       "      <td>...</td>\n",
       "      <td>...</td>\n",
       "      <td>...</td>\n",
       "      <td>...</td>\n",
       "    </tr>\n",
       "    <tr>\n",
       "      <th>44090</th>\n",
       "      <td>36.934288</td>\n",
       "      <td>70.003555</td>\n",
       "      <td>5.425369e+08</td>\n",
       "      <td>2010-03-12 08:41:53.455000</td>\n",
       "      <td>2010-03-12 01:37:00</td>\n",
       "      <td>2010-03-12 13:23:05</td>\n",
       "      <td>day</td>\n",
       "    </tr>\n",
       "    <tr>\n",
       "      <th>44091</th>\n",
       "      <td>36.937256</td>\n",
       "      <td>70.002678</td>\n",
       "      <td>5.425369e+08</td>\n",
       "      <td>2010-03-12 08:41:53.504600</td>\n",
       "      <td>2010-03-12 01:37:00</td>\n",
       "      <td>2010-03-12 13:23:05</td>\n",
       "      <td>day</td>\n",
       "    </tr>\n",
       "    <tr>\n",
       "      <th>44092</th>\n",
       "      <td>36.940220</td>\n",
       "      <td>70.001801</td>\n",
       "      <td>5.425369e+08</td>\n",
       "      <td>2010-03-12 08:41:53.554200</td>\n",
       "      <td>2010-03-12 01:37:00</td>\n",
       "      <td>2010-03-12 13:23:05</td>\n",
       "      <td>day</td>\n",
       "    </tr>\n",
       "    <tr>\n",
       "      <th>44093</th>\n",
       "      <td>36.943188</td>\n",
       "      <td>70.000916</td>\n",
       "      <td>5.425369e+08</td>\n",
       "      <td>2010-03-12 08:41:53.603800</td>\n",
       "      <td>2010-03-12 01:37:01</td>\n",
       "      <td>2010-03-12 13:23:05</td>\n",
       "      <td>day</td>\n",
       "    </tr>\n",
       "    <tr>\n",
       "      <th>44094</th>\n",
       "      <td>36.946152</td>\n",
       "      <td>70.000038</td>\n",
       "      <td>5.425369e+08</td>\n",
       "      <td>2010-03-12 08:41:53.653400</td>\n",
       "      <td>2010-03-12 01:37:01</td>\n",
       "      <td>2010-03-12 13:23:05</td>\n",
       "      <td>day</td>\n",
       "    </tr>\n",
       "  </tbody>\n",
       "</table>\n",
       "<p>1663 rows × 7 columns</p>\n",
       "</div>"
      ],
      "text/plain": [
       "             lat       long      tai_time                        utc  \\\n",
       "42432  32.002544  71.391220  5.425368e+08 2010-03-12 08:40:31.222200   \n",
       "42433  32.005508  71.390404  5.425368e+08 2010-03-12 08:40:31.271800   \n",
       "42434  32.008476  71.389587  5.425368e+08 2010-03-12 08:40:31.321400   \n",
       "42435  32.011444  71.388771  5.425368e+08 2010-03-12 08:40:31.371000   \n",
       "42436  32.014412  71.387962  5.425368e+08 2010-03-12 08:40:31.420600   \n",
       "...          ...        ...           ...                        ...   \n",
       "44090  36.934288  70.003555  5.425369e+08 2010-03-12 08:41:53.455000   \n",
       "44091  36.937256  70.002678  5.425369e+08 2010-03-12 08:41:53.504600   \n",
       "44092  36.940220  70.001801  5.425369e+08 2010-03-12 08:41:53.554200   \n",
       "44093  36.943188  70.000916  5.425369e+08 2010-03-12 08:41:53.603800   \n",
       "44094  36.946152  70.000038  5.425369e+08 2010-03-12 08:41:53.653400   \n",
       "\n",
       "                  sunrise              sunset day_or_night  \n",
       "42432 2010-03-12 01:29:48 2010-03-12 13:19:10          day  \n",
       "42433 2010-03-12 01:29:49 2010-03-12 13:19:10          day  \n",
       "42434 2010-03-12 01:29:49 2010-03-12 13:19:10          day  \n",
       "42435 2010-03-12 01:29:49 2010-03-12 13:19:11          day  \n",
       "42436 2010-03-12 01:29:49 2010-03-12 13:19:11          day  \n",
       "...                   ...                 ...          ...  \n",
       "44090 2010-03-12 01:37:00 2010-03-12 13:23:05          day  \n",
       "44091 2010-03-12 01:37:00 2010-03-12 13:23:05          day  \n",
       "44092 2010-03-12 01:37:00 2010-03-12 13:23:05          day  \n",
       "44093 2010-03-12 01:37:01 2010-03-12 13:23:05          day  \n",
       "44094 2010-03-12 01:37:01 2010-03-12 13:23:05          day  \n",
       "\n",
       "[1663 rows x 7 columns]"
      ]
     },
     "execution_count": 132,
     "metadata": {},
     "output_type": "execute_result"
    }
   ],
   "source": [
    "# are time zones the same?\n",
    "\n",
    "ACTIVATE"
   ]
  },
  {
   "cell_type": "code",
   "execution_count": 133,
   "id": "f710d57e-50cb-4568-ae43-382b787d4d89",
   "metadata": {},
   "outputs": [],
   "source": [
    "# temp['Optical_Depth_CPR_CAL532'] = file.select('Optical_Depth_CPR_CAL532').get()"
   ]
  },
  {
   "cell_type": "code",
   "execution_count": 134,
   "id": "44869da7-1a26-478e-af49-6d4a0673401f",
   "metadata": {},
   "outputs": [],
   "source": [
    "# ACTIVATE['Optical_Depth_CPR_CAL532'] = temp.Optical_Depth_CPR_CAL532.loc[index]"
   ]
  },
  {
   "cell_type": "code",
   "execution_count": 135,
   "id": "215cd15c-24ad-4334-aa9a-88cc4780ad84",
   "metadata": {},
   "outputs": [],
   "source": [
    "# ACTIVATE.Optical_Depth_CPR_CAL532[ACTIVATE.Optical_Depth_CPR_CAL532 != -32768]"
   ]
  },
  {
   "cell_type": "code",
   "execution_count": 136,
   "id": "3bb5d6c8-718d-4aba-bdb8-04b8acab249c",
   "metadata": {},
   "outputs": [],
   "source": [
    "datasets_dic = file.datasets()\n",
    "\n",
    "OD = []\n",
    "\n",
    "for idx,sds in enumerate(datasets_dic.keys()):\n",
    "    if \"Optical_Depth\" in sds and \"Error\" not in sds:\n",
    "        OD.append(sds)"
   ]
  },
  {
   "cell_type": "code",
   "execution_count": 137,
   "id": "46a6263d-ccfd-48ee-a1c5-0f07d291d207",
   "metadata": {},
   "outputs": [],
   "source": [
    "has_data = []\n",
    "\n",
    "for i in OD:\n",
    "    temp[i] = file.select(i).get()\n",
    "    ACTIVATE[i] = temp[i].loc[index]\n",
    "    if len(ACTIVATE[i][ACTIVATE[i] != -32768]) > 1:\n",
    "        has_data.append(i)"
   ]
  },
  {
   "cell_type": "code",
   "execution_count": 138,
   "id": "c9c71dab-8894-4475-bf8c-2986f39a6f75",
   "metadata": {},
   "outputs": [
    {
     "data": {
      "text/html": [
       "<div>\n",
       "<style scoped>\n",
       "    .dataframe tbody tr th:only-of-type {\n",
       "        vertical-align: middle;\n",
       "    }\n",
       "\n",
       "    .dataframe tbody tr th {\n",
       "        vertical-align: top;\n",
       "    }\n",
       "\n",
       "    .dataframe thead th {\n",
       "        text-align: right;\n",
       "    }\n",
       "</style>\n",
       "<table border=\"1\" class=\"dataframe\">\n",
       "  <thead>\n",
       "    <tr style=\"text-align: right;\">\n",
       "      <th></th>\n",
       "      <th>lat</th>\n",
       "      <th>long</th>\n",
       "      <th>tai_time</th>\n",
       "      <th>utc</th>\n",
       "      <th>sunrise</th>\n",
       "      <th>sunset</th>\n",
       "      <th>day_or_night</th>\n",
       "      <th>Optical_Depth_CPR_CAL532</th>\n",
       "      <th>Optical_Depth_CPR_CAL1064</th>\n",
       "      <th>Optical_Depth_AMSR_CAL532</th>\n",
       "      <th>Optical_Depth_AMSR_CAL1064</th>\n",
       "      <th>Optical_Depth_MODIS_550</th>\n",
       "      <th>Optical_Depth_MODIS_1064</th>\n",
       "      <th>Optical_Depth_532_Over_Liquid_Water_Cloud</th>\n",
       "      <th>Optical_Depth_1064_Over_Liquid_Water_Cloud</th>\n",
       "    </tr>\n",
       "  </thead>\n",
       "  <tbody>\n",
       "    <tr>\n",
       "      <th>42432</th>\n",
       "      <td>32.002544</td>\n",
       "      <td>71.391220</td>\n",
       "      <td>5.425368e+08</td>\n",
       "      <td>2010-03-12 08:40:31.222200</td>\n",
       "      <td>2010-03-12 01:29:48</td>\n",
       "      <td>2010-03-12 13:19:10</td>\n",
       "      <td>day</td>\n",
       "      <td>-32768</td>\n",
       "      <td>-32768</td>\n",
       "      <td>-32768</td>\n",
       "      <td>-32768</td>\n",
       "      <td>1265</td>\n",
       "      <td>-32768</td>\n",
       "      <td>-32768</td>\n",
       "      <td>-32768</td>\n",
       "    </tr>\n",
       "    <tr>\n",
       "      <th>42433</th>\n",
       "      <td>32.005508</td>\n",
       "      <td>71.390404</td>\n",
       "      <td>5.425368e+08</td>\n",
       "      <td>2010-03-12 08:40:31.271800</td>\n",
       "      <td>2010-03-12 01:29:49</td>\n",
       "      <td>2010-03-12 13:19:10</td>\n",
       "      <td>day</td>\n",
       "      <td>-32768</td>\n",
       "      <td>-32768</td>\n",
       "      <td>-32768</td>\n",
       "      <td>-32768</td>\n",
       "      <td>1265</td>\n",
       "      <td>-32768</td>\n",
       "      <td>-32768</td>\n",
       "      <td>-32768</td>\n",
       "    </tr>\n",
       "    <tr>\n",
       "      <th>42434</th>\n",
       "      <td>32.008476</td>\n",
       "      <td>71.389587</td>\n",
       "      <td>5.425368e+08</td>\n",
       "      <td>2010-03-12 08:40:31.321400</td>\n",
       "      <td>2010-03-12 01:29:49</td>\n",
       "      <td>2010-03-12 13:19:10</td>\n",
       "      <td>day</td>\n",
       "      <td>-32768</td>\n",
       "      <td>-32768</td>\n",
       "      <td>-32768</td>\n",
       "      <td>-32768</td>\n",
       "      <td>1265</td>\n",
       "      <td>-32768</td>\n",
       "      <td>-32768</td>\n",
       "      <td>-32768</td>\n",
       "    </tr>\n",
       "    <tr>\n",
       "      <th>42435</th>\n",
       "      <td>32.011444</td>\n",
       "      <td>71.388771</td>\n",
       "      <td>5.425368e+08</td>\n",
       "      <td>2010-03-12 08:40:31.371000</td>\n",
       "      <td>2010-03-12 01:29:49</td>\n",
       "      <td>2010-03-12 13:19:11</td>\n",
       "      <td>day</td>\n",
       "      <td>-32768</td>\n",
       "      <td>-32768</td>\n",
       "      <td>-32768</td>\n",
       "      <td>-32768</td>\n",
       "      <td>-32768</td>\n",
       "      <td>-32768</td>\n",
       "      <td>-32768</td>\n",
       "      <td>-32768</td>\n",
       "    </tr>\n",
       "    <tr>\n",
       "      <th>42436</th>\n",
       "      <td>32.014412</td>\n",
       "      <td>71.387962</td>\n",
       "      <td>5.425368e+08</td>\n",
       "      <td>2010-03-12 08:40:31.420600</td>\n",
       "      <td>2010-03-12 01:29:49</td>\n",
       "      <td>2010-03-12 13:19:11</td>\n",
       "      <td>day</td>\n",
       "      <td>-32768</td>\n",
       "      <td>-32768</td>\n",
       "      <td>-32768</td>\n",
       "      <td>-32768</td>\n",
       "      <td>-32768</td>\n",
       "      <td>-32768</td>\n",
       "      <td>-32768</td>\n",
       "      <td>-32768</td>\n",
       "    </tr>\n",
       "    <tr>\n",
       "      <th>...</th>\n",
       "      <td>...</td>\n",
       "      <td>...</td>\n",
       "      <td>...</td>\n",
       "      <td>...</td>\n",
       "      <td>...</td>\n",
       "      <td>...</td>\n",
       "      <td>...</td>\n",
       "      <td>...</td>\n",
       "      <td>...</td>\n",
       "      <td>...</td>\n",
       "      <td>...</td>\n",
       "      <td>...</td>\n",
       "      <td>...</td>\n",
       "      <td>...</td>\n",
       "      <td>...</td>\n",
       "    </tr>\n",
       "    <tr>\n",
       "      <th>44090</th>\n",
       "      <td>36.934288</td>\n",
       "      <td>70.003555</td>\n",
       "      <td>5.425369e+08</td>\n",
       "      <td>2010-03-12 08:41:53.455000</td>\n",
       "      <td>2010-03-12 01:37:00</td>\n",
       "      <td>2010-03-12 13:23:05</td>\n",
       "      <td>day</td>\n",
       "      <td>-32768</td>\n",
       "      <td>-32768</td>\n",
       "      <td>-32768</td>\n",
       "      <td>-32768</td>\n",
       "      <td>-32768</td>\n",
       "      <td>-32768</td>\n",
       "      <td>-32768</td>\n",
       "      <td>-32768</td>\n",
       "    </tr>\n",
       "    <tr>\n",
       "      <th>44091</th>\n",
       "      <td>36.937256</td>\n",
       "      <td>70.002678</td>\n",
       "      <td>5.425369e+08</td>\n",
       "      <td>2010-03-12 08:41:53.504600</td>\n",
       "      <td>2010-03-12 01:37:00</td>\n",
       "      <td>2010-03-12 13:23:05</td>\n",
       "      <td>day</td>\n",
       "      <td>-32768</td>\n",
       "      <td>-32768</td>\n",
       "      <td>-32768</td>\n",
       "      <td>-32768</td>\n",
       "      <td>-32768</td>\n",
       "      <td>-32768</td>\n",
       "      <td>-32768</td>\n",
       "      <td>-32768</td>\n",
       "    </tr>\n",
       "    <tr>\n",
       "      <th>44092</th>\n",
       "      <td>36.940220</td>\n",
       "      <td>70.001801</td>\n",
       "      <td>5.425369e+08</td>\n",
       "      <td>2010-03-12 08:41:53.554200</td>\n",
       "      <td>2010-03-12 01:37:00</td>\n",
       "      <td>2010-03-12 13:23:05</td>\n",
       "      <td>day</td>\n",
       "      <td>-32768</td>\n",
       "      <td>-32768</td>\n",
       "      <td>-32768</td>\n",
       "      <td>-32768</td>\n",
       "      <td>-32768</td>\n",
       "      <td>-32768</td>\n",
       "      <td>-32768</td>\n",
       "      <td>-32768</td>\n",
       "    </tr>\n",
       "    <tr>\n",
       "      <th>44093</th>\n",
       "      <td>36.943188</td>\n",
       "      <td>70.000916</td>\n",
       "      <td>5.425369e+08</td>\n",
       "      <td>2010-03-12 08:41:53.603800</td>\n",
       "      <td>2010-03-12 01:37:01</td>\n",
       "      <td>2010-03-12 13:23:05</td>\n",
       "      <td>day</td>\n",
       "      <td>-32768</td>\n",
       "      <td>-32768</td>\n",
       "      <td>-32768</td>\n",
       "      <td>-32768</td>\n",
       "      <td>-32768</td>\n",
       "      <td>-32768</td>\n",
       "      <td>-32768</td>\n",
       "      <td>-32768</td>\n",
       "    </tr>\n",
       "    <tr>\n",
       "      <th>44094</th>\n",
       "      <td>36.946152</td>\n",
       "      <td>70.000038</td>\n",
       "      <td>5.425369e+08</td>\n",
       "      <td>2010-03-12 08:41:53.653400</td>\n",
       "      <td>2010-03-12 01:37:01</td>\n",
       "      <td>2010-03-12 13:23:05</td>\n",
       "      <td>day</td>\n",
       "      <td>-32768</td>\n",
       "      <td>-32768</td>\n",
       "      <td>-32768</td>\n",
       "      <td>-32768</td>\n",
       "      <td>-32768</td>\n",
       "      <td>-32768</td>\n",
       "      <td>-32768</td>\n",
       "      <td>-32768</td>\n",
       "    </tr>\n",
       "  </tbody>\n",
       "</table>\n",
       "<p>1663 rows × 15 columns</p>\n",
       "</div>"
      ],
      "text/plain": [
       "             lat       long      tai_time                        utc  \\\n",
       "42432  32.002544  71.391220  5.425368e+08 2010-03-12 08:40:31.222200   \n",
       "42433  32.005508  71.390404  5.425368e+08 2010-03-12 08:40:31.271800   \n",
       "42434  32.008476  71.389587  5.425368e+08 2010-03-12 08:40:31.321400   \n",
       "42435  32.011444  71.388771  5.425368e+08 2010-03-12 08:40:31.371000   \n",
       "42436  32.014412  71.387962  5.425368e+08 2010-03-12 08:40:31.420600   \n",
       "...          ...        ...           ...                        ...   \n",
       "44090  36.934288  70.003555  5.425369e+08 2010-03-12 08:41:53.455000   \n",
       "44091  36.937256  70.002678  5.425369e+08 2010-03-12 08:41:53.504600   \n",
       "44092  36.940220  70.001801  5.425369e+08 2010-03-12 08:41:53.554200   \n",
       "44093  36.943188  70.000916  5.425369e+08 2010-03-12 08:41:53.603800   \n",
       "44094  36.946152  70.000038  5.425369e+08 2010-03-12 08:41:53.653400   \n",
       "\n",
       "                  sunrise              sunset day_or_night  \\\n",
       "42432 2010-03-12 01:29:48 2010-03-12 13:19:10          day   \n",
       "42433 2010-03-12 01:29:49 2010-03-12 13:19:10          day   \n",
       "42434 2010-03-12 01:29:49 2010-03-12 13:19:10          day   \n",
       "42435 2010-03-12 01:29:49 2010-03-12 13:19:11          day   \n",
       "42436 2010-03-12 01:29:49 2010-03-12 13:19:11          day   \n",
       "...                   ...                 ...          ...   \n",
       "44090 2010-03-12 01:37:00 2010-03-12 13:23:05          day   \n",
       "44091 2010-03-12 01:37:00 2010-03-12 13:23:05          day   \n",
       "44092 2010-03-12 01:37:00 2010-03-12 13:23:05          day   \n",
       "44093 2010-03-12 01:37:01 2010-03-12 13:23:05          day   \n",
       "44094 2010-03-12 01:37:01 2010-03-12 13:23:05          day   \n",
       "\n",
       "       Optical_Depth_CPR_CAL532  Optical_Depth_CPR_CAL1064  \\\n",
       "42432                    -32768                     -32768   \n",
       "42433                    -32768                     -32768   \n",
       "42434                    -32768                     -32768   \n",
       "42435                    -32768                     -32768   \n",
       "42436                    -32768                     -32768   \n",
       "...                         ...                        ...   \n",
       "44090                    -32768                     -32768   \n",
       "44091                    -32768                     -32768   \n",
       "44092                    -32768                     -32768   \n",
       "44093                    -32768                     -32768   \n",
       "44094                    -32768                     -32768   \n",
       "\n",
       "       Optical_Depth_AMSR_CAL532  Optical_Depth_AMSR_CAL1064  \\\n",
       "42432                     -32768                      -32768   \n",
       "42433                     -32768                      -32768   \n",
       "42434                     -32768                      -32768   \n",
       "42435                     -32768                      -32768   \n",
       "42436                     -32768                      -32768   \n",
       "...                          ...                         ...   \n",
       "44090                     -32768                      -32768   \n",
       "44091                     -32768                      -32768   \n",
       "44092                     -32768                      -32768   \n",
       "44093                     -32768                      -32768   \n",
       "44094                     -32768                      -32768   \n",
       "\n",
       "       Optical_Depth_MODIS_550  Optical_Depth_MODIS_1064  \\\n",
       "42432                     1265                    -32768   \n",
       "42433                     1265                    -32768   \n",
       "42434                     1265                    -32768   \n",
       "42435                   -32768                    -32768   \n",
       "42436                   -32768                    -32768   \n",
       "...                        ...                       ...   \n",
       "44090                   -32768                    -32768   \n",
       "44091                   -32768                    -32768   \n",
       "44092                   -32768                    -32768   \n",
       "44093                   -32768                    -32768   \n",
       "44094                   -32768                    -32768   \n",
       "\n",
       "       Optical_Depth_532_Over_Liquid_Water_Cloud  \\\n",
       "42432                                     -32768   \n",
       "42433                                     -32768   \n",
       "42434                                     -32768   \n",
       "42435                                     -32768   \n",
       "42436                                     -32768   \n",
       "...                                          ...   \n",
       "44090                                     -32768   \n",
       "44091                                     -32768   \n",
       "44092                                     -32768   \n",
       "44093                                     -32768   \n",
       "44094                                     -32768   \n",
       "\n",
       "       Optical_Depth_1064_Over_Liquid_Water_Cloud  \n",
       "42432                                      -32768  \n",
       "42433                                      -32768  \n",
       "42434                                      -32768  \n",
       "42435                                      -32768  \n",
       "42436                                      -32768  \n",
       "...                                           ...  \n",
       "44090                                      -32768  \n",
       "44091                                      -32768  \n",
       "44092                                      -32768  \n",
       "44093                                      -32768  \n",
       "44094                                      -32768  \n",
       "\n",
       "[1663 rows x 15 columns]"
      ]
     },
     "execution_count": 138,
     "metadata": {},
     "output_type": "execute_result"
    }
   ],
   "source": [
    "ACTIVATE"
   ]
  },
  {
   "cell_type": "code",
   "execution_count": 139,
   "id": "2b71aa1b-e9db-4b84-a974-821cc3e8a3b0",
   "metadata": {},
   "outputs": [
    {
     "data": {
      "text/plain": [
       "['Optical_Depth_MODIS_550']"
      ]
     },
     "execution_count": 139,
     "metadata": {},
     "output_type": "execute_result"
    }
   ],
   "source": [
    "has_data"
   ]
  },
  {
   "cell_type": "code",
   "execution_count": 140,
   "id": "55379332-8c1b-450d-920d-0e7ec9d96efe",
   "metadata": {},
   "outputs": [
    {
     "data": {
      "application/vnd.plotly.v1+json": {
       "config": {
        "plotlyServerURL": "https://plot.ly"
       },
       "data": [
        {
         "hoverinfo": "text",
         "lat": [
          32.00254440307617,
          32.00550842285156,
          32.00847625732422,
          32.18953323364258,
          32.19252014160156,
          32.19551086425781,
          32.19850158691406,
          32.20148849487305,
          32.2044792175293,
          32.20746994018555,
          32.21045684814453,
          32.21344757080078,
          32.21643829345703,
          32.219425201416016,
          32.222415924072266,
          32.22540283203125,
          32.228363037109375,
          32.2313232421875,
          32.234283447265625,
          32.23724365234375,
          32.240203857421875,
          32.243167877197266,
          32.24612808227539,
          32.249088287353516,
          32.25204849243164,
          32.255008697509766,
          32.25796890258789,
          32.260929107666016,
          32.26388931274414,
          32.26685333251953,
          32.269813537597656,
          32.27277374267578,
          32.275733947753906,
          32.27869415283203,
          32.281654357910156,
          32.28461456298828,
          32.287574768066406,
          32.29053497314453,
          32.29349899291992,
          32.296470642089844,
          32.2994384765625,
          32.302406311035156,
          32.30537796020508,
          32.308345794677734,
          32.31131362915039,
          32.31428527832031,
          32.31725311279297,
          32.320220947265625,
          32.32318878173828,
          32.3261604309082,
          32.32912826538086,
          32.332096099853516,
          32.33506393432617,
          32.338035583496094,
          32.34100341796875,
          32.343971252441406,
          32.34694290161133,
          32.349910736083984,
          32.35287857055664,
          32.35585021972656,
          32.35882568359375,
          32.36179733276367,
          32.364768981933594,
          32.90376663208008,
          32.90673828125,
          32.90970993041992,
          32.912681579589844,
          32.915653228759766,
          32.91862487792969,
          32.92159652709961,
          32.92456817626953,
          32.92753982543945,
          32.930511474609375,
          32.93348693847656,
          32.936458587646484,
          32.939430236816406,
          32.94240188598633,
          32.94537353515625,
          32.94834518432617,
          32.951316833496094,
          32.95429992675781,
          32.95729064941406,
          32.96028518676758,
          32.96327590942383,
          32.96626663208008,
          32.96925735473633,
          32.97224807739258,
          32.975242614746094,
          32.978233337402344,
          32.981224060058594,
          32.984214782714844,
          32.987205505371094,
          32.99020004272461,
          33.17217254638672,
          33.17516326904297,
          33.17815399169922,
          33.18114471435547,
          33.18413543701172,
          33.187129974365234,
          33.190120697021484,
          33.193111419677734,
          33.196075439453125,
          33.19904327392578,
          33.20200729370117,
          33.20497131347656,
          33.20793533325195,
          33.21090316772461,
          33.2138671875,
          33.21683120727539,
          33.21979522705078,
          33.22276306152344,
          33.22572708129883,
          33.22869110107422,
          33.23165512084961,
          33.234622955322266,
          33.237586975097656,
          33.24055099487305,
          33.24351501464844,
          33.246482849121094,
          33.24945831298828,
          33.2524299621582,
          33.25540542602539,
          33.25838088989258,
          33.2613525390625,
          33.26432800292969,
          33.26729965209961,
          33.2702751159668,
          33.27324676513672,
          33.276222229003906,
          33.279197692871094,
          33.282169342041016,
          33.2851448059082,
          33.288116455078125,
          33.29109191894531,
          33.294063568115234,
          33.29703903198242,
          33.300010681152344,
          33.30298614501953,
          33.30595779418945,
          33.30893325805664,
          33.31190872192383,
          33.31488037109375,
          33.31785202026367,
          33.32081985473633,
          33.32379150390625,
          33.32676315307617,
          33.329734802246094,
          33.332706451416016,
          33.33567810058594,
          33.33864974975586,
          33.34162139892578,
          33.3445930480957,
          33.347564697265625,
          33.35053253173828,
          33.3535041809082,
          33.356475830078125,
          33.35944747924805,
          33.36241912841797,
          33.36539077758789,
          33.36836242675781,
          33.371334075927734,
          33.37431335449219,
          33.37730026245117,
          33.380287170410156,
          33.38327407836914,
          33.386260986328125,
          33.38924789428711,
          33.392234802246094,
          33.39522171020508,
          33.39820861816406,
          33.40119934082031,
          33.4041862487793,
          33.40717315673828,
          33.410160064697266,
          33.41314697265625,
          33.416133880615234,
          33.41912078857422,
          33.4221076965332,
          33.42509460449219,
          33.4280891418457,
          33.43108367919922,
          33.43407440185547,
          33.437068939208984,
          33.530059814453125,
          33.5330696105957,
          33.53607940673828,
          33.539085388183594,
          33.54209518432617,
          33.54510498046875,
          33.54811477661133,
          33.551124572753906,
          33.554134368896484,
          33.5571174621582,
          33.56010437011719,
          33.56309127807617,
          33.56607437133789,
          33.569061279296875,
          33.57204818725586,
          33.57503128051758,
          33.57801818847656,
          33.58100509643555,
          33.583988189697266,
          33.58697509765625,
          33.589962005615234,
          33.59294509887695,
          33.59593200683594,
          33.59891891479492,
          33.60190200805664,
          33.604888916015625,
          33.60786819458008,
          33.610843658447266,
          33.61381530761719,
          33.61678695678711
         ],
         "lon": [
          -71.39122009277344,
          -71.3904037475586,
          -71.38958740234375,
          -71.3405532836914,
          -71.33975982666016,
          -71.3389663696289,
          -71.33816528320312,
          -71.33737182617188,
          -71.33657836914062,
          -71.33578491210938,
          -71.33499145507812,
          -71.33419799804688,
          -71.33340454101562,
          -71.33261108398438,
          -71.33181762695312,
          -71.33101654052734,
          -71.3302230834961,
          -71.32942199707031,
          -71.32862091064453,
          -71.32781982421875,
          -71.32701873779297,
          -71.32622528076172,
          -71.32542419433594,
          -71.32462310791016,
          -71.32382202148438,
          -71.3230209350586,
          -71.32221984863281,
          -71.32142639160156,
          -71.32062530517578,
          -71.31982421875,
          -71.31902313232422,
          -71.31822204589844,
          -71.31742095947266,
          -71.31661987304688,
          -71.31582641601562,
          -71.31502532958984,
          -71.31422424316406,
          -71.31342315673828,
          -71.3126220703125,
          -71.31182098388672,
          -71.3110122680664,
          -71.31021118164062,
          -71.30941009521484,
          -71.30860900878906,
          -71.30780029296875,
          -71.30699920654297,
          -71.30619812011719,
          -71.3053970336914,
          -71.3045883178711,
          -71.30378723144531,
          -71.30298614501953,
          -71.30217742919922,
          -71.30137634277344,
          -71.30057525634766,
          -71.29976654052734,
          -71.29896545410156,
          -71.29816436767578,
          -71.29735565185547,
          -71.29655456542969,
          -71.29573059082031,
          -71.29491424560547,
          -71.29409790039062,
          -71.29328155517578,
          -71.14665985107422,
          -71.1458511352539,
          -71.1450424194336,
          -71.14422607421875,
          -71.14341735839844,
          -71.14260864257812,
          -71.14179229736328,
          -71.14098358154297,
          -71.14017486572266,
          -71.13935852050781,
          -71.1385498046875,
          -71.13773345947266,
          -71.13692474365234,
          -71.13611602783203,
          -71.13529968261719,
          -71.13449096679688,
          -71.13367462158203,
          -71.13286590576172,
          -71.1320571899414,
          -71.13124084472656,
          -71.13043212890625,
          -71.12962341308594,
          -71.1288070678711,
          -71.12799835205078,
          -71.12718963623047,
          -71.12637329101562,
          -71.12556457519531,
          -71.124755859375,
          -71.12393951416016,
          -71.12313079833984,
          -71.07308197021484,
          -71.072265625,
          -71.07145690917969,
          -71.07064056396484,
          -71.06982421875,
          -71.06900787353516,
          -71.06819915771484,
          -71.0673828125,
          -71.0665512084961,
          -71.06571960449219,
          -71.06488800048828,
          -71.06405639648438,
          -71.06322479248047,
          -71.06239318847656,
          -71.06156158447266,
          -71.06072998046875,
          -71.05989837646484,
          -71.05906677246094,
          -71.05823516845703,
          -71.05740356445312,
          -71.05657196044922,
          -71.05574035644531,
          -71.0549087524414,
          -71.0540771484375,
          -71.0532455444336,
          -71.05242919921875,
          -71.05162811279297,
          -71.05082702636719,
          -71.05001831054688,
          -71.0492172241211,
          -71.04841613769531,
          -71.04761505126953,
          -71.04681396484375,
          -71.04601287841797,
          -71.04521179199219,
          -71.0444107055664,
          -71.04360961914062,
          -71.04280090332031,
          -71.04199981689453,
          -71.04119873046875,
          -71.04039764404297,
          -71.03959655761719,
          -71.0387954711914,
          -71.03799438476562,
          -71.03718566894531,
          -71.03638458251953,
          -71.03558349609375,
          -71.03478240966797,
          -71.0339584350586,
          -71.03311920166016,
          -71.03227996826172,
          -71.03144836425781,
          -71.03060913085938,
          -71.02976989746094,
          -71.0289306640625,
          -71.0280990600586,
          -71.02725982666016,
          -71.02642059326172,
          -71.02558135986328,
          -71.02474975585938,
          -71.02391052246094,
          -71.0230712890625,
          -71.02223205566406,
          -71.02139282226562,
          -71.02056121826172,
          -71.01972198486328,
          -71.01888275146484,
          -71.0180435180664,
          -71.01721954345703,
          -71.01641082763672,
          -71.0156021118164,
          -71.0147933959961,
          -71.01398468017578,
          -71.01316833496094,
          -71.01235961914062,
          -71.01155090332031,
          -71.0107421875,
          -71.00993347167969,
          -71.00911712646484,
          -71.00830841064453,
          -71.00749969482422,
          -71.0066909790039,
          -71.0058822631836,
          -71.00506591796875,
          -71.00425720214844,
          -71.00344848632812,
          -71.00262451171875,
          -71.00180053710938,
          -71.0009765625,
          -71.00015258789062,
          -70.97465515136719,
          -70.97383117675781,
          -70.97301483154297,
          -70.9721908569336,
          -70.97137451171875,
          -70.97055053710938,
          -70.96973419189453,
          -70.96891021728516,
          -70.96808624267578,
          -70.96725463867188,
          -70.96641540527344,
          -70.965576171875,
          -70.96473693847656,
          -70.96389770507812,
          -70.96305847167969,
          -70.96222686767578,
          -70.96138763427734,
          -70.9605484008789,
          -70.95970916748047,
          -70.95886993408203,
          -70.9580307006836,
          -70.95719146728516,
          -70.95635986328125,
          -70.95552062988281,
          -70.95468139648438,
          -70.95384216308594,
          -70.95301055908203,
          -70.95217895507812,
          -70.95135498046875,
          -70.95053100585938
         ],
         "marker": {
          "color": [
           1265,
           1265,
           1265,
           513,
           513,
           513,
           513,
           513,
           513,
           513,
           513,
           513,
           513,
           513,
           513,
           513,
           513,
           513,
           513,
           513,
           513,
           513,
           513,
           513,
           513,
           513,
           513,
           513,
           513,
           513,
           513,
           513,
           513,
           555,
           555,
           555,
           555,
           555,
           555,
           555,
           555,
           555,
           555,
           555,
           555,
           555,
           555,
           555,
           555,
           555,
           555,
           555,
           555,
           555,
           555,
           555,
           555,
           555,
           555,
           555,
           555,
           555,
           555,
           515,
           515,
           515,
           515,
           515,
           515,
           515,
           515,
           515,
           515,
           515,
           515,
           515,
           515,
           515,
           515,
           515,
           515,
           515,
           515,
           515,
           515,
           515,
           515,
           515,
           515,
           515,
           515,
           515,
           515,
           500,
           500,
           500,
           500,
           500,
           500,
           500,
           500,
           500,
           500,
           500,
           500,
           500,
           500,
           500,
           500,
           500,
           500,
           500,
           500,
           500,
           500,
           500,
           500,
           500,
           500,
           500,
           500,
           500,
           500,
           442,
           442,
           442,
           442,
           442,
           442,
           442,
           442,
           442,
           442,
           442,
           442,
           442,
           442,
           442,
           442,
           442,
           442,
           442,
           442,
           442,
           442,
           442,
           442,
           442,
           442,
           442,
           442,
           442,
           442,
           270,
           270,
           270,
           270,
           270,
           270,
           270,
           270,
           270,
           270,
           270,
           270,
           270,
           270,
           270,
           270,
           270,
           270,
           270,
           270,
           270,
           270,
           270,
           270,
           270,
           270,
           270,
           270,
           270,
           270,
           266,
           266,
           266,
           266,
           266,
           266,
           266,
           266,
           266,
           266,
           266,
           266,
           266,
           266,
           266,
           266,
           266,
           266,
           266,
           266,
           266,
           266,
           266,
           266,
           266,
           266,
           266,
           266,
           266,
           266
          ],
          "size": 2
         },
         "mode": "markers",
         "text": [
          "Optical_Depth_MODIS_550: 1.2650000000000001",
          "Optical_Depth_MODIS_550: 1.2650000000000001",
          "Optical_Depth_MODIS_550: 1.2650000000000001",
          "Optical_Depth_MODIS_550: 0.513",
          "Optical_Depth_MODIS_550: 0.513",
          "Optical_Depth_MODIS_550: 0.513",
          "Optical_Depth_MODIS_550: 0.513",
          "Optical_Depth_MODIS_550: 0.513",
          "Optical_Depth_MODIS_550: 0.513",
          "Optical_Depth_MODIS_550: 0.513",
          "Optical_Depth_MODIS_550: 0.513",
          "Optical_Depth_MODIS_550: 0.513",
          "Optical_Depth_MODIS_550: 0.513",
          "Optical_Depth_MODIS_550: 0.513",
          "Optical_Depth_MODIS_550: 0.513",
          "Optical_Depth_MODIS_550: 0.513",
          "Optical_Depth_MODIS_550: 0.513",
          "Optical_Depth_MODIS_550: 0.513",
          "Optical_Depth_MODIS_550: 0.513",
          "Optical_Depth_MODIS_550: 0.513",
          "Optical_Depth_MODIS_550: 0.513",
          "Optical_Depth_MODIS_550: 0.513",
          "Optical_Depth_MODIS_550: 0.513",
          "Optical_Depth_MODIS_550: 0.513",
          "Optical_Depth_MODIS_550: 0.513",
          "Optical_Depth_MODIS_550: 0.513",
          "Optical_Depth_MODIS_550: 0.513",
          "Optical_Depth_MODIS_550: 0.513",
          "Optical_Depth_MODIS_550: 0.513",
          "Optical_Depth_MODIS_550: 0.513",
          "Optical_Depth_MODIS_550: 0.513",
          "Optical_Depth_MODIS_550: 0.513",
          "Optical_Depth_MODIS_550: 0.513",
          "Optical_Depth_MODIS_550: 0.555",
          "Optical_Depth_MODIS_550: 0.555",
          "Optical_Depth_MODIS_550: 0.555",
          "Optical_Depth_MODIS_550: 0.555",
          "Optical_Depth_MODIS_550: 0.555",
          "Optical_Depth_MODIS_550: 0.555",
          "Optical_Depth_MODIS_550: 0.555",
          "Optical_Depth_MODIS_550: 0.555",
          "Optical_Depth_MODIS_550: 0.555",
          "Optical_Depth_MODIS_550: 0.555",
          "Optical_Depth_MODIS_550: 0.555",
          "Optical_Depth_MODIS_550: 0.555",
          "Optical_Depth_MODIS_550: 0.555",
          "Optical_Depth_MODIS_550: 0.555",
          "Optical_Depth_MODIS_550: 0.555",
          "Optical_Depth_MODIS_550: 0.555",
          "Optical_Depth_MODIS_550: 0.555",
          "Optical_Depth_MODIS_550: 0.555",
          "Optical_Depth_MODIS_550: 0.555",
          "Optical_Depth_MODIS_550: 0.555",
          "Optical_Depth_MODIS_550: 0.555",
          "Optical_Depth_MODIS_550: 0.555",
          "Optical_Depth_MODIS_550: 0.555",
          "Optical_Depth_MODIS_550: 0.555",
          "Optical_Depth_MODIS_550: 0.555",
          "Optical_Depth_MODIS_550: 0.555",
          "Optical_Depth_MODIS_550: 0.555",
          "Optical_Depth_MODIS_550: 0.555",
          "Optical_Depth_MODIS_550: 0.555",
          "Optical_Depth_MODIS_550: 0.555",
          "Optical_Depth_MODIS_550: 0.515",
          "Optical_Depth_MODIS_550: 0.515",
          "Optical_Depth_MODIS_550: 0.515",
          "Optical_Depth_MODIS_550: 0.515",
          "Optical_Depth_MODIS_550: 0.515",
          "Optical_Depth_MODIS_550: 0.515",
          "Optical_Depth_MODIS_550: 0.515",
          "Optical_Depth_MODIS_550: 0.515",
          "Optical_Depth_MODIS_550: 0.515",
          "Optical_Depth_MODIS_550: 0.515",
          "Optical_Depth_MODIS_550: 0.515",
          "Optical_Depth_MODIS_550: 0.515",
          "Optical_Depth_MODIS_550: 0.515",
          "Optical_Depth_MODIS_550: 0.515",
          "Optical_Depth_MODIS_550: 0.515",
          "Optical_Depth_MODIS_550: 0.515",
          "Optical_Depth_MODIS_550: 0.515",
          "Optical_Depth_MODIS_550: 0.515",
          "Optical_Depth_MODIS_550: 0.515",
          "Optical_Depth_MODIS_550: 0.515",
          "Optical_Depth_MODIS_550: 0.515",
          "Optical_Depth_MODIS_550: 0.515",
          "Optical_Depth_MODIS_550: 0.515",
          "Optical_Depth_MODIS_550: 0.515",
          "Optical_Depth_MODIS_550: 0.515",
          "Optical_Depth_MODIS_550: 0.515",
          "Optical_Depth_MODIS_550: 0.515",
          "Optical_Depth_MODIS_550: 0.515",
          "Optical_Depth_MODIS_550: 0.515",
          "Optical_Depth_MODIS_550: 0.515",
          "Optical_Depth_MODIS_550: 0.5",
          "Optical_Depth_MODIS_550: 0.5",
          "Optical_Depth_MODIS_550: 0.5",
          "Optical_Depth_MODIS_550: 0.5",
          "Optical_Depth_MODIS_550: 0.5",
          "Optical_Depth_MODIS_550: 0.5",
          "Optical_Depth_MODIS_550: 0.5",
          "Optical_Depth_MODIS_550: 0.5",
          "Optical_Depth_MODIS_550: 0.5",
          "Optical_Depth_MODIS_550: 0.5",
          "Optical_Depth_MODIS_550: 0.5",
          "Optical_Depth_MODIS_550: 0.5",
          "Optical_Depth_MODIS_550: 0.5",
          "Optical_Depth_MODIS_550: 0.5",
          "Optical_Depth_MODIS_550: 0.5",
          "Optical_Depth_MODIS_550: 0.5",
          "Optical_Depth_MODIS_550: 0.5",
          "Optical_Depth_MODIS_550: 0.5",
          "Optical_Depth_MODIS_550: 0.5",
          "Optical_Depth_MODIS_550: 0.5",
          "Optical_Depth_MODIS_550: 0.5",
          "Optical_Depth_MODIS_550: 0.5",
          "Optical_Depth_MODIS_550: 0.5",
          "Optical_Depth_MODIS_550: 0.5",
          "Optical_Depth_MODIS_550: 0.5",
          "Optical_Depth_MODIS_550: 0.5",
          "Optical_Depth_MODIS_550: 0.5",
          "Optical_Depth_MODIS_550: 0.5",
          "Optical_Depth_MODIS_550: 0.5",
          "Optical_Depth_MODIS_550: 0.5",
          "Optical_Depth_MODIS_550: 0.442",
          "Optical_Depth_MODIS_550: 0.442",
          "Optical_Depth_MODIS_550: 0.442",
          "Optical_Depth_MODIS_550: 0.442",
          "Optical_Depth_MODIS_550: 0.442",
          "Optical_Depth_MODIS_550: 0.442",
          "Optical_Depth_MODIS_550: 0.442",
          "Optical_Depth_MODIS_550: 0.442",
          "Optical_Depth_MODIS_550: 0.442",
          "Optical_Depth_MODIS_550: 0.442",
          "Optical_Depth_MODIS_550: 0.442",
          "Optical_Depth_MODIS_550: 0.442",
          "Optical_Depth_MODIS_550: 0.442",
          "Optical_Depth_MODIS_550: 0.442",
          "Optical_Depth_MODIS_550: 0.442",
          "Optical_Depth_MODIS_550: 0.442",
          "Optical_Depth_MODIS_550: 0.442",
          "Optical_Depth_MODIS_550: 0.442",
          "Optical_Depth_MODIS_550: 0.442",
          "Optical_Depth_MODIS_550: 0.442",
          "Optical_Depth_MODIS_550: 0.442",
          "Optical_Depth_MODIS_550: 0.442",
          "Optical_Depth_MODIS_550: 0.442",
          "Optical_Depth_MODIS_550: 0.442",
          "Optical_Depth_MODIS_550: 0.442",
          "Optical_Depth_MODIS_550: 0.442",
          "Optical_Depth_MODIS_550: 0.442",
          "Optical_Depth_MODIS_550: 0.442",
          "Optical_Depth_MODIS_550: 0.442",
          "Optical_Depth_MODIS_550: 0.442",
          "Optical_Depth_MODIS_550: 0.27",
          "Optical_Depth_MODIS_550: 0.27",
          "Optical_Depth_MODIS_550: 0.27",
          "Optical_Depth_MODIS_550: 0.27",
          "Optical_Depth_MODIS_550: 0.27",
          "Optical_Depth_MODIS_550: 0.27",
          "Optical_Depth_MODIS_550: 0.27",
          "Optical_Depth_MODIS_550: 0.27",
          "Optical_Depth_MODIS_550: 0.27",
          "Optical_Depth_MODIS_550: 0.27",
          "Optical_Depth_MODIS_550: 0.27",
          "Optical_Depth_MODIS_550: 0.27",
          "Optical_Depth_MODIS_550: 0.27",
          "Optical_Depth_MODIS_550: 0.27",
          "Optical_Depth_MODIS_550: 0.27",
          "Optical_Depth_MODIS_550: 0.27",
          "Optical_Depth_MODIS_550: 0.27",
          "Optical_Depth_MODIS_550: 0.27",
          "Optical_Depth_MODIS_550: 0.27",
          "Optical_Depth_MODIS_550: 0.27",
          "Optical_Depth_MODIS_550: 0.27",
          "Optical_Depth_MODIS_550: 0.27",
          "Optical_Depth_MODIS_550: 0.27",
          "Optical_Depth_MODIS_550: 0.27",
          "Optical_Depth_MODIS_550: 0.27",
          "Optical_Depth_MODIS_550: 0.27",
          "Optical_Depth_MODIS_550: 0.27",
          "Optical_Depth_MODIS_550: 0.27",
          "Optical_Depth_MODIS_550: 0.27",
          "Optical_Depth_MODIS_550: 0.27",
          "Optical_Depth_MODIS_550: 0.266",
          "Optical_Depth_MODIS_550: 0.266",
          "Optical_Depth_MODIS_550: 0.266",
          "Optical_Depth_MODIS_550: 0.266",
          "Optical_Depth_MODIS_550: 0.266",
          "Optical_Depth_MODIS_550: 0.266",
          "Optical_Depth_MODIS_550: 0.266",
          "Optical_Depth_MODIS_550: 0.266",
          "Optical_Depth_MODIS_550: 0.266",
          "Optical_Depth_MODIS_550: 0.266",
          "Optical_Depth_MODIS_550: 0.266",
          "Optical_Depth_MODIS_550: 0.266",
          "Optical_Depth_MODIS_550: 0.266",
          "Optical_Depth_MODIS_550: 0.266",
          "Optical_Depth_MODIS_550: 0.266",
          "Optical_Depth_MODIS_550: 0.266",
          "Optical_Depth_MODIS_550: 0.266",
          "Optical_Depth_MODIS_550: 0.266",
          "Optical_Depth_MODIS_550: 0.266",
          "Optical_Depth_MODIS_550: 0.266",
          "Optical_Depth_MODIS_550: 0.266",
          "Optical_Depth_MODIS_550: 0.266",
          "Optical_Depth_MODIS_550: 0.266",
          "Optical_Depth_MODIS_550: 0.266",
          "Optical_Depth_MODIS_550: 0.266",
          "Optical_Depth_MODIS_550: 0.266",
          "Optical_Depth_MODIS_550: 0.266",
          "Optical_Depth_MODIS_550: 0.266",
          "Optical_Depth_MODIS_550: 0.266",
          "Optical_Depth_MODIS_550: 0.266"
         ],
         "type": "scattergeo"
        }
       ],
       "layout": {
        "autosize": true,
        "geo": {},
        "margin": {
         "b": 1,
         "l": 1,
         "r": 1,
         "t": 1
        },
        "template": {
         "data": {
          "bar": [
           {
            "error_x": {
             "color": "#2a3f5f"
            },
            "error_y": {
             "color": "#2a3f5f"
            },
            "marker": {
             "line": {
              "color": "#E5ECF6",
              "width": 0.5
             },
             "pattern": {
              "fillmode": "overlay",
              "size": 10,
              "solidity": 0.2
             }
            },
            "type": "bar"
           }
          ],
          "barpolar": [
           {
            "marker": {
             "line": {
              "color": "#E5ECF6",
              "width": 0.5
             },
             "pattern": {
              "fillmode": "overlay",
              "size": 10,
              "solidity": 0.2
             }
            },
            "type": "barpolar"
           }
          ],
          "carpet": [
           {
            "aaxis": {
             "endlinecolor": "#2a3f5f",
             "gridcolor": "white",
             "linecolor": "white",
             "minorgridcolor": "white",
             "startlinecolor": "#2a3f5f"
            },
            "baxis": {
             "endlinecolor": "#2a3f5f",
             "gridcolor": "white",
             "linecolor": "white",
             "minorgridcolor": "white",
             "startlinecolor": "#2a3f5f"
            },
            "type": "carpet"
           }
          ],
          "choropleth": [
           {
            "colorbar": {
             "outlinewidth": 0,
             "ticks": ""
            },
            "type": "choropleth"
           }
          ],
          "contour": [
           {
            "colorbar": {
             "outlinewidth": 0,
             "ticks": ""
            },
            "colorscale": [
             [
              0,
              "#0d0887"
             ],
             [
              0.1111111111111111,
              "#46039f"
             ],
             [
              0.2222222222222222,
              "#7201a8"
             ],
             [
              0.3333333333333333,
              "#9c179e"
             ],
             [
              0.4444444444444444,
              "#bd3786"
             ],
             [
              0.5555555555555556,
              "#d8576b"
             ],
             [
              0.6666666666666666,
              "#ed7953"
             ],
             [
              0.7777777777777778,
              "#fb9f3a"
             ],
             [
              0.8888888888888888,
              "#fdca26"
             ],
             [
              1,
              "#f0f921"
             ]
            ],
            "type": "contour"
           }
          ],
          "contourcarpet": [
           {
            "colorbar": {
             "outlinewidth": 0,
             "ticks": ""
            },
            "type": "contourcarpet"
           }
          ],
          "heatmap": [
           {
            "colorbar": {
             "outlinewidth": 0,
             "ticks": ""
            },
            "colorscale": [
             [
              0,
              "#0d0887"
             ],
             [
              0.1111111111111111,
              "#46039f"
             ],
             [
              0.2222222222222222,
              "#7201a8"
             ],
             [
              0.3333333333333333,
              "#9c179e"
             ],
             [
              0.4444444444444444,
              "#bd3786"
             ],
             [
              0.5555555555555556,
              "#d8576b"
             ],
             [
              0.6666666666666666,
              "#ed7953"
             ],
             [
              0.7777777777777778,
              "#fb9f3a"
             ],
             [
              0.8888888888888888,
              "#fdca26"
             ],
             [
              1,
              "#f0f921"
             ]
            ],
            "type": "heatmap"
           }
          ],
          "heatmapgl": [
           {
            "colorbar": {
             "outlinewidth": 0,
             "ticks": ""
            },
            "colorscale": [
             [
              0,
              "#0d0887"
             ],
             [
              0.1111111111111111,
              "#46039f"
             ],
             [
              0.2222222222222222,
              "#7201a8"
             ],
             [
              0.3333333333333333,
              "#9c179e"
             ],
             [
              0.4444444444444444,
              "#bd3786"
             ],
             [
              0.5555555555555556,
              "#d8576b"
             ],
             [
              0.6666666666666666,
              "#ed7953"
             ],
             [
              0.7777777777777778,
              "#fb9f3a"
             ],
             [
              0.8888888888888888,
              "#fdca26"
             ],
             [
              1,
              "#f0f921"
             ]
            ],
            "type": "heatmapgl"
           }
          ],
          "histogram": [
           {
            "marker": {
             "pattern": {
              "fillmode": "overlay",
              "size": 10,
              "solidity": 0.2
             }
            },
            "type": "histogram"
           }
          ],
          "histogram2d": [
           {
            "colorbar": {
             "outlinewidth": 0,
             "ticks": ""
            },
            "colorscale": [
             [
              0,
              "#0d0887"
             ],
             [
              0.1111111111111111,
              "#46039f"
             ],
             [
              0.2222222222222222,
              "#7201a8"
             ],
             [
              0.3333333333333333,
              "#9c179e"
             ],
             [
              0.4444444444444444,
              "#bd3786"
             ],
             [
              0.5555555555555556,
              "#d8576b"
             ],
             [
              0.6666666666666666,
              "#ed7953"
             ],
             [
              0.7777777777777778,
              "#fb9f3a"
             ],
             [
              0.8888888888888888,
              "#fdca26"
             ],
             [
              1,
              "#f0f921"
             ]
            ],
            "type": "histogram2d"
           }
          ],
          "histogram2dcontour": [
           {
            "colorbar": {
             "outlinewidth": 0,
             "ticks": ""
            },
            "colorscale": [
             [
              0,
              "#0d0887"
             ],
             [
              0.1111111111111111,
              "#46039f"
             ],
             [
              0.2222222222222222,
              "#7201a8"
             ],
             [
              0.3333333333333333,
              "#9c179e"
             ],
             [
              0.4444444444444444,
              "#bd3786"
             ],
             [
              0.5555555555555556,
              "#d8576b"
             ],
             [
              0.6666666666666666,
              "#ed7953"
             ],
             [
              0.7777777777777778,
              "#fb9f3a"
             ],
             [
              0.8888888888888888,
              "#fdca26"
             ],
             [
              1,
              "#f0f921"
             ]
            ],
            "type": "histogram2dcontour"
           }
          ],
          "mesh3d": [
           {
            "colorbar": {
             "outlinewidth": 0,
             "ticks": ""
            },
            "type": "mesh3d"
           }
          ],
          "parcoords": [
           {
            "line": {
             "colorbar": {
              "outlinewidth": 0,
              "ticks": ""
             }
            },
            "type": "parcoords"
           }
          ],
          "pie": [
           {
            "automargin": true,
            "type": "pie"
           }
          ],
          "scatter": [
           {
            "marker": {
             "colorbar": {
              "outlinewidth": 0,
              "ticks": ""
             }
            },
            "type": "scatter"
           }
          ],
          "scatter3d": [
           {
            "line": {
             "colorbar": {
              "outlinewidth": 0,
              "ticks": ""
             }
            },
            "marker": {
             "colorbar": {
              "outlinewidth": 0,
              "ticks": ""
             }
            },
            "type": "scatter3d"
           }
          ],
          "scattercarpet": [
           {
            "marker": {
             "colorbar": {
              "outlinewidth": 0,
              "ticks": ""
             }
            },
            "type": "scattercarpet"
           }
          ],
          "scattergeo": [
           {
            "marker": {
             "colorbar": {
              "outlinewidth": 0,
              "ticks": ""
             }
            },
            "type": "scattergeo"
           }
          ],
          "scattergl": [
           {
            "marker": {
             "colorbar": {
              "outlinewidth": 0,
              "ticks": ""
             }
            },
            "type": "scattergl"
           }
          ],
          "scattermapbox": [
           {
            "marker": {
             "colorbar": {
              "outlinewidth": 0,
              "ticks": ""
             }
            },
            "type": "scattermapbox"
           }
          ],
          "scatterpolar": [
           {
            "marker": {
             "colorbar": {
              "outlinewidth": 0,
              "ticks": ""
             }
            },
            "type": "scatterpolar"
           }
          ],
          "scatterpolargl": [
           {
            "marker": {
             "colorbar": {
              "outlinewidth": 0,
              "ticks": ""
             }
            },
            "type": "scatterpolargl"
           }
          ],
          "scatterternary": [
           {
            "marker": {
             "colorbar": {
              "outlinewidth": 0,
              "ticks": ""
             }
            },
            "type": "scatterternary"
           }
          ],
          "surface": [
           {
            "colorbar": {
             "outlinewidth": 0,
             "ticks": ""
            },
            "colorscale": [
             [
              0,
              "#0d0887"
             ],
             [
              0.1111111111111111,
              "#46039f"
             ],
             [
              0.2222222222222222,
              "#7201a8"
             ],
             [
              0.3333333333333333,
              "#9c179e"
             ],
             [
              0.4444444444444444,
              "#bd3786"
             ],
             [
              0.5555555555555556,
              "#d8576b"
             ],
             [
              0.6666666666666666,
              "#ed7953"
             ],
             [
              0.7777777777777778,
              "#fb9f3a"
             ],
             [
              0.8888888888888888,
              "#fdca26"
             ],
             [
              1,
              "#f0f921"
             ]
            ],
            "type": "surface"
           }
          ],
          "table": [
           {
            "cells": {
             "fill": {
              "color": "#EBF0F8"
             },
             "line": {
              "color": "white"
             }
            },
            "header": {
             "fill": {
              "color": "#C8D4E3"
             },
             "line": {
              "color": "white"
             }
            },
            "type": "table"
           }
          ]
         },
         "layout": {
          "annotationdefaults": {
           "arrowcolor": "#2a3f5f",
           "arrowhead": 0,
           "arrowwidth": 1
          },
          "autotypenumbers": "strict",
          "coloraxis": {
           "colorbar": {
            "outlinewidth": 0,
            "ticks": ""
           }
          },
          "colorscale": {
           "diverging": [
            [
             0,
             "#8e0152"
            ],
            [
             0.1,
             "#c51b7d"
            ],
            [
             0.2,
             "#de77ae"
            ],
            [
             0.3,
             "#f1b6da"
            ],
            [
             0.4,
             "#fde0ef"
            ],
            [
             0.5,
             "#f7f7f7"
            ],
            [
             0.6,
             "#e6f5d0"
            ],
            [
             0.7,
             "#b8e186"
            ],
            [
             0.8,
             "#7fbc41"
            ],
            [
             0.9,
             "#4d9221"
            ],
            [
             1,
             "#276419"
            ]
           ],
           "sequential": [
            [
             0,
             "#0d0887"
            ],
            [
             0.1111111111111111,
             "#46039f"
            ],
            [
             0.2222222222222222,
             "#7201a8"
            ],
            [
             0.3333333333333333,
             "#9c179e"
            ],
            [
             0.4444444444444444,
             "#bd3786"
            ],
            [
             0.5555555555555556,
             "#d8576b"
            ],
            [
             0.6666666666666666,
             "#ed7953"
            ],
            [
             0.7777777777777778,
             "#fb9f3a"
            ],
            [
             0.8888888888888888,
             "#fdca26"
            ],
            [
             1,
             "#f0f921"
            ]
           ],
           "sequentialminus": [
            [
             0,
             "#0d0887"
            ],
            [
             0.1111111111111111,
             "#46039f"
            ],
            [
             0.2222222222222222,
             "#7201a8"
            ],
            [
             0.3333333333333333,
             "#9c179e"
            ],
            [
             0.4444444444444444,
             "#bd3786"
            ],
            [
             0.5555555555555556,
             "#d8576b"
            ],
            [
             0.6666666666666666,
             "#ed7953"
            ],
            [
             0.7777777777777778,
             "#fb9f3a"
            ],
            [
             0.8888888888888888,
             "#fdca26"
            ],
            [
             1,
             "#f0f921"
            ]
           ]
          },
          "colorway": [
           "#636efa",
           "#EF553B",
           "#00cc96",
           "#ab63fa",
           "#FFA15A",
           "#19d3f3",
           "#FF6692",
           "#B6E880",
           "#FF97FF",
           "#FECB52"
          ],
          "font": {
           "color": "#2a3f5f"
          },
          "geo": {
           "bgcolor": "white",
           "lakecolor": "white",
           "landcolor": "#E5ECF6",
           "showlakes": true,
           "showland": true,
           "subunitcolor": "white"
          },
          "hoverlabel": {
           "align": "left"
          },
          "hovermode": "closest",
          "mapbox": {
           "style": "light"
          },
          "paper_bgcolor": "white",
          "plot_bgcolor": "#E5ECF6",
          "polar": {
           "angularaxis": {
            "gridcolor": "white",
            "linecolor": "white",
            "ticks": ""
           },
           "bgcolor": "#E5ECF6",
           "radialaxis": {
            "gridcolor": "white",
            "linecolor": "white",
            "ticks": ""
           }
          },
          "scene": {
           "xaxis": {
            "backgroundcolor": "#E5ECF6",
            "gridcolor": "white",
            "gridwidth": 2,
            "linecolor": "white",
            "showbackground": true,
            "ticks": "",
            "zerolinecolor": "white"
           },
           "yaxis": {
            "backgroundcolor": "#E5ECF6",
            "gridcolor": "white",
            "gridwidth": 2,
            "linecolor": "white",
            "showbackground": true,
            "ticks": "",
            "zerolinecolor": "white"
           },
           "zaxis": {
            "backgroundcolor": "#E5ECF6",
            "gridcolor": "white",
            "gridwidth": 2,
            "linecolor": "white",
            "showbackground": true,
            "ticks": "",
            "zerolinecolor": "white"
           }
          },
          "shapedefaults": {
           "line": {
            "color": "#2a3f5f"
           }
          },
          "ternary": {
           "aaxis": {
            "gridcolor": "white",
            "linecolor": "white",
            "ticks": ""
           },
           "baxis": {
            "gridcolor": "white",
            "linecolor": "white",
            "ticks": ""
           },
           "bgcolor": "#E5ECF6",
           "caxis": {
            "gridcolor": "white",
            "linecolor": "white",
            "ticks": ""
           }
          },
          "title": {
           "x": 0.05
          },
          "xaxis": {
           "automargin": true,
           "gridcolor": "white",
           "linecolor": "white",
           "ticks": "",
           "title": {
            "standoff": 15
           },
           "zerolinecolor": "white",
           "zerolinewidth": 2
          },
          "yaxis": {
           "automargin": true,
           "gridcolor": "white",
           "linecolor": "white",
           "ticks": "",
           "title": {
            "standoff": 15
           },
           "zerolinecolor": "white",
           "zerolinewidth": 2
          }
         }
        }
       }
      },
      "image/png": "[encoded data removed]",
      "text/html": [
       "<div>                            <div id=\"6b01e2cb-59df-494b-a20b-20557a2ec297\" class=\"plotly-graph-div\" style=\"height:525px; width:100%;\"></div>            <script type=\"text/javascript\">                require([\"plotly\"], function(Plotly) {                    window.PLOTLYENV=window.PLOTLYENV || {};                                    if (document.getElementById(\"6b01e2cb-59df-494b-a20b-20557a2ec297\")) {                    Plotly.newPlot(                        \"6b01e2cb-59df-494b-a20b-20557a2ec297\",                        [{\"hoverinfo\":\"text\",\"lat\":[32.00254440307617,32.00550842285156,32.00847625732422,32.18953323364258,32.19252014160156,32.19551086425781,32.19850158691406,32.20148849487305,32.2044792175293,32.20746994018555,32.21045684814453,32.21344757080078,32.21643829345703,32.219425201416016,32.222415924072266,32.22540283203125,32.228363037109375,32.2313232421875,32.234283447265625,32.23724365234375,32.240203857421875,32.243167877197266,32.24612808227539,32.249088287353516,32.25204849243164,32.255008697509766,32.25796890258789,32.260929107666016,32.26388931274414,32.26685333251953,32.269813537597656,32.27277374267578,32.275733947753906,32.27869415283203,32.281654357910156,32.28461456298828,32.287574768066406,32.29053497314453,32.29349899291992,32.296470642089844,32.2994384765625,32.302406311035156,32.30537796020508,32.308345794677734,32.31131362915039,32.31428527832031,32.31725311279297,32.320220947265625,32.32318878173828,32.3261604309082,32.32912826538086,32.332096099853516,32.33506393432617,32.338035583496094,32.34100341796875,32.343971252441406,32.34694290161133,32.349910736083984,32.35287857055664,32.35585021972656,32.35882568359375,32.36179733276367,32.364768981933594,32.90376663208008,32.90673828125,32.90970993041992,32.912681579589844,32.915653228759766,32.91862487792969,32.92159652709961,32.92456817626953,32.92753982543945,32.930511474609375,32.93348693847656,32.936458587646484,32.939430236816406,32.94240188598633,32.94537353515625,32.94834518432617,32.951316833496094,32.95429992675781,32.95729064941406,32.96028518676758,32.96327590942383,32.96626663208008,32.96925735473633,32.97224807739258,32.975242614746094,32.978233337402344,32.981224060058594,32.984214782714844,32.987205505371094,32.99020004272461,33.17217254638672,33.17516326904297,33.17815399169922,33.18114471435547,33.18413543701172,33.187129974365234,33.190120697021484,33.193111419677734,33.196075439453125,33.19904327392578,33.20200729370117,33.20497131347656,33.20793533325195,33.21090316772461,33.2138671875,33.21683120727539,33.21979522705078,33.22276306152344,33.22572708129883,33.22869110107422,33.23165512084961,33.234622955322266,33.237586975097656,33.24055099487305,33.24351501464844,33.246482849121094,33.24945831298828,33.2524299621582,33.25540542602539,33.25838088989258,33.2613525390625,33.26432800292969,33.26729965209961,33.2702751159668,33.27324676513672,33.276222229003906,33.279197692871094,33.282169342041016,33.2851448059082,33.288116455078125,33.29109191894531,33.294063568115234,33.29703903198242,33.300010681152344,33.30298614501953,33.30595779418945,33.30893325805664,33.31190872192383,33.31488037109375,33.31785202026367,33.32081985473633,33.32379150390625,33.32676315307617,33.329734802246094,33.332706451416016,33.33567810058594,33.33864974975586,33.34162139892578,33.3445930480957,33.347564697265625,33.35053253173828,33.3535041809082,33.356475830078125,33.35944747924805,33.36241912841797,33.36539077758789,33.36836242675781,33.371334075927734,33.37431335449219,33.37730026245117,33.380287170410156,33.38327407836914,33.386260986328125,33.38924789428711,33.392234802246094,33.39522171020508,33.39820861816406,33.40119934082031,33.4041862487793,33.40717315673828,33.410160064697266,33.41314697265625,33.416133880615234,33.41912078857422,33.4221076965332,33.42509460449219,33.4280891418457,33.43108367919922,33.43407440185547,33.437068939208984,33.530059814453125,33.5330696105957,33.53607940673828,33.539085388183594,33.54209518432617,33.54510498046875,33.54811477661133,33.551124572753906,33.554134368896484,33.5571174621582,33.56010437011719,33.56309127807617,33.56607437133789,33.569061279296875,33.57204818725586,33.57503128051758,33.57801818847656,33.58100509643555,33.583988189697266,33.58697509765625,33.589962005615234,33.59294509887695,33.59593200683594,33.59891891479492,33.60190200805664,33.604888916015625,33.60786819458008,33.610843658447266,33.61381530761719,33.61678695678711],\"lon\":[-71.39122009277344,-71.3904037475586,-71.38958740234375,-71.3405532836914,-71.33975982666016,-71.3389663696289,-71.33816528320312,-71.33737182617188,-71.33657836914062,-71.33578491210938,-71.33499145507812,-71.33419799804688,-71.33340454101562,-71.33261108398438,-71.33181762695312,-71.33101654052734,-71.3302230834961,-71.32942199707031,-71.32862091064453,-71.32781982421875,-71.32701873779297,-71.32622528076172,-71.32542419433594,-71.32462310791016,-71.32382202148438,-71.3230209350586,-71.32221984863281,-71.32142639160156,-71.32062530517578,-71.31982421875,-71.31902313232422,-71.31822204589844,-71.31742095947266,-71.31661987304688,-71.31582641601562,-71.31502532958984,-71.31422424316406,-71.31342315673828,-71.3126220703125,-71.31182098388672,-71.3110122680664,-71.31021118164062,-71.30941009521484,-71.30860900878906,-71.30780029296875,-71.30699920654297,-71.30619812011719,-71.3053970336914,-71.3045883178711,-71.30378723144531,-71.30298614501953,-71.30217742919922,-71.30137634277344,-71.30057525634766,-71.29976654052734,-71.29896545410156,-71.29816436767578,-71.29735565185547,-71.29655456542969,-71.29573059082031,-71.29491424560547,-71.29409790039062,-71.29328155517578,-71.14665985107422,-71.1458511352539,-71.1450424194336,-71.14422607421875,-71.14341735839844,-71.14260864257812,-71.14179229736328,-71.14098358154297,-71.14017486572266,-71.13935852050781,-71.1385498046875,-71.13773345947266,-71.13692474365234,-71.13611602783203,-71.13529968261719,-71.13449096679688,-71.13367462158203,-71.13286590576172,-71.1320571899414,-71.13124084472656,-71.13043212890625,-71.12962341308594,-71.1288070678711,-71.12799835205078,-71.12718963623047,-71.12637329101562,-71.12556457519531,-71.124755859375,-71.12393951416016,-71.12313079833984,-71.07308197021484,-71.072265625,-71.07145690917969,-71.07064056396484,-71.06982421875,-71.06900787353516,-71.06819915771484,-71.0673828125,-71.0665512084961,-71.06571960449219,-71.06488800048828,-71.06405639648438,-71.06322479248047,-71.06239318847656,-71.06156158447266,-71.06072998046875,-71.05989837646484,-71.05906677246094,-71.05823516845703,-71.05740356445312,-71.05657196044922,-71.05574035644531,-71.0549087524414,-71.0540771484375,-71.0532455444336,-71.05242919921875,-71.05162811279297,-71.05082702636719,-71.05001831054688,-71.0492172241211,-71.04841613769531,-71.04761505126953,-71.04681396484375,-71.04601287841797,-71.04521179199219,-71.0444107055664,-71.04360961914062,-71.04280090332031,-71.04199981689453,-71.04119873046875,-71.04039764404297,-71.03959655761719,-71.0387954711914,-71.03799438476562,-71.03718566894531,-71.03638458251953,-71.03558349609375,-71.03478240966797,-71.0339584350586,-71.03311920166016,-71.03227996826172,-71.03144836425781,-71.03060913085938,-71.02976989746094,-71.0289306640625,-71.0280990600586,-71.02725982666016,-71.02642059326172,-71.02558135986328,-71.02474975585938,-71.02391052246094,-71.0230712890625,-71.02223205566406,-71.02139282226562,-71.02056121826172,-71.01972198486328,-71.01888275146484,-71.0180435180664,-71.01721954345703,-71.01641082763672,-71.0156021118164,-71.0147933959961,-71.01398468017578,-71.01316833496094,-71.01235961914062,-71.01155090332031,-71.0107421875,-71.00993347167969,-71.00911712646484,-71.00830841064453,-71.00749969482422,-71.0066909790039,-71.0058822631836,-71.00506591796875,-71.00425720214844,-71.00344848632812,-71.00262451171875,-71.00180053710938,-71.0009765625,-71.00015258789062,-70.97465515136719,-70.97383117675781,-70.97301483154297,-70.9721908569336,-70.97137451171875,-70.97055053710938,-70.96973419189453,-70.96891021728516,-70.96808624267578,-70.96725463867188,-70.96641540527344,-70.965576171875,-70.96473693847656,-70.96389770507812,-70.96305847167969,-70.96222686767578,-70.96138763427734,-70.9605484008789,-70.95970916748047,-70.95886993408203,-70.9580307006836,-70.95719146728516,-70.95635986328125,-70.95552062988281,-70.95468139648438,-70.95384216308594,-70.95301055908203,-70.95217895507812,-70.95135498046875,-70.95053100585938],\"marker\":{\"color\":[1265,1265,1265,513,513,513,513,513,513,513,513,513,513,513,513,513,513,513,513,513,513,513,513,513,513,513,513,513,513,513,513,513,513,555,555,555,555,555,555,555,555,555,555,555,555,555,555,555,555,555,555,555,555,555,555,555,555,555,555,555,555,555,555,515,515,515,515,515,515,515,515,515,515,515,515,515,515,515,515,515,515,515,515,515,515,515,515,515,515,515,515,515,515,500,500,500,500,500,500,500,500,500,500,500,500,500,500,500,500,500,500,500,500,500,500,500,500,500,500,500,500,500,500,442,442,442,442,442,442,442,442,442,442,442,442,442,442,442,442,442,442,442,442,442,442,442,442,442,442,442,442,442,442,270,270,270,270,270,270,270,270,270,270,270,270,270,270,270,270,270,270,270,270,270,270,270,270,270,270,270,270,270,270,266,266,266,266,266,266,266,266,266,266,266,266,266,266,266,266,266,266,266,266,266,266,266,266,266,266,266,266,266,266],\"size\":2},\"mode\":\"markers\",\"text\":[\"Optical_Depth_MODIS_550: 1.2650000000000001\",\"Optical_Depth_MODIS_550: 1.2650000000000001\",\"Optical_Depth_MODIS_550: 1.2650000000000001\",\"Optical_Depth_MODIS_550: 0.513\",\"Optical_Depth_MODIS_550: 0.513\",\"Optical_Depth_MODIS_550: 0.513\",\"Optical_Depth_MODIS_550: 0.513\",\"Optical_Depth_MODIS_550: 0.513\",\"Optical_Depth_MODIS_550: 0.513\",\"Optical_Depth_MODIS_550: 0.513\",\"Optical_Depth_MODIS_550: 0.513\",\"Optical_Depth_MODIS_550: 0.513\",\"Optical_Depth_MODIS_550: 0.513\",\"Optical_Depth_MODIS_550: 0.513\",\"Optical_Depth_MODIS_550: 0.513\",\"Optical_Depth_MODIS_550: 0.513\",\"Optical_Depth_MODIS_550: 0.513\",\"Optical_Depth_MODIS_550: 0.513\",\"Optical_Depth_MODIS_550: 0.513\",\"Optical_Depth_MODIS_550: 0.513\",\"Optical_Depth_MODIS_550: 0.513\",\"Optical_Depth_MODIS_550: 0.513\",\"Optical_Depth_MODIS_550: 0.513\",\"Optical_Depth_MODIS_550: 0.513\",\"Optical_Depth_MODIS_550: 0.513\",\"Optical_Depth_MODIS_550: 0.513\",\"Optical_Depth_MODIS_550: 0.513\",\"Optical_Depth_MODIS_550: 0.513\",\"Optical_Depth_MODIS_550: 0.513\",\"Optical_Depth_MODIS_550: 0.513\",\"Optical_Depth_MODIS_550: 0.513\",\"Optical_Depth_MODIS_550: 0.513\",\"Optical_Depth_MODIS_550: 0.513\",\"Optical_Depth_MODIS_550: 0.555\",\"Optical_Depth_MODIS_550: 0.555\",\"Optical_Depth_MODIS_550: 0.555\",\"Optical_Depth_MODIS_550: 0.555\",\"Optical_Depth_MODIS_550: 0.555\",\"Optical_Depth_MODIS_550: 0.555\",\"Optical_Depth_MODIS_550: 0.555\",\"Optical_Depth_MODIS_550: 0.555\",\"Optical_Depth_MODIS_550: 0.555\",\"Optical_Depth_MODIS_550: 0.555\",\"Optical_Depth_MODIS_550: 0.555\",\"Optical_Depth_MODIS_550: 0.555\",\"Optical_Depth_MODIS_550: 0.555\",\"Optical_Depth_MODIS_550: 0.555\",\"Optical_Depth_MODIS_550: 0.555\",\"Optical_Depth_MODIS_550: 0.555\",\"Optical_Depth_MODIS_550: 0.555\",\"Optical_Depth_MODIS_550: 0.555\",\"Optical_Depth_MODIS_550: 0.555\",\"Optical_Depth_MODIS_550: 0.555\",\"Optical_Depth_MODIS_550: 0.555\",\"Optical_Depth_MODIS_550: 0.555\",\"Optical_Depth_MODIS_550: 0.555\",\"Optical_Depth_MODIS_550: 0.555\",\"Optical_Depth_MODIS_550: 0.555\",\"Optical_Depth_MODIS_550: 0.555\",\"Optical_Depth_MODIS_550: 0.555\",\"Optical_Depth_MODIS_550: 0.555\",\"Optical_Depth_MODIS_550: 0.555\",\"Optical_Depth_MODIS_550: 0.555\",\"Optical_Depth_MODIS_550: 0.515\",\"Optical_Depth_MODIS_550: 0.515\",\"Optical_Depth_MODIS_550: 0.515\",\"Optical_Depth_MODIS_550: 0.515\",\"Optical_Depth_MODIS_550: 0.515\",\"Optical_Depth_MODIS_550: 0.515\",\"Optical_Depth_MODIS_550: 0.515\",\"Optical_Depth_MODIS_550: 0.515\",\"Optical_Depth_MODIS_550: 0.515\",\"Optical_Depth_MODIS_550: 0.515\",\"Optical_Depth_MODIS_550: 0.515\",\"Optical_Depth_MODIS_550: 0.515\",\"Optical_Depth_MODIS_550: 0.515\",\"Optical_Depth_MODIS_550: 0.515\",\"Optical_Depth_MODIS_550: 0.515\",\"Optical_Depth_MODIS_550: 0.515\",\"Optical_Depth_MODIS_550: 0.515\",\"Optical_Depth_MODIS_550: 0.515\",\"Optical_Depth_MODIS_550: 0.515\",\"Optical_Depth_MODIS_550: 0.515\",\"Optical_Depth_MODIS_550: 0.515\",\"Optical_Depth_MODIS_550: 0.515\",\"Optical_Depth_MODIS_550: 0.515\",\"Optical_Depth_MODIS_550: 0.515\",\"Optical_Depth_MODIS_550: 0.515\",\"Optical_Depth_MODIS_550: 0.515\",\"Optical_Depth_MODIS_550: 0.515\",\"Optical_Depth_MODIS_550: 0.515\",\"Optical_Depth_MODIS_550: 0.515\",\"Optical_Depth_MODIS_550: 0.515\",\"Optical_Depth_MODIS_550: 0.5\",\"Optical_Depth_MODIS_550: 0.5\",\"Optical_Depth_MODIS_550: 0.5\",\"Optical_Depth_MODIS_550: 0.5\",\"Optical_Depth_MODIS_550: 0.5\",\"Optical_Depth_MODIS_550: 0.5\",\"Optical_Depth_MODIS_550: 0.5\",\"Optical_Depth_MODIS_550: 0.5\",\"Optical_Depth_MODIS_550: 0.5\",\"Optical_Depth_MODIS_550: 0.5\",\"Optical_Depth_MODIS_550: 0.5\",\"Optical_Depth_MODIS_550: 0.5\",\"Optical_Depth_MODIS_550: 0.5\",\"Optical_Depth_MODIS_550: 0.5\",\"Optical_Depth_MODIS_550: 0.5\",\"Optical_Depth_MODIS_550: 0.5\",\"Optical_Depth_MODIS_550: 0.5\",\"Optical_Depth_MODIS_550: 0.5\",\"Optical_Depth_MODIS_550: 0.5\",\"Optical_Depth_MODIS_550: 0.5\",\"Optical_Depth_MODIS_550: 0.5\",\"Optical_Depth_MODIS_550: 0.5\",\"Optical_Depth_MODIS_550: 0.5\",\"Optical_Depth_MODIS_550: 0.5\",\"Optical_Depth_MODIS_550: 0.5\",\"Optical_Depth_MODIS_550: 0.5\",\"Optical_Depth_MODIS_550: 0.5\",\"Optical_Depth_MODIS_550: 0.5\",\"Optical_Depth_MODIS_550: 0.5\",\"Optical_Depth_MODIS_550: 0.5\",\"Optical_Depth_MODIS_550: 0.442\",\"Optical_Depth_MODIS_550: 0.442\",\"Optical_Depth_MODIS_550: 0.442\",\"Optical_Depth_MODIS_550: 0.442\",\"Optical_Depth_MODIS_550: 0.442\",\"Optical_Depth_MODIS_550: 0.442\",\"Optical_Depth_MODIS_550: 0.442\",\"Optical_Depth_MODIS_550: 0.442\",\"Optical_Depth_MODIS_550: 0.442\",\"Optical_Depth_MODIS_550: 0.442\",\"Optical_Depth_MODIS_550: 0.442\",\"Optical_Depth_MODIS_550: 0.442\",\"Optical_Depth_MODIS_550: 0.442\",\"Optical_Depth_MODIS_550: 0.442\",\"Optical_Depth_MODIS_550: 0.442\",\"Optical_Depth_MODIS_550: 0.442\",\"Optical_Depth_MODIS_550: 0.442\",\"Optical_Depth_MODIS_550: 0.442\",\"Optical_Depth_MODIS_550: 0.442\",\"Optical_Depth_MODIS_550: 0.442\",\"Optical_Depth_MODIS_550: 0.442\",\"Optical_Depth_MODIS_550: 0.442\",\"Optical_Depth_MODIS_550: 0.442\",\"Optical_Depth_MODIS_550: 0.442\",\"Optical_Depth_MODIS_550: 0.442\",\"Optical_Depth_MODIS_550: 0.442\",\"Optical_Depth_MODIS_550: 0.442\",\"Optical_Depth_MODIS_550: 0.442\",\"Optical_Depth_MODIS_550: 0.442\",\"Optical_Depth_MODIS_550: 0.442\",\"Optical_Depth_MODIS_550: 0.27\",\"Optical_Depth_MODIS_550: 0.27\",\"Optical_Depth_MODIS_550: 0.27\",\"Optical_Depth_MODIS_550: 0.27\",\"Optical_Depth_MODIS_550: 0.27\",\"Optical_Depth_MODIS_550: 0.27\",\"Optical_Depth_MODIS_550: 0.27\",\"Optical_Depth_MODIS_550: 0.27\",\"Optical_Depth_MODIS_550: 0.27\",\"Optical_Depth_MODIS_550: 0.27\",\"Optical_Depth_MODIS_550: 0.27\",\"Optical_Depth_MODIS_550: 0.27\",\"Optical_Depth_MODIS_550: 0.27\",\"Optical_Depth_MODIS_550: 0.27\",\"Optical_Depth_MODIS_550: 0.27\",\"Optical_Depth_MODIS_550: 0.27\",\"Optical_Depth_MODIS_550: 0.27\",\"Optical_Depth_MODIS_550: 0.27\",\"Optical_Depth_MODIS_550: 0.27\",\"Optical_Depth_MODIS_550: 0.27\",\"Optical_Depth_MODIS_550: 0.27\",\"Optical_Depth_MODIS_550: 0.27\",\"Optical_Depth_MODIS_550: 0.27\",\"Optical_Depth_MODIS_550: 0.27\",\"Optical_Depth_MODIS_550: 0.27\",\"Optical_Depth_MODIS_550: 0.27\",\"Optical_Depth_MODIS_550: 0.27\",\"Optical_Depth_MODIS_550: 0.27\",\"Optical_Depth_MODIS_550: 0.27\",\"Optical_Depth_MODIS_550: 0.27\",\"Optical_Depth_MODIS_550: 0.266\",\"Optical_Depth_MODIS_550: 0.266\",\"Optical_Depth_MODIS_550: 0.266\",\"Optical_Depth_MODIS_550: 0.266\",\"Optical_Depth_MODIS_550: 0.266\",\"Optical_Depth_MODIS_550: 0.266\",\"Optical_Depth_MODIS_550: 0.266\",\"Optical_Depth_MODIS_550: 0.266\",\"Optical_Depth_MODIS_550: 0.266\",\"Optical_Depth_MODIS_550: 0.266\",\"Optical_Depth_MODIS_550: 0.266\",\"Optical_Depth_MODIS_550: 0.266\",\"Optical_Depth_MODIS_550: 0.266\",\"Optical_Depth_MODIS_550: 0.266\",\"Optical_Depth_MODIS_550: 0.266\",\"Optical_Depth_MODIS_550: 0.266\",\"Optical_Depth_MODIS_550: 0.266\",\"Optical_Depth_MODIS_550: 0.266\",\"Optical_Depth_MODIS_550: 0.266\",\"Optical_Depth_MODIS_550: 0.266\",\"Optical_Depth_MODIS_550: 0.266\",\"Optical_Depth_MODIS_550: 0.266\",\"Optical_Depth_MODIS_550: 0.266\",\"Optical_Depth_MODIS_550: 0.266\",\"Optical_Depth_MODIS_550: 0.266\",\"Optical_Depth_MODIS_550: 0.266\",\"Optical_Depth_MODIS_550: 0.266\",\"Optical_Depth_MODIS_550: 0.266\",\"Optical_Depth_MODIS_550: 0.266\",\"Optical_Depth_MODIS_550: 0.266\"],\"type\":\"scattergeo\"}],                        {\"margin\":{\"b\":1,\"l\":1,\"r\":1,\"t\":1},\"template\":{\"data\":{\"bar\":[{\"error_x\":{\"color\":\"#2a3f5f\"},\"error_y\":{\"color\":\"#2a3f5f\"},\"marker\":{\"line\":{\"color\":\"#E5ECF6\",\"width\":0.5},\"pattern\":{\"fillmode\":\"overlay\",\"size\":10,\"solidity\":0.2}},\"type\":\"bar\"}],\"barpolar\":[{\"marker\":{\"line\":{\"color\":\"#E5ECF6\",\"width\":0.5},\"pattern\":{\"fillmode\":\"overlay\",\"size\":10,\"solidity\":0.2}},\"type\":\"barpolar\"}],\"carpet\":[{\"aaxis\":{\"endlinecolor\":\"#2a3f5f\",\"gridcolor\":\"white\",\"linecolor\":\"white\",\"minorgridcolor\":\"white\",\"startlinecolor\":\"#2a3f5f\"},\"baxis\":{\"endlinecolor\":\"#2a3f5f\",\"gridcolor\":\"white\",\"linecolor\":\"white\",\"minorgridcolor\":\"white\",\"startlinecolor\":\"#2a3f5f\"},\"type\":\"carpet\"}],\"choropleth\":[{\"colorbar\":{\"outlinewidth\":0,\"ticks\":\"\"},\"type\":\"choropleth\"}],\"contour\":[{\"colorbar\":{\"outlinewidth\":0,\"ticks\":\"\"},\"colorscale\":[[0.0,\"#0d0887\"],[0.1111111111111111,\"#46039f\"],[0.2222222222222222,\"#7201a8\"],[0.3333333333333333,\"#9c179e\"],[0.4444444444444444,\"#bd3786\"],[0.5555555555555556,\"#d8576b\"],[0.6666666666666666,\"#ed7953\"],[0.7777777777777778,\"#fb9f3a\"],[0.8888888888888888,\"#fdca26\"],[1.0,\"#f0f921\"]],\"type\":\"contour\"}],\"contourcarpet\":[{\"colorbar\":{\"outlinewidth\":0,\"ticks\":\"\"},\"type\":\"contourcarpet\"}],\"heatmap\":[{\"colorbar\":{\"outlinewidth\":0,\"ticks\":\"\"},\"colorscale\":[[0.0,\"#0d0887\"],[0.1111111111111111,\"#46039f\"],[0.2222222222222222,\"#7201a8\"],[0.3333333333333333,\"#9c179e\"],[0.4444444444444444,\"#bd3786\"],[0.5555555555555556,\"#d8576b\"],[0.6666666666666666,\"#ed7953\"],[0.7777777777777778,\"#fb9f3a\"],[0.8888888888888888,\"#fdca26\"],[1.0,\"#f0f921\"]],\"type\":\"heatmap\"}],\"heatmapgl\":[{\"colorbar\":{\"outlinewidth\":0,\"ticks\":\"\"},\"colorscale\":[[0.0,\"#0d0887\"],[0.1111111111111111,\"#46039f\"],[0.2222222222222222,\"#7201a8\"],[0.3333333333333333,\"#9c179e\"],[0.4444444444444444,\"#bd3786\"],[0.5555555555555556,\"#d8576b\"],[0.6666666666666666,\"#ed7953\"],[0.7777777777777778,\"#fb9f3a\"],[0.8888888888888888,\"#fdca26\"],[1.0,\"#f0f921\"]],\"type\":\"heatmapgl\"}],\"histogram\":[{\"marker\":{\"pattern\":{\"fillmode\":\"overlay\",\"size\":10,\"solidity\":0.2}},\"type\":\"histogram\"}],\"histogram2d\":[{\"colorbar\":{\"outlinewidth\":0,\"ticks\":\"\"},\"colorscale\":[[0.0,\"#0d0887\"],[0.1111111111111111,\"#46039f\"],[0.2222222222222222,\"#7201a8\"],[0.3333333333333333,\"#9c179e\"],[0.4444444444444444,\"#bd3786\"],[0.5555555555555556,\"#d8576b\"],[0.6666666666666666,\"#ed7953\"],[0.7777777777777778,\"#fb9f3a\"],[0.8888888888888888,\"#fdca26\"],[1.0,\"#f0f921\"]],\"type\":\"histogram2d\"}],\"histogram2dcontour\":[{\"colorbar\":{\"outlinewidth\":0,\"ticks\":\"\"},\"colorscale\":[[0.0,\"#0d0887\"],[0.1111111111111111,\"#46039f\"],[0.2222222222222222,\"#7201a8\"],[0.3333333333333333,\"#9c179e\"],[0.4444444444444444,\"#bd3786\"],[0.5555555555555556,\"#d8576b\"],[0.6666666666666666,\"#ed7953\"],[0.7777777777777778,\"#fb9f3a\"],[0.8888888888888888,\"#fdca26\"],[1.0,\"#f0f921\"]],\"type\":\"histogram2dcontour\"}],\"mesh3d\":[{\"colorbar\":{\"outlinewidth\":0,\"ticks\":\"\"},\"type\":\"mesh3d\"}],\"parcoords\":[{\"line\":{\"colorbar\":{\"outlinewidth\":0,\"ticks\":\"\"}},\"type\":\"parcoords\"}],\"pie\":[{\"automargin\":true,\"type\":\"pie\"}],\"scatter\":[{\"marker\":{\"colorbar\":{\"outlinewidth\":0,\"ticks\":\"\"}},\"type\":\"scatter\"}],\"scatter3d\":[{\"line\":{\"colorbar\":{\"outlinewidth\":0,\"ticks\":\"\"}},\"marker\":{\"colorbar\":{\"outlinewidth\":0,\"ticks\":\"\"}},\"type\":\"scatter3d\"}],\"scattercarpet\":[{\"marker\":{\"colorbar\":{\"outlinewidth\":0,\"ticks\":\"\"}},\"type\":\"scattercarpet\"}],\"scattergeo\":[{\"marker\":{\"colorbar\":{\"outlinewidth\":0,\"ticks\":\"\"}},\"type\":\"scattergeo\"}],\"scattergl\":[{\"marker\":{\"colorbar\":{\"outlinewidth\":0,\"ticks\":\"\"}},\"type\":\"scattergl\"}],\"scattermapbox\":[{\"marker\":{\"colorbar\":{\"outlinewidth\":0,\"ticks\":\"\"}},\"type\":\"scattermapbox\"}],\"scatterpolar\":[{\"marker\":{\"colorbar\":{\"outlinewidth\":0,\"ticks\":\"\"}},\"type\":\"scatterpolar\"}],\"scatterpolargl\":[{\"marker\":{\"colorbar\":{\"outlinewidth\":0,\"ticks\":\"\"}},\"type\":\"scatterpolargl\"}],\"scatterternary\":[{\"marker\":{\"colorbar\":{\"outlinewidth\":0,\"ticks\":\"\"}},\"type\":\"scatterternary\"}],\"surface\":[{\"colorbar\":{\"outlinewidth\":0,\"ticks\":\"\"},\"colorscale\":[[0.0,\"#0d0887\"],[0.1111111111111111,\"#46039f\"],[0.2222222222222222,\"#7201a8\"],[0.3333333333333333,\"#9c179e\"],[0.4444444444444444,\"#bd3786\"],[0.5555555555555556,\"#d8576b\"],[0.6666666666666666,\"#ed7953\"],[0.7777777777777778,\"#fb9f3a\"],[0.8888888888888888,\"#fdca26\"],[1.0,\"#f0f921\"]],\"type\":\"surface\"}],\"table\":[{\"cells\":{\"fill\":{\"color\":\"#EBF0F8\"},\"line\":{\"color\":\"white\"}},\"header\":{\"fill\":{\"color\":\"#C8D4E3\"},\"line\":{\"color\":\"white\"}},\"type\":\"table\"}]},\"layout\":{\"annotationdefaults\":{\"arrowcolor\":\"#2a3f5f\",\"arrowhead\":0,\"arrowwidth\":1},\"autotypenumbers\":\"strict\",\"coloraxis\":{\"colorbar\":{\"outlinewidth\":0,\"ticks\":\"\"}},\"colorscale\":{\"diverging\":[[0,\"#8e0152\"],[0.1,\"#c51b7d\"],[0.2,\"#de77ae\"],[0.3,\"#f1b6da\"],[0.4,\"#fde0ef\"],[0.5,\"#f7f7f7\"],[0.6,\"#e6f5d0\"],[0.7,\"#b8e186\"],[0.8,\"#7fbc41\"],[0.9,\"#4d9221\"],[1,\"#276419\"]],\"sequential\":[[0.0,\"#0d0887\"],[0.1111111111111111,\"#46039f\"],[0.2222222222222222,\"#7201a8\"],[0.3333333333333333,\"#9c179e\"],[0.4444444444444444,\"#bd3786\"],[0.5555555555555556,\"#d8576b\"],[0.6666666666666666,\"#ed7953\"],[0.7777777777777778,\"#fb9f3a\"],[0.8888888888888888,\"#fdca26\"],[1.0,\"#f0f921\"]],\"sequentialminus\":[[0.0,\"#0d0887\"],[0.1111111111111111,\"#46039f\"],[0.2222222222222222,\"#7201a8\"],[0.3333333333333333,\"#9c179e\"],[0.4444444444444444,\"#bd3786\"],[0.5555555555555556,\"#d8576b\"],[0.6666666666666666,\"#ed7953\"],[0.7777777777777778,\"#fb9f3a\"],[0.8888888888888888,\"#fdca26\"],[1.0,\"#f0f921\"]]},\"colorway\":[\"#636efa\",\"#EF553B\",\"#00cc96\",\"#ab63fa\",\"#FFA15A\",\"#19d3f3\",\"#FF6692\",\"#B6E880\",\"#FF97FF\",\"#FECB52\"],\"font\":{\"color\":\"#2a3f5f\"},\"geo\":{\"bgcolor\":\"white\",\"lakecolor\":\"white\",\"landcolor\":\"#E5ECF6\",\"showlakes\":true,\"showland\":true,\"subunitcolor\":\"white\"},\"hoverlabel\":{\"align\":\"left\"},\"hovermode\":\"closest\",\"mapbox\":{\"style\":\"light\"},\"paper_bgcolor\":\"white\",\"plot_bgcolor\":\"#E5ECF6\",\"polar\":{\"angularaxis\":{\"gridcolor\":\"white\",\"linecolor\":\"white\",\"ticks\":\"\"},\"bgcolor\":\"#E5ECF6\",\"radialaxis\":{\"gridcolor\":\"white\",\"linecolor\":\"white\",\"ticks\":\"\"}},\"scene\":{\"xaxis\":{\"backgroundcolor\":\"#E5ECF6\",\"gridcolor\":\"white\",\"gridwidth\":2,\"linecolor\":\"white\",\"showbackground\":true,\"ticks\":\"\",\"zerolinecolor\":\"white\"},\"yaxis\":{\"backgroundcolor\":\"#E5ECF6\",\"gridcolor\":\"white\",\"gridwidth\":2,\"linecolor\":\"white\",\"showbackground\":true,\"ticks\":\"\",\"zerolinecolor\":\"white\"},\"zaxis\":{\"backgroundcolor\":\"#E5ECF6\",\"gridcolor\":\"white\",\"gridwidth\":2,\"linecolor\":\"white\",\"showbackground\":true,\"ticks\":\"\",\"zerolinecolor\":\"white\"}},\"shapedefaults\":{\"line\":{\"color\":\"#2a3f5f\"}},\"ternary\":{\"aaxis\":{\"gridcolor\":\"white\",\"linecolor\":\"white\",\"ticks\":\"\"},\"baxis\":{\"gridcolor\":\"white\",\"linecolor\":\"white\",\"ticks\":\"\"},\"bgcolor\":\"#E5ECF6\",\"caxis\":{\"gridcolor\":\"white\",\"linecolor\":\"white\",\"ticks\":\"\"}},\"title\":{\"x\":0.05},\"xaxis\":{\"automargin\":true,\"gridcolor\":\"white\",\"linecolor\":\"white\",\"ticks\":\"\",\"title\":{\"standoff\":15},\"zerolinecolor\":\"white\",\"zerolinewidth\":2},\"yaxis\":{\"automargin\":true,\"gridcolor\":\"white\",\"linecolor\":\"white\",\"ticks\":\"\",\"title\":{\"standoff\":15},\"zerolinecolor\":\"white\",\"zerolinewidth\":2}}}},                        {\"responsive\": true}                    ).then(function(){\n",
       "                            \n",
       "var gd = document.getElementById('6b01e2cb-59df-494b-a20b-20557a2ec297');\n",
       "var x = new MutationObserver(function (mutations, observer) {{\n",
       "        var display = window.getComputedStyle(gd).display;\n",
       "        if (!display || display === 'none') {{\n",
       "            console.log([gd, 'removed!']);\n",
       "            Plotly.purge(gd);\n",
       "            observer.disconnect();\n",
       "        }}\n",
       "}});\n",
       "\n",
       "// Listen for the removal of the full notebook cells\n",
       "var notebookContainer = gd.closest('#notebook-container');\n",
       "if (notebookContainer) {{\n",
       "    x.observe(notebookContainer, {childList: true});\n",
       "}}\n",
       "\n",
       "// Listen for the clearing of the current output cell\n",
       "var outputEl = gd.closest('.output');\n",
       "if (outputEl) {{\n",
       "    x.observe(outputEl, {childList: true});\n",
       "}}\n",
       "\n",
       "                        })                };                });            </script>        </div>"
      ]
     },
     "metadata": {},
     "output_type": "display_data"
    }
   ],
   "source": [
    "def plot_SODA_optical_depth(ACTIVATE, field, fill_value, scale_factor = 1):\n",
    "    \n",
    "    df = ACTIVATE[[\"lat\", \"long\", field]].query(f\"{field} != {fill_value}\")\n",
    "    \n",
    "    fig = go.Figure()\n",
    "    \n",
    "    fig.add_trace(\n",
    "        go.Scattergeo(\n",
    "            lon = (-1 * df[\"long\"]),\n",
    "            lat = df[\"lat\"],\n",
    "            hoverinfo = \"text\",\n",
    "            text = field + \": \" + (df[field] * scale_factor).astype(str),\n",
    "            mode = \"markers\",\n",
    "            marker = dict(size = 2, color = df[field])\n",
    "        )\n",
    "    )\n",
    "    \n",
    "    fig.update_layout(margin=dict(l=1, r=1, t=1, b=1))\n",
    "    fig.show()\n",
    "\n",
    "plot_SODA_optical_depth(ACTIVATE, \"Optical_Depth_MODIS_550\", -32768, 0.001)"
   ]
  },
  {
   "cell_type": "code",
   "execution_count": null,
   "id": "67b005ab-9636-4687-be56-e3a9dfee4883",
   "metadata": {},
   "outputs": [],
   "source": []
  }
 ],
 "metadata": {
  "kernelspec": {
   "display_name": "Python 3",
   "language": "python",
   "name": "python3"
  },
  "language_info": {
   "codemirror_mode": {
    "name": "ipython",
    "version": 3
   },
   "file_extension": ".py",
   "mimetype": "text/x-python",
   "name": "python",
   "nbconvert_exporter": "python",
   "pygments_lexer": "ipython3",
   "version": "3.8.8"
  }
 },
 "nbformat": 4,
 "nbformat_minor": 5
}
