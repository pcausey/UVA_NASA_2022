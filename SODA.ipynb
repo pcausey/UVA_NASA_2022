{
 "cells": [
  {
   "cell_type": "code",
   "execution_count": 2,
   "id": "d91005c4-2178-4f27-8ca3-6daf50228d5a",
   "metadata": {},
   "outputs": [],
   "source": [
    "from pyhdf.SD import SD, SDC\n",
    "import h5py\n",
    "import os\n",
    "import pandas as pd\n",
    "import numpy as np\n",
    "from datetime import datetime, timedelta\n",
    "import icare\n",
    "import sunrise\n",
    "import nasa_plotting_scripts as nasa\n",
    "import plotly.graph_objects as go"
   ]
  },
  {
   "cell_type": "code",
   "execution_count": 2,
   "id": "1846efba-1e4d-4dc2-a476-82d2bd2eaafe",
   "metadata": {
    "tags": []
   },
   "outputs": [
    {
     "name": "stdin",
     "output_type": "stream",
     "text": [
      "ICARE Username: jpeele\n",
      "ICARE Password: ···············\n"
     ]
    }
   ],
   "source": [
    "session = icare.ICARESession('/Users/jackpeele/Documents/Data Science/NASA/HDF')\n",
    "# folder = session.listdir('CALIOP/SODA-333m.v2.00/2010/2010_03_02/')"
   ]
  },
  {
   "cell_type": "code",
   "execution_count": 5,
   "id": "4a70588e-5ffb-4dd3-bec0-10f253107782",
   "metadata": {
    "tags": []
   },
   "outputs": [],
   "source": [
    "root = 'CALIOP/SODA-333m.v2.00/2010/2010_03_04/'\n",
    "\n",
    "def find_ACTIVATE(root):\n",
    "    folder = session.listdir(root)\n",
    "    PATH = []\n",
    "\n",
    "    for data in folder:\n",
    "\n",
    "        path = session.get_file(root + data)\n",
    "        file = SD(path, SDC.READ)\n",
    "\n",
    "        lat = np.array(file.select('Latitude').get())\n",
    "        lon = np.array(file.select('Longitude').get())\n",
    "        \n",
    "        indices = np.where((lat > 32) & (lat < 39) & (lon > 70) & (lon < 75))\n",
    "        \n",
    "#         print(len(indices))\n",
    "#         print(indices)\n",
    "        \n",
    "        if len(indices[0]) > 0:\n",
    "            print(path)\n",
    "            PATH.append(path)\n",
    "    \n",
    "    return PATH\n",
    "\n",
    "# find_ACTIVATE(root)"
   ]
  },
  {
   "cell_type": "code",
   "execution_count": null,
   "id": "9e658fca-eb84-4b01-bfd2-266463754a1d",
   "metadata": {},
   "outputs": [
    {
     "name": "stdout",
     "output_type": "stream",
     "text": [
      "0\n",
      "1\n",
      "2\n",
      "3\n",
      "/Users/jackpeele/Documents/Data Science/NASA/HDF/CALIOP/SODA-333m.v2.00/2010/2010_03_04/SODA-333m_2010-03-04T21-18-45ZN_V2-00.hdf\n",
      "4\n",
      "/Users/jackpeele/Documents/Data Science/NASA/HDF/CALIOP/SODA-333m.v2.00/2010/2010_03_05/SODA-333m_2010-03-05T07-58-31ZD_V2-00.hdf\n",
      "5\n"
     ]
    }
   ],
   "source": [
    "def find_ACTIVATE_in_range(root, rng):\n",
    "    '''\n",
    "    parse through folders, determine which days contain ACTIVATE region\n",
    "    '''\n",
    "    \n",
    "    MATCH = []\n",
    "    \n",
    "    for i in range(rng):\n",
    "        print(i)\n",
    "\n",
    "        i += 1\n",
    "        # root = 'CALIOP/SODA-333m.v2.00/2010/2010_03_'\n",
    "\n",
    "        if i < 10:\n",
    "            i = '0' + str(i) + '/'\n",
    "        else:\n",
    "            i = str(i) + '/'\n",
    "\n",
    "        new_root = root + i\n",
    "\n",
    "        MATCH.append(find_ACTIVATE(new_root))\n",
    "    \n",
    "    return MATCH\n",
    "        \n",
    "\n",
    "a = find_ACTIVATE_in_range('CALIOP/SODA-333m.v2.00/2010/2010_03_', 10)"
   ]
  },
  {
   "cell_type": "code",
   "execution_count": null,
   "id": "8ffb4ad6-8d02-46b4-9997-47fd91c9de9a",
   "metadata": {},
   "outputs": [],
   "source": [
    "# Match\n",
    "\n",
    "# /Users/jackpeele/Documents/Data Science/NASA/HDF/CALIOP/SODA-333m.v2.00/2010/2010_03_04/SODA-333m_2010-03-04T21-18-45ZN_V2-00.hdf\n",
    "# /Users/jackpeele/Documents/Data Science/NASA/HDF/CALIOP/SODA-333m.v2.00/2010/2010_03_05/SODA-333m_2010-03-05T07-58-31ZD_V2-00.hdf\n",
    "# /Users/jackpeele/Documents/Data Science/NASA/HDF/CALIOP/SODA-333m.v2.00/2010/2010_03_06/SODA-333m_2010-03-06T21-06-36ZN_V2-00.hdf\n",
    "# /Users/jackpeele/Documents/Data Science/NASA/HDF/CALIOP/SODA-333m.v2.00/2010/2010_03_07/SODA-333m_2010-03-07T07-46-22ZD_V2-00.hdf\n",
    "# /Users/jackpeele/Documents/Data Science/NASA/HDF/CALIOP/SODA-333m.v2.00/2010/2010_03_08/SODA-333m_2010-03-08T20-54-27ZN_V2-00.hdf\n",
    "# /Users/jackpeele/Documents/Data Science/NASA/HDF/CALIOP/SODA-333m.v2.00/2010/2010_03_12/SODA-333m_2010-03-12T08-05-28ZD_V2-00.hdf\n",
    "# /Users/jackpeele/Documents/Data Science/NASA/HDF/CALIOP/SODA-333m.v2.00/2010/2010_03_13/SODA-333m_2010-03-13T21-13-33ZN_V2-00.hdf\n",
    "# /Users/jackpeele/Documents/Data Science/NASA/HDF/CALIOP/SODA-333m.v2.00/2010/2010_03_14/SODA-333m_2010-03-14T07-53-20ZD_V2-00.hdf\n",
    "# /Users/jackpeele/Documents/Data Science/NASA/HDF/CALIOP/SODA-333m.v2.00/2010/2010_03_15/SODA-333m_2010-03-15T21-01-25ZN_V2-00.hdf\n",
    "# /Users/jackpeele/Documents/Data Science/NASA/HDF/CALIOP/SODA-333m.v2.00/2010/2010_03_20/SODA-333m_2010-03-20T21-20-34ZN_V2-00.hdf\n",
    "# /Users/jackpeele/Documents/Data Science/NASA/HDF/CALIOP/SODA-333m.v2.00/2010/2010_03_21/SODA-333m_2010-03-21T08-00-20ZD_V2-00.hdf\n",
    "# /Users/jackpeele/Documents/Data Science/NASA/HDF/CALIOP/SODA-333m.v2.00/2010/2010_03_22/SODA-333m_2010-03-22T21-08-25ZN_V2-00.hdf\n",
    "# /Users/jackpeele/Documents/Data Science/NASA/HDF/CALIOP/SODA-333m.v2.00/2010/2010_03_23/SODA-333m_2010-03-23T07-48-11ZD_V2-00.hdf\n",
    "# /Users/jackpeele/Documents/Data Science/NASA/HDF/CALIOP/SODA-333m.v2.00/2010/2010_03_24/SODA-333m_2010-03-24T20-56-16ZN_V2-00.hdf\n",
    "# /Users/jackpeele/Documents/Data Science/NASA/HDF/CALIOP/SODA-333m.v2.00/2010/2010_03_28/SODA-333m_2010-03-28T08-07-18ZD_V2-00.hdf\n",
    "# /Users/jackpeele/Documents/Data Science/NASA/HDF/CALIOP/SODA-333m.v2.00/2010/2010_03_29/SODA-333m_2010-03-29T21-15-22ZN_V2-00.hdf\n",
    "# /Users/jackpeele/Documents/Data Science/NASA/HDF/CALIOP/SODA-333m.v2.00/2010/2010_03_31/SODA-333m_2010-03-31T21-03-14ZN_V2-00.hdf"
   ]
  },
  {
   "cell_type": "code",
   "execution_count": null,
   "id": "de0f9565-68c9-44e9-93aa-705a1a17df7f",
   "metadata": {},
   "outputs": [],
   "source": [
    "path = session.get_file('CALIOP/SODA-333m.v2.00/2010/2010_03_24/SODA-333m_2010-03-24T20-56-16ZN_V2-00.hdf')\n",
    "file = SD(path, SDC.READ)"
   ]
  },
  {
   "cell_type": "code",
   "execution_count": null,
   "id": "408de18b-928f-40bf-b5cd-8e289fafef7b",
   "metadata": {
    "tags": []
   },
   "outputs": [],
   "source": [
    "datasets_dic = file.datasets()\n",
    "\n",
    "for idx,sds in enumerate(datasets_dic.keys()):\n",
    "    print(idx,sds)"
   ]
  },
  {
   "cell_type": "code",
   "execution_count": null,
   "id": "554b7fd7-5424-4176-9be7-ac52dc8cd88b",
   "metadata": {},
   "outputs": [],
   "source": [
    "lat = file.select('Latitude').get()\n",
    "lon = file.select('Longitude').get()\n",
    "temp = pd.DataFrame({'lat': lat, 'long': lon})"
   ]
  },
  {
   "cell_type": "code",
   "execution_count": null,
   "id": "cb6e73a5-6f5f-4ec2-9c72-17b9bf9a6c94",
   "metadata": {},
   "outputs": [],
   "source": [
    "index = np.array(temp.query('lat > 32 & lat < 39 & long > 70 & long < 75').index)"
   ]
  },
  {
   "cell_type": "code",
   "execution_count": null,
   "id": "3e8823a4-e506-4ca9-beb9-44a58c941c6a",
   "metadata": {},
   "outputs": [],
   "source": [
    "time = file.select('TAI_Time').get()\n",
    "temp['tai_time'] = time"
   ]
  },
  {
   "cell_type": "code",
   "execution_count": null,
   "id": "87771043-81c9-4c0d-9a26-0ee06ffcd94f",
   "metadata": {},
   "outputs": [],
   "source": [
    "ACTIVATE = temp.loc[index]"
   ]
  },
  {
   "cell_type": "code",
   "execution_count": null,
   "id": "deaf5691-9617-413f-b223-09089a6127de",
   "metadata": {},
   "outputs": [],
   "source": [
    "def ACTIVATE_time_to_utc(time):\n",
    "    \n",
    "    # https://hpiers.obspm.fr/eop-pc/index.php?index=TAI-UTC_tab&lang=en\n",
    "    # leap seconds for a given date\n",
    "    \n",
    "    UTC = []\n",
    "    \n",
    "    for t in time:\n",
    "        utc = datetime(1993, 1, 1) + timedelta(seconds = t - (34 - 27))\n",
    "        UTC.append(utc)\n",
    "    \n",
    "    return UTC"
   ]
  },
  {
   "cell_type": "code",
   "execution_count": null,
   "id": "7c32a5de-593e-4be3-b18e-0bbbf8797912",
   "metadata": {},
   "outputs": [],
   "source": [
    "ACTIVATE['utc'] = ACTIVATE_time_to_utc(ACTIVATE['tai_time'])"
   ]
  },
  {
   "cell_type": "code",
   "execution_count": null,
   "id": "a55645d3-2635-45b4-83a0-4aed1c5a4448",
   "metadata": {},
   "outputs": [],
   "source": [
    "def find_sunrise(ACTIVATE):\n",
    "    \n",
    "    # do I need to adjust time zones?\n",
    "    \n",
    "    SRISE = []\n",
    "    \n",
    "    for i in range(len(ACTIVATE)):\n",
    "        s = sunrise.sun(lat = list(ACTIVATE['lat'])[i], long = list(ACTIVATE['long'])[i])\n",
    "        srise = s.sunrise(when = list(ACTIVATE['utc'])[i])\n",
    "        SRISE.append(srise)\n",
    "    \n",
    "    return SRISE        "
   ]
  },
  {
   "cell_type": "code",
   "execution_count": null,
   "id": "9c2f05de-e437-4d68-bb7b-c897c8d0b780",
   "metadata": {},
   "outputs": [],
   "source": [
    "ACTIVATE['sunrise'] = find_sunrise(ACTIVATE)"
   ]
  },
  {
   "cell_type": "code",
   "execution_count": null,
   "id": "dbaccbbc-cfa8-4207-b7fb-fcd604912415",
   "metadata": {},
   "outputs": [],
   "source": [
    "def find_sunset(ACTIVATE):\n",
    "    \n",
    "    # do I need to adjust time zones?\n",
    "    \n",
    "    SSET = []\n",
    "    \n",
    "    for i in range(len(ACTIVATE)):\n",
    "        s = sunrise.sun(lat = list(ACTIVATE['lat'])[i], long = list(ACTIVATE['long'])[i])\n",
    "        sset = s.sunset(when = list(ACTIVATE['utc'])[i])\n",
    "        SSET.append(sset)\n",
    "    \n",
    "    return SSET    "
   ]
  },
  {
   "cell_type": "code",
   "execution_count": null,
   "id": "b3778d06-df2c-4f3d-9b5b-6741a7de5345",
   "metadata": {},
   "outputs": [],
   "source": [
    "ACTIVATE['sunset'] = find_sunset(ACTIVATE)"
   ]
  },
  {
   "cell_type": "code",
   "execution_count": null,
   "id": "7bb6f3e5-6902-437e-b582-4e247b065410",
   "metadata": {
    "tags": []
   },
   "outputs": [],
   "source": [
    "ACTIVATE['month'] = [x.month for x in ACTIVATE.utc]\n",
    "ACTIVATE['day'] = [x.day for x in ACTIVATE.utc]\n",
    "ACTIVATE['year'] = [x.year for x in ACTIVATE.utc]\n",
    "ACTIVATE['hour'] = [x.hour for x in ACTIVATE.sunrise]\n",
    "ACTIVATE['minute'] = [x.minute for x in ACTIVATE.sunrise]\n",
    "ACTIVATE['second'] = [x.second for x in ACTIVATE.sunrise]\n",
    "\n",
    "ACTIVATE['sunrise'] = pd.to_datetime(ACTIVATE[['year', 'month', 'day', 'hour', 'minute', 'second']]) "
   ]
  },
  {
   "cell_type": "code",
   "execution_count": null,
   "id": "a44bcaf3-189a-4740-afe5-9b781f23613d",
   "metadata": {},
   "outputs": [],
   "source": [
    "ACTIVATE['hour'] = [x.hour for x in ACTIVATE.sunset]\n",
    "ACTIVATE['minute'] = [x.minute for x in ACTIVATE.sunset]\n",
    "ACTIVATE['second'] = [x.second for x in ACTIVATE.sunset]\n",
    "\n",
    "ACTIVATE['sunset'] = pd.to_datetime(ACTIVATE[['year', 'month', 'day', 'hour', 'minute', 'second']]) "
   ]
  },
  {
   "cell_type": "code",
   "execution_count": null,
   "id": "cccf740d-b7b9-454a-8c9f-af545bf74ae5",
   "metadata": {},
   "outputs": [],
   "source": [
    "ACTIVATE.drop(['month', 'day', 'year', 'hour', 'minute', 'second'], axis = 1, inplace = True)"
   ]
  },
  {
   "cell_type": "code",
   "execution_count": null,
   "id": "41ae50d4-7897-4c56-9980-ef9f7d86c15d",
   "metadata": {},
   "outputs": [],
   "source": [
    "ACTIVATE"
   ]
  },
  {
   "cell_type": "code",
   "execution_count": null,
   "id": "7d5de3a8-cf77-4186-9db2-b2e79c861a2c",
   "metadata": {},
   "outputs": [],
   "source": [
    "DN = []\n",
    "\n",
    "for i in range(len(ACTIVATE)):\n",
    "    if list(ACTIVATE.utc)[i] > list(ACTIVATE.sunrise)[i] and list(ACTIVATE.utc)[i] < list(ACTIVATE.sunset)[i]:\n",
    "        dn = 'day'\n",
    "        DN.append(dn)\n",
    "    else:\n",
    "        dn = 'night'\n",
    "        DN.append(dn)"
   ]
  },
  {
   "cell_type": "code",
   "execution_count": null,
   "id": "8aae3287-4063-4f3f-a3ea-3ff6bc2c7f3b",
   "metadata": {},
   "outputs": [],
   "source": [
    "ACTIVATE['day_or_night'] = DN"
   ]
  },
  {
   "cell_type": "code",
   "execution_count": null,
   "id": "1d436359-0407-4a8f-9021-90d1a20c2aaa",
   "metadata": {},
   "outputs": [],
   "source": [
    "# are time zones the same?\n",
    "\n",
    "ACTIVATE"
   ]
  },
  {
   "cell_type": "code",
   "execution_count": null,
   "id": "f710d57e-50cb-4568-ae43-382b787d4d89",
   "metadata": {},
   "outputs": [],
   "source": [
    "# temp['Optical_Depth_CPR_CAL532'] = file.select('Optical_Depth_CPR_CAL532').get()"
   ]
  },
  {
   "cell_type": "code",
   "execution_count": null,
   "id": "44869da7-1a26-478e-af49-6d4a0673401f",
   "metadata": {},
   "outputs": [],
   "source": [
    "# ACTIVATE['Optical_Depth_CPR_CAL532'] = temp.Optical_Depth_CPR_CAL532.loc[index]"
   ]
  },
  {
   "cell_type": "code",
   "execution_count": null,
   "id": "215cd15c-24ad-4334-aa9a-88cc4780ad84",
   "metadata": {},
   "outputs": [],
   "source": [
    "# ACTIVATE.Optical_Depth_CPR_CAL532[ACTIVATE.Optical_Depth_CPR_CAL532 != -32768]"
   ]
  },
  {
   "cell_type": "code",
   "execution_count": null,
   "id": "3bb5d6c8-718d-4aba-bdb8-04b8acab249c",
   "metadata": {},
   "outputs": [],
   "source": [
    "datasets_dic = file.datasets()\n",
    "\n",
    "OD = []\n",
    "\n",
    "for idx,sds in enumerate(datasets_dic.keys()):\n",
    "    if \"Optical_Depth\" in sds and \"Error\" not in sds:\n",
    "        OD.append(sds)"
   ]
  },
  {
   "cell_type": "code",
   "execution_count": null,
   "id": "46a6263d-ccfd-48ee-a1c5-0f07d291d207",
   "metadata": {},
   "outputs": [],
   "source": [
    "has_data = []\n",
    "\n",
    "for i in OD:\n",
    "    temp[i] = file.select(i).get()\n",
    "    ACTIVATE[i] = temp[i].loc[index]\n",
    "    if len(ACTIVATE[i][ACTIVATE[i] != -32768]) > 1:\n",
    "        has_data.append(i)"
   ]
  },
  {
   "cell_type": "code",
   "execution_count": null,
   "id": "c9c71dab-8894-4475-bf8c-2986f39a6f75",
   "metadata": {},
   "outputs": [],
   "source": [
    "ACTIVATE"
   ]
  },
  {
   "cell_type": "code",
   "execution_count": null,
   "id": "2b71aa1b-e9db-4b84-a974-821cc3e8a3b0",
   "metadata": {},
   "outputs": [],
   "source": [
    "has_data"
   ]
  },
  {
   "cell_type": "code",
   "execution_count": null,
   "id": "55379332-8c1b-450d-920d-0e7ec9d96efe",
   "metadata": {},
   "outputs": [],
   "source": [
    "def plot_SODA_optical_depth(ACTIVATE, field, fill_value, scale_factor = 1):\n",
    "    \n",
    "    df = ACTIVATE[[\"lat\", \"long\", field]].query(f\"{field} != {fill_value}\")\n",
    "    \n",
    "    fig = go.Figure()\n",
    "    \n",
    "    fig.add_trace(\n",
    "        go.Scattergeo(\n",
    "            lon = (-1 * df[\"long\"]),\n",
    "            lat = df[\"lat\"],\n",
    "            hoverinfo = \"text\",\n",
    "            text = field + \": \" + (df[field] * scale_factor).astype(str),\n",
    "            mode = \"markers\",\n",
    "            marker = dict(size = 2, color = df[field])\n",
    "        )\n",
    "    )\n",
    "    \n",
    "    fig.update_layout(margin=dict(l=1, r=1, t=1, b=1))\n",
    "    fig.show()\n",
    "\n",
    "plot_SODA_optical_depth(ACTIVATE, \"Optical_Depth_MODIS_550\", -32768, 0.001)"
   ]
  },
  {
   "cell_type": "code",
   "execution_count": null,
   "id": "67b005ab-9636-4687-be56-e3a9dfee4883",
   "metadata": {},
   "outputs": [],
   "source": []
  }
 ],
 "metadata": {
  "kernelspec": {
   "display_name": "Python 3",
   "language": "python",
   "name": "python3"
  },
  "language_info": {
   "codemirror_mode": {
    "name": "ipython",
    "version": 3
   },
   "file_extension": ".py",
   "mimetype": "text/x-python",
   "name": "python",
   "nbconvert_exporter": "python",
   "pygments_lexer": "ipython3",
   "version": "3.8.8"
  }
 },
 "nbformat": 4,
 "nbformat_minor": 5
}
